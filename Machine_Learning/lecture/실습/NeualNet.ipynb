{
 "cells": [
  {
   "cell_type": "code",
   "execution_count": null,
   "id": "47bdec3a",
   "metadata": {},
   "outputs": [],
   "source": [
    "from tensorflow.keras import Model, layers\n",
    "\n",
    "class NuralNet(Model):\n",
    "    def __init__(self):\n",
    "        super(NuralNet, self).__init__()\n",
    "        self.fc1 = layers.Dense(128, activation = tf.nn.relu)\n",
    "        self.fc2 = layers.Dense(256, activation = tf.nn.relu)\n",
    "        self.out = layers.Dense(num_classes)\n",
    "        \n",
    "    def call(self, x, is_training = False):\n",
    "        x = self.fc1(x)\n",
    "        x = self.fc2(x)\n",
    "        x = self.out(x)\n",
    "        if not is training:\n",
    "            x = tf.nn.softmax(x)\n",
    "        return x\n",
    "    \n",
    "neural_net = NeuralNet()"
   ]
  }
 ],
 "metadata": {
  "kernelspec": {
   "display_name": "Python 3 (ipykernel)",
   "language": "python",
   "name": "python3"
  },
  "language_info": {
   "codemirror_mode": {
    "name": "ipython",
    "version": 3
   },
   "file_extension": ".py",
   "mimetype": "text/x-python",
   "name": "python",
   "nbconvert_exporter": "python",
   "pygments_lexer": "ipython3",
   "version": "3.8.11"
  }
 },
 "nbformat": 4,
 "nbformat_minor": 5
}
