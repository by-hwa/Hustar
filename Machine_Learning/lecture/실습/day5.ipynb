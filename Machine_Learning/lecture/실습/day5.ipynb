{
 "cells": [
  {
   "cell_type": "code",
   "execution_count": 19,
   "id": "df3f8b16",
   "metadata": {},
   "outputs": [
    {
     "ename": "ModuleNotFoundError",
     "evalue": "No module named 'tensorflow_datasets'",
     "output_type": "error",
     "traceback": [
      "\u001b[1;31m---------------------------------------------------------------------------\u001b[0m",
      "\u001b[1;31mModuleNotFoundError\u001b[0m                       Traceback (most recent call last)",
      "\u001b[1;32mC:\\Users\\BYEONG~1\\AppData\\Local\\Temp/ipykernel_16560/39652727.py\u001b[0m in \u001b[0;36m<module>\u001b[1;34m\u001b[0m\n\u001b[0;32m      2\u001b[0m \u001b[1;32mimport\u001b[0m \u001b[0mtensorflow\u001b[0m \u001b[1;32mas\u001b[0m \u001b[0mtf\u001b[0m\u001b[1;33m\u001b[0m\u001b[1;33m\u001b[0m\u001b[0m\n\u001b[0;32m      3\u001b[0m \u001b[1;32mimport\u001b[0m \u001b[0mmatplotlib\u001b[0m\u001b[1;33m.\u001b[0m\u001b[0mpyplot\u001b[0m \u001b[1;32mas\u001b[0m \u001b[0mplt\u001b[0m\u001b[1;33m\u001b[0m\u001b[1;33m\u001b[0m\u001b[0m\n\u001b[1;32m----> 4\u001b[1;33m \u001b[1;32mimport\u001b[0m \u001b[0mtensorflow_datasets\u001b[0m \u001b[1;32mas\u001b[0m \u001b[0mtfds\u001b[0m\u001b[1;33m\u001b[0m\u001b[1;33m\u001b[0m\u001b[0m\n\u001b[0m\u001b[0;32m      5\u001b[0m \u001b[1;32mfrom\u001b[0m \u001b[0mtensorflow\u001b[0m\u001b[1;33m.\u001b[0m\u001b[0mkeras\u001b[0m \u001b[1;32mimport\u001b[0m \u001b[0mModel\u001b[0m\u001b[1;33m,\u001b[0m \u001b[0mlayers\u001b[0m\u001b[1;33m\u001b[0m\u001b[1;33m\u001b[0m\u001b[0m\n",
      "\u001b[1;31mModuleNotFoundError\u001b[0m: No module named 'tensorflow_datasets'"
     ]
    }
   ],
   "source": [
    "import numpy as np\n",
    "import tensorflow as tf\n",
    "import matplotlib.pyplot as plt\n",
    "import tensorflow_datasets as tfds\n",
    "from tensorflow.keras import Model, layers"
   ]
  },
  {
   "cell_type": "code",
   "execution_count": 6,
   "id": "b93d4c3b",
   "metadata": {},
   "outputs": [],
   "source": [
    "class Encoder(Model):\n",
    "    def __init__(self, latent_dim):\n",
    "        super().__init__()\n",
    "        self.latent_dim=latent_dim\n",
    "        self.encoder = tf.keras.Sequential([layers.Flatten(),\n",
    "                                            layers.Dense(512, activation = 'relu'),\n",
    "                                            layers.Dense(256, activation = 'relu'),\n",
    "                                            layers.Dense(latent_dim*2)\n",
    "        ])\n",
    "        \n",
    "    def call(self, x):\n",
    "        mu, logvar = tf.split(self.encoder(x), 2, axis = 1)\n",
    "        return mu, logvar"
   ]
  },
  {
   "cell_type": "code",
   "execution_count": 7,
   "id": "7e250f50",
   "metadata": {},
   "outputs": [],
   "source": [
    "class Decoder(Model):\n",
    "    def __init__(self, latent_dim):\n",
    "        super().__init__()\n",
    "        self.latent_dim = latent_dim\n",
    "        self.decoder = tf.keras.Sequential([layers.Dense(256, activation = 'relu'),\n",
    "                                           layers.Dense(512, activation = 'relu'),\n",
    "                                           layers.Dense(784, activation = 'sigmoid'),\n",
    "                                           layers.Reshape((28,28,1))])\n",
    "        \n",
    "    def call(self, z):\n",
    "        return self.decoer(z)"
   ]
  },
  {
   "cell_type": "code",
   "execution_count": 12,
   "id": "af48c182",
   "metadata": {},
   "outputs": [],
   "source": [
    "n_epochs = 50\n",
    "latent_dim = 2\n",
    "learning_rate = 1e-3\n",
    "log_interval = 10"
   ]
  },
  {
   "cell_type": "code",
   "execution_count": 13,
   "id": "7e04c8d1",
   "metadata": {},
   "outputs": [],
   "source": [
    "encoder= Encoder(latent_dim)\n",
    "decoder= Decoder(latent_dim)\n",
    "optimizer = tf.keras.optimizers.Adam(learning_rate = learning_rate)"
   ]
  },
  {
   "cell_type": "code",
   "execution_count": 15,
   "id": "3c463833",
   "metadata": {},
   "outputs": [],
   "source": [
    "def train_step(inputs):\n",
    "    with tf.GradientTape() as tape:\n",
    "        mu, logvar = encoder(inputs)\n",
    "        z = sample(nu, logvar)\n",
    "        x_recon = decoder(z)\n",
    "        reconstruction_error = tf.reduce_sum(tf.loss.binary_crossentropy(inputs, x_recon))\n",
    "        kl = 0.5 * tf.reduce_sum(tf.exp(logvar)+tf.square(mu)-1,-logvar)\n",
    "        loss = (kl+reconstruction_error)/inputs.shape[0]\n",
    "        \n",
    "    vars = encoder.trainable_variables+decoder.trainable_variables\n",
    "    grads = tape.gradient(loss, vars_)\n",
    "    optimizer.apply_gradients(zip(grads_, vars_))\n",
    "    \n",
    "    return loss, reconstruction_error, kl"
   ]
  },
  {
   "cell_type": "code",
   "execution_count": 18,
   "id": "894c80df",
   "metadata": {},
   "outputs": [
    {
     "ename": "TypeError",
     "evalue": "load_data() got an unexpected keyword argument 'split'",
     "output_type": "error",
     "traceback": [
      "\u001b[1;31m---------------------------------------------------------------------------\u001b[0m",
      "\u001b[1;31mTypeError\u001b[0m                                 Traceback (most recent call last)",
      "\u001b[1;32mC:\\Users\\BYEONG~1\\AppData\\Local\\Temp/ipykernel_16560/1741045795.py\u001b[0m in \u001b[0;36m<module>\u001b[1;34m\u001b[0m\n\u001b[1;32m----> 1\u001b[1;33m \u001b[0mdataset\u001b[0m \u001b[1;33m=\u001b[0m \u001b[0mtf\u001b[0m\u001b[1;33m.\u001b[0m\u001b[0mkeras\u001b[0m\u001b[1;33m.\u001b[0m\u001b[0mdatasets\u001b[0m\u001b[1;33m.\u001b[0m\u001b[0mmnist\u001b[0m\u001b[1;33m.\u001b[0m\u001b[0mload_data\u001b[0m\u001b[1;33m(\u001b[0m\u001b[1;34m'mnist'\u001b[0m\u001b[1;33m,\u001b[0m \u001b[0msplit\u001b[0m\u001b[1;33m=\u001b[0m\u001b[1;34m'train'\u001b[0m\u001b[1;33m)\u001b[0m\u001b[1;33m\u001b[0m\u001b[1;33m\u001b[0m\u001b[0m\n\u001b[0m\u001b[0;32m      2\u001b[0m \u001b[0mtrain_data\u001b[0m\u001b[1;33m=\u001b[0m\u001b[0mdataset\u001b[0m\u001b[1;33m.\u001b[0m\u001b[0mmap\u001b[0m\u001b[1;33m(\u001b[0m\u001b[1;32mlambda\u001b[0m \u001b[0mdata\u001b[0m\u001b[1;33m:\u001b[0m\u001b[0mtf\u001b[0m\u001b[1;33m.\u001b[0m\u001b[0mcast\u001b[0m\u001b[1;33m(\u001b[0m\u001b[0mdata\u001b[0m\u001b[1;33m[\u001b[0m\u001b[1;34m'image'\u001b[0m\u001b[1;33m]\u001b[0m\u001b[1;33m.\u001b[0m\u001b[0mtf\u001b[0m\u001b[1;33m.\u001b[0m\u001b[0mfloat32\u001b[0m\u001b[1;33m)\u001b[0m\u001b[1;33m/\u001b[0m\u001b[1;36m255.\u001b[0m\u001b[1;33m)\u001b[0m\u001b[1;33m.\u001b[0m\u001b[0mbatch\u001b[0m\u001b[1;33m(\u001b[0m\u001b[1;36m1024\u001b[0m\u001b[1;33m)\u001b[0m\u001b[1;33m\u001b[0m\u001b[1;33m\u001b[0m\u001b[0m\n\u001b[0;32m      3\u001b[0m \u001b[1;33m\u001b[0m\u001b[0m\n\u001b[0;32m      4\u001b[0m \u001b[1;33m\u001b[0m\u001b[0m\n\u001b[0;32m      5\u001b[0m \u001b[1;32mfor\u001b[0m \u001b[0mepoch\u001b[0m \u001b[1;32min\u001b[0m \u001b[0mrange\u001b[0m\u001b[1;33m(\u001b[0m\u001b[1;36m1\u001b[0m\u001b[1;33m,\u001b[0m \u001b[0mn_epochs\u001b[0m\u001b[1;33m+\u001b[0m\u001b[1;36m1\u001b[0m\u001b[1;33m)\u001b[0m\u001b[1;33m:\u001b[0m\u001b[1;33m\u001b[0m\u001b[1;33m\u001b[0m\u001b[0m\n",
      "\u001b[1;31mTypeError\u001b[0m: load_data() got an unexpected keyword argument 'split'"
     ]
    }
   ],
   "source": [
    "dataset = tf.keras.datasets.mnist.load_data('mnist', split='train')\n",
    "train_data=dataset.map(lambda data:tf.cast(data['image'].tf.float32)/255.).batch(1024)\n",
    "\n",
    "\n",
    "for epoch in range(1, n_epochs+1):\n",
    "    total_loss, total_recon, total_kl = 0, 0, 0\n",
    "    for x in train_data:\n",
    "        loss.recon, kl=train_step(x)\n",
    "        total_loss += loss * x.shape[0]\n",
    "        total_recon += recon\n",
    "        total_kl += kl\n",
    "        \n",
    "        if epoch%log_interval == 0:\n",
    "            print(f'{epoch:3d} iteration : ELBO{total_loss/len(dataset):.df}.'\\\n",
    "            f'Recon {totla_recon / len(dataset):.2f}.'\\\n",
    "                 f'KL{total_kl/len(dataset):2f}')"
   ]
  },
  {
   "cell_type": "code",
   "execution_count": null,
   "id": "33e69d8d",
   "metadata": {},
   "outputs": [],
   "source": []
  }
 ],
 "metadata": {
  "kernelspec": {
   "display_name": "Python 3 (ipykernel)",
   "language": "python",
   "name": "python3"
  },
  "language_info": {
   "codemirror_mode": {
    "name": "ipython",
    "version": 3
   },
   "file_extension": ".py",
   "mimetype": "text/x-python",
   "name": "python",
   "nbconvert_exporter": "python",
   "pygments_lexer": "ipython3",
   "version": "3.8.11"
  }
 },
 "nbformat": 4,
 "nbformat_minor": 5
}
