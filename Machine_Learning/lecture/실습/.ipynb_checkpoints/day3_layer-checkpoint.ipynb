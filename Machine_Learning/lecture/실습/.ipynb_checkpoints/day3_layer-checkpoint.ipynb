{
 "cells": [
  {
   "cell_type": "code",
   "execution_count": 1,
   "id": "49e1680c",
   "metadata": {},
   "outputs": [],
   "source": [
    "import tensorflow as tf\n",
    "import numpy as np\n",
    "import matplotlib.pyplot as plt\n",
    "import random\n",
    "\n",
    "random.seed(1)\n",
    "np.random.seed(1)\n",
    "tf.random.set_seed(1)"
   ]
  },
  {
   "cell_type": "code",
   "execution_count": 2,
   "id": "86274db9",
   "metadata": {},
   "outputs": [],
   "source": [
    "(x_train, y_train), (x_test, y_test) = tf.keras.datasets.mnist.load_data()\n",
    "\n",
    "x_train = x_train.astype('float32')\n",
    "x_test = x_test.astype('float32')\n",
    "\n",
    "num_classes = 10\n",
    "num_features = 784\n",
    "\n",
    "x_train, x_test = tf.reshape(x_train, [-1, 784]), tf.reshape(x_test, [-1, 784])\n",
    "x_train = x_train / 255.\n",
    "x_test = x_test/255."
   ]
  },
  {
   "cell_type": "code",
   "execution_count": 28,
   "id": "76f503a2",
   "metadata": {},
   "outputs": [],
   "source": [
    "from tensorflow.keras import Model, layers\n",
    "\n",
    "class NeuralNet(Model):\n",
    "    def __init__(self):\n",
    "        super().__init__()\n",
    "        self.fc1 = layers.Dense(128, activation = tf.nn.relu)\n",
    "        self.fc2 = layers.Dense(256, activation = tf.nn.relu)\n",
    "        self.out = layers.Dense(num_classes)\n",
    "        \n",
    "    def call(self, x, is_training = False):\n",
    "        x = self.fc1(x)\n",
    "        x = self.fc2(x)\n",
    "        x = self.out(x)\n",
    "        if not is_training:\n",
    "            x = tf.nn.softmax(x)\n",
    "        return x"
   ]
  },
  {
   "cell_type": "code",
   "execution_count": 29,
   "id": "4452d319",
   "metadata": {},
   "outputs": [],
   "source": [
    "neural_net = NeuralNet()"
   ]
  },
  {
   "cell_type": "code",
   "execution_count": 33,
   "id": "ebc5cdc1",
   "metadata": {},
   "outputs": [],
   "source": [
    "def cross_entropy_loss(x,y):\n",
    "    y = tf.cast(y,tf.int64)\n",
    "    loss = tf.nn.sparse_softmax_cross_entropy_with_logits(labels = y, logits = x)\n",
    "    return tf.reduce_mean(loss)"
   ]
  },
  {
   "cell_type": "code",
   "execution_count": 40,
   "id": "07c711b4",
   "metadata": {},
   "outputs": [],
   "source": [
    "lr = 0.01\n",
    "optimizer = tf.optimizers.SGD(lr)\n",
    "\n",
    "def run_optimization(x, y):\n",
    "    with tf.GradientTape() as g:\n",
    "        pred = neural_net(x, is_training=False)\n",
    "        loss = cross_entropy_loss(pred, y)\n",
    "        \n",
    "    parameters = neural_net.trainable_variables\n",
    "    gradients = g.gradient(loss, parameters)\n",
    "    optimizer.apply_gradients(zip(gradients, parameters))"
   ]
  },
  {
   "cell_type": "code",
   "execution_count": 41,
   "id": "ee01443b",
   "metadata": {},
   "outputs": [
    {
     "name": "stdout",
     "output_type": "stream",
     "text": [
      "epoch :  4 loss :  1.8014697 acc :  0.71\n",
      "epoch :  8 loss :  1.7418643 acc :  0.775\n",
      "epoch :  12 loss :  1.706739 acc :  0.785\n",
      "epoch :  16 loss :  1.6601273 acc :  0.805\n",
      "epoch :  20 loss :  1.6339008 acc :  0.845\n",
      "epoch :  24 loss :  1.6306887 acc :  0.855\n",
      "epoch :  28 loss :  1.6272211 acc :  0.845\n",
      "epoch :  32 loss :  1.6157135 acc :  0.86\n",
      "epoch :  36 loss :  1.6374359 acc :  0.835\n",
      "epoch :  40 loss :  1.6093841 acc :  0.86\n"
     ]
    }
   ],
   "source": [
    "batch_size = 200\n",
    "train_data = tf.data.Dataset.from_tensor_slices((x_train, y_train))\n",
    "train_data = train_data.shuffle(60000).batch(batch_size).prefetch(1)\n",
    "\n",
    "epoch = 40\n",
    "display_epoch = 4\n",
    "\n",
    "def accuracy(y_pred, y_true):\n",
    "    correct_prediction = tf.equal(tf.argmax(y_pred,1), tf.cast(y_true, tf.int64))\n",
    "    return tf.reduce_mean(tf.cast(correct_prediction, tf.float32))\n",
    "\n",
    "for epo in range(1,epoch+1):\n",
    "    for setp, (batch_x, batch_y) in enumerate(train_data, 1):\n",
    "        run_optimization(batch_x, batch_y)\n",
    "    \n",
    "    if epo % display_epoch == 0:\n",
    "        pred = neural_net(batch_x)\n",
    "        loss = cross_entropy_loss(pred, batch_y)\n",
    "        acc = accuracy(pred, batch_y)\n",
    "        print('epoch : ', epo, 'loss : ', loss.numpy(), 'acc : ', acc.numpy())"
   ]
  },
  {
   "cell_type": "code",
   "execution_count": 42,
   "id": "ec2814dd",
   "metadata": {},
   "outputs": [
    {
     "name": "stdout",
     "output_type": "stream",
     "text": [
      "Test Accuracy :  0.8412\n"
     ]
    }
   ],
   "source": [
    "pred = neural_net(x_test)\n",
    "print(\"Test Accuracy : \", accuracy(pred, y_test).numpy())"
   ]
  },
  {
   "cell_type": "code",
   "execution_count": 43,
   "id": "96fde664",
   "metadata": {},
   "outputs": [],
   "source": [
    "from tensorflow.keras.models import Sequential\n",
    "from tensorflow.keras.layers import Flatten, Dense\n",
    "from tensorflow.keras.metrics import SparseCategoricalAccuracy"
   ]
  },
  {
   "cell_type": "code",
   "execution_count": 44,
   "id": "964769ab",
   "metadata": {},
   "outputs": [],
   "source": [
    "(x_train, y_train), (x_test, y_test) = tf.keras.datasets.mnist.load_data()\n",
    "\n",
    "x_train = x_train.astype('float32')\n",
    "x_test = x_test.astype('float32')\n",
    "\n",
    "num_classes = 10\n",
    "num_features = 784\n",
    "\n",
    "x_train = x_train / 255.\n",
    "x_test = x_test/255."
   ]
  },
  {
   "cell_type": "code",
   "execution_count": 45,
   "id": "cf5b7879",
   "metadata": {},
   "outputs": [],
   "source": [
    "layer1 = Flatten(input_shape = (28,28))\n",
    "layer2 = Dense(128, activation = 'relu')\n",
    "layer3 = Dense(256, activation = 'relu')\n",
    "layer4 = Dense(10)"
   ]
  },
  {
   "cell_type": "code",
   "execution_count": 46,
   "id": "7b43f01f",
   "metadata": {},
   "outputs": [],
   "source": [
    "mlp = Sequential([layer1, layer2, layer3, layer4])"
   ]
  },
  {
   "cell_type": "code",
   "execution_count": 51,
   "id": "233ba082",
   "metadata": {},
   "outputs": [],
   "source": [
    "mlp.compile(optimizer = tf.keras.optimizers.SGD(0.01),\n",
    "           loss = tf.keras.losses.SparseCategoricalCrossentropy(from_logits = True),\n",
    "           metrics = ['accuracy'])"
   ]
  },
  {
   "cell_type": "code",
   "execution_count": 52,
   "id": "3d2eb376",
   "metadata": {},
   "outputs": [
    {
     "name": "stdout",
     "output_type": "stream",
     "text": [
      "Epoch 1/10\n",
      "1875/1875 [==============================] - 2s 908us/step - loss: 0.6570 - accuracy: 0.8313\n",
      "Epoch 2/10\n",
      "1875/1875 [==============================] - 2s 859us/step - loss: 0.3012 - accuracy: 0.9135\n",
      "Epoch 3/10\n",
      "1875/1875 [==============================] - 2s 857us/step - loss: 0.2486 - accuracy: 0.9289\n",
      "Epoch 4/10\n",
      "1875/1875 [==============================] - 2s 854us/step - loss: 0.2142 - accuracy: 0.9388\n",
      "Epoch 5/10\n",
      "1875/1875 [==============================] - 2s 864us/step - loss: 0.1890 - accuracy: 0.9455\n",
      "Epoch 6/10\n",
      "1875/1875 [==============================] - 2s 874us/step - loss: 0.1694 - accuracy: 0.9514\n",
      "Epoch 7/10\n",
      "1875/1875 [==============================] - 2s 853us/step - loss: 0.1534 - accuracy: 0.9554\n",
      "Epoch 8/10\n",
      "1875/1875 [==============================] - 2s 875us/step - loss: 0.1398 - accuracy: 0.9599\n",
      "Epoch 9/10\n",
      "1875/1875 [==============================] - 2s 1ms/step - loss: 0.1282 - accuracy: 0.9630\n",
      "Epoch 10/10\n",
      "1875/1875 [==============================] - 3s 1ms/step - loss: 0.1186 - accuracy: 0.9655\n"
     ]
    },
    {
     "data": {
      "text/plain": [
       "<tensorflow.python.keras.callbacks.History at 0x1f0ca4af8b0>"
      ]
     },
     "execution_count": 52,
     "metadata": {},
     "output_type": "execute_result"
    }
   ],
   "source": [
    "mlp.fit(x_train, y_train, batch_size = 32, epochs = 10)"
   ]
  }
 ],
 "metadata": {
  "kernelspec": {
   "display_name": "Python 3 (ipykernel)",
   "language": "python",
   "name": "python3"
  },
  "language_info": {
   "codemirror_mode": {
    "name": "ipython",
    "version": 3
   },
   "file_extension": ".py",
   "mimetype": "text/x-python",
   "name": "python",
   "nbconvert_exporter": "python",
   "pygments_lexer": "ipython3",
   "version": "3.8.11"
  }
 },
 "nbformat": 4,
 "nbformat_minor": 5
}
