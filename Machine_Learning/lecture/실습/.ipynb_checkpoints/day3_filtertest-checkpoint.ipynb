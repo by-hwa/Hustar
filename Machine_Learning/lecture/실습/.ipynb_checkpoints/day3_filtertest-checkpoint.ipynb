{
 "cells": [
  {
   "cell_type": "code",
   "execution_count": 2,
   "id": "76c00965",
   "metadata": {},
   "outputs": [],
   "source": [
    "import numpy as np\n",
    "import tensorflow as tf\n",
    "from tensorflow.keras import Model, layers\n",
    "from tensorflow.keras.models import Sequential\n",
    "import matplotlib.pyplot as plt\n",
    "from sklearn.model_selection import train_test_split"
   ]
  },
  {
   "cell_type": "code",
   "execution_count": 3,
   "id": "3d39f00d",
   "metadata": {},
   "outputs": [],
   "source": [
    "def convolution_layer_test(filters, kernel_size, s = 1, p = 'valid', input_size=[1,64,64,3]):\n",
    "    inputs = tf.random.normal(input_size)\n",
    "    print('input size : ', inputs.shape)\n",
    "    conv = tf.keras.layers.Conv2D(filters, kernel_size, strides = s, padding = p)\n",
    "    outputs = conv(inputs)\n",
    "    print('output size :', outputs.shape)\n"
   ]
  },
  {
   "cell_type": "code",
   "execution_count": 6,
   "id": "52e27a8e",
   "metadata": {},
   "outputs": [
    {
     "name": "stdout",
     "output_type": "stream",
     "text": [
      "input size :  (1, 64, 64, 3)\n",
      "output size : (1, 62, 62, 10)\n"
     ]
    }
   ],
   "source": [
    "convolution_layer_test(10,3) ## (W-F+2P)/s+1 --> 64-3+1"
   ]
  },
  {
   "cell_type": "code",
   "execution_count": 9,
   "id": "7b69311c",
   "metadata": {},
   "outputs": [
    {
     "name": "stdout",
     "output_type": "stream",
     "text": [
      "input size :  (1, 128, 128, 3)\n",
      "output size : (1, 20, 20, 5)\n"
     ]
    }
   ],
   "source": [
    "convolution_layer_test(5,11, s = 6, p = 'valid', input_size = [1,128,128,3]) #(128-11)/6+1 -- > 20"
   ]
  },
  {
   "cell_type": "code",
   "execution_count": 18,
   "id": "cd679eab",
   "metadata": {},
   "outputs": [],
   "source": [
    "def pooling_layer_test(pool_size, s = 1, p = 'valid', input_size=[1,64,64,3]):\n",
    "    inputs = tf.random.normal(input_size)\n",
    "    print('input size : ', inputs.shape)\n",
    "    print('input : ', inputs)\n",
    "    pool = tf.keras.layers.MaxPooling2D(pool_size, strides = s, padding = p)\n",
    "    outputs = pool(inputs)\n",
    "    print('output size :', outputs.shape)\n",
    "    print('output :', outputs)"
   ]
  },
  {
   "cell_type": "code",
   "execution_count": 20,
   "id": "27f7e947",
   "metadata": {},
   "outputs": [
    {
     "name": "stdout",
     "output_type": "stream",
     "text": [
      "input size :  (1, 64, 64, 3)\n",
      "input :  tf.Tensor(\n",
      "[[[[-0.6046026  -0.395241   -0.05589642]\n",
      "   [ 0.8373269   1.2660209   1.2670815 ]\n",
      "   [-0.15050131 -1.6588339  -1.1120571 ]\n",
      "   ...\n",
      "   [-0.79286015 -0.00379226 -0.06995542]\n",
      "   [ 1.6679858  -0.21788947  0.82541   ]\n",
      "   [-0.3652978   0.80720633 -0.5511546 ]]\n",
      "\n",
      "  [[-0.5088544   0.60825723 -1.0287559 ]\n",
      "   [-0.4668833   0.8783412   0.44402713]\n",
      "   [-1.3003036   2.4632714   0.2649586 ]\n",
      "   ...\n",
      "   [ 1.0098122   1.7133882  -0.25484455]\n",
      "   [-1.1522241   1.4365433  -0.9078874 ]\n",
      "   [-1.445699    0.20075636  0.1035874 ]]\n",
      "\n",
      "  [[-2.2943      0.6178101   0.8561438 ]\n",
      "   [-1.6769519   0.7423989  -0.4305901 ]\n",
      "   [-0.86827105  0.5162834   0.65066016]\n",
      "   ...\n",
      "   [-2.6902823  -0.8568299   0.69439995]\n",
      "   [-1.9383162   2.029527   -0.7586306 ]\n",
      "   [ 0.48640862  0.5407815  -0.7123223 ]]\n",
      "\n",
      "  ...\n",
      "\n",
      "  [[ 2.1510832  -0.90349394 -0.3064002 ]\n",
      "   [ 1.3709836   0.4313071   0.67317915]\n",
      "   [ 1.694593   -1.9908626   0.86877537]\n",
      "   ...\n",
      "   [ 0.9439292   0.97204196 -0.7916401 ]\n",
      "   [ 0.07356539 -1.8299049   0.7973708 ]\n",
      "   [ 0.94474274  0.6177478   1.2822536 ]]\n",
      "\n",
      "  [[-0.14560325  0.5953975   0.11621835]\n",
      "   [ 1.5734617  -0.2541998   0.04611095]\n",
      "   [-0.08252978  1.3946369   0.01603242]\n",
      "   ...\n",
      "   [-0.26819786  0.10659977  0.95394975]\n",
      "   [ 3.0774713   1.2682459  -0.9025765 ]\n",
      "   [-0.51432693 -1.61107     1.4129399 ]]\n",
      "\n",
      "  [[-2.3775792   1.0530005  -0.08257406]\n",
      "   [-2.1136682  -0.1757063  -1.0187527 ]\n",
      "   [ 0.27434137 -1.2599599   0.26754603]\n",
      "   ...\n",
      "   [ 0.08721129 -0.8690027   0.35534084]\n",
      "   [-0.75767064 -0.25831538  0.64327   ]\n",
      "   [ 0.42641404  0.6632689  -0.48290202]]]], shape=(1, 64, 64, 3), dtype=float32)\n",
      "output size : (1, 32, 32, 3)\n",
      "output : tf.Tensor(\n",
      "[[[[ 0.8373269   1.2660209   1.2670815 ]\n",
      "   [ 0.5225959   2.4632714   0.5951244 ]\n",
      "   [ 1.7525296   2.2254508   1.0815583 ]\n",
      "   ...\n",
      "   [ 0.01682017  1.1022836   1.2420645 ]\n",
      "   [ 1.3571998   1.7133882   0.17279612]\n",
      "   [ 1.6679858   1.4365433   0.82541   ]]\n",
      "\n",
      "  [[ 0.25679272  1.1271263   0.9505874 ]\n",
      "   [-0.55442846  0.62143826  0.65066016]\n",
      "   [ 0.14984265  1.9187807   0.43347636]\n",
      "   ...\n",
      "   [ 1.1461239   0.88533187  0.5443257 ]\n",
      "   [ 0.67232925  0.23965852  1.5072831 ]\n",
      "   [ 0.48640862  2.029527    1.7915787 ]]\n",
      "\n",
      "  [[ 1.0379422   1.6042451   0.81724864]\n",
      "   [ 0.66924775  0.6237017   1.1707053 ]\n",
      "   [ 1.0395913   0.54676336 -0.4152222 ]\n",
      "   ...\n",
      "   [-0.6862421   0.3887181   1.1655517 ]\n",
      "   [ 0.18175408 -0.20279895  1.56291   ]\n",
      "   [ 1.8883452   0.73381853  0.5443501 ]]\n",
      "\n",
      "  ...\n",
      "\n",
      "  [[ 0.03450365  0.5486387   1.1033696 ]\n",
      "   [ 1.6393933   1.8043461   0.39906695]\n",
      "   [ 1.3257045   1.243432    1.1798229 ]\n",
      "   ...\n",
      "   [ 0.9543266   0.3145042   1.8760724 ]\n",
      "   [ 1.0275788   0.6638001   1.083738  ]\n",
      "   [ 1.2516962   2.0600529   1.0672638 ]]\n",
      "\n",
      "  [[ 2.1510832   1.2623708   0.67317915]\n",
      "   [ 1.694593    1.9354426   0.86877537]\n",
      "   [-0.21258949  0.950814    1.8707918 ]\n",
      "   ...\n",
      "   [ 1.3972117   0.71130776  0.5002467 ]\n",
      "   [ 1.0014226   0.97204196  2.2238817 ]\n",
      "   [ 0.94474274  0.6177478   1.2822536 ]]\n",
      "\n",
      "  [[ 1.5734617   1.0530005   0.11621835]\n",
      "   [ 1.1856815   1.3946369   0.6927444 ]\n",
      "   [ 0.60637516  0.15905991  1.0924534 ]\n",
      "   ...\n",
      "   [ 1.4623841   0.7464723   1.9848961 ]\n",
      "   [ 0.44023404  3.1870165   0.95394975]\n",
      "   [ 3.0774713   1.2682459   1.4129399 ]]]], shape=(1, 32, 32, 3), dtype=float32)\n"
     ]
    }
   ],
   "source": [
    "pooling_layer_test(2,2)"
   ]
  },
  {
   "cell_type": "code",
   "execution_count": null,
   "id": "5787ab63",
   "metadata": {},
   "outputs": [],
   "source": []
  }
 ],
 "metadata": {
  "kernelspec": {
   "display_name": "Python 3 (ipykernel)",
   "language": "python",
   "name": "python3"
  },
  "language_info": {
   "codemirror_mode": {
    "name": "ipython",
    "version": 3
   },
   "file_extension": ".py",
   "mimetype": "text/x-python",
   "name": "python",
   "nbconvert_exporter": "python",
   "pygments_lexer": "ipython3",
   "version": "3.8.11"
  }
 },
 "nbformat": 4,
 "nbformat_minor": 5
}
