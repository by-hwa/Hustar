{
 "cells": [
  {
   "cell_type": "code",
   "execution_count": 2,
   "id": "bd87716b",
   "metadata": {},
   "outputs": [],
   "source": [
    "import tensorflow as tf\n",
    "import numpy as np"
   ]
  },
  {
   "cell_type": "code",
   "execution_count": 15,
   "id": "e51dd519",
   "metadata": {},
   "outputs": [
    {
     "name": "stdout",
     "output_type": "stream",
     "text": [
      "tf.Tensor(\n",
      "[[58. 11. 94. 87. 62.]\n",
      " [64. 79. 91. 35. 57.]\n",
      " [78. 80. 96. 74. 83.]], shape=(3, 5), dtype=float32)\n",
      "tf.Tensor(\n",
      "[[0.2]\n",
      " [0.3]\n",
      " [0.5]], shape=(3, 1), dtype=float32)\n"
     ]
    },
    {
     "data": {
      "text/plain": [
       "<tf.Tensor: shape=(3, 5), dtype=float32, numpy=\n",
       "array([[11.6     ,  2.2     , 18.800001, 17.4     , 12.400001],\n",
       "       [19.2     , 23.7     , 27.300001, 10.5     , 17.1     ],\n",
       "       [39.      , 40.      , 48.      , 37.      , 41.5     ]],\n",
       "      dtype=float32)>"
      ]
     },
     "execution_count": 15,
     "metadata": {},
     "output_type": "execute_result"
    }
   ],
   "source": [
    "# 데이터 타입 맞춰 줘야 함\n",
    "\n",
    "score = tf.constant([[58,11,94,87,62],[64,79,91,35,57],[78,80,96,74,83]], dtype = tf.dtypes.float32)\n",
    "c = tf.constant([0.2,0.3,0.5])\n",
    "print(score)\n",
    "\n",
    "c =tf.expand_dims(c,axis =1)\n",
    "print(c)\n",
    "\n",
    "score * c "
   ]
  }
 ],
 "metadata": {
  "kernelspec": {
   "display_name": "Python 3 (ipykernel)",
   "language": "python",
   "name": "python3"
  },
  "language_info": {
   "codemirror_mode": {
    "name": "ipython",
    "version": 3
   },
   "file_extension": ".py",
   "mimetype": "text/x-python",
   "name": "python",
   "nbconvert_exporter": "python",
   "pygments_lexer": "ipython3",
   "version": "3.8.11"
  }
 },
 "nbformat": 4,
 "nbformat_minor": 5
}
