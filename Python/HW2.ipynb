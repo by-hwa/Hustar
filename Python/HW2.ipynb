{
 "cells": [
  {
   "cell_type": "markdown",
   "id": "b0c7840b",
   "metadata": {},
   "source": [
    "# 조건문"
   ]
  },
  {
   "cell_type": "markdown",
   "id": "02005165",
   "metadata": {},
   "source": [
    "문제1"
   ]
  },
  {
   "cell_type": "code",
   "execution_count": 4,
   "id": "30c44630",
   "metadata": {},
   "outputs": [
    {
     "name": "stdout",
     "output_type": "stream",
     "text": [
      "Enter a number: 7\n",
      "7 is Odd number\n"
     ]
    }
   ],
   "source": [
    "num = int(input('Enter a number: '))\n",
    "\n",
    "if num%2>0:\n",
    "    print('{} is Odd number'.format(num))\n",
    "else:\n",
    "    print('{} is Even number'.format(num))"
   ]
  },
  {
   "cell_type": "markdown",
   "id": "09d66533",
   "metadata": {},
   "source": [
    "문제2"
   ]
  },
  {
   "cell_type": "code",
   "execution_count": 7,
   "id": "e66bfe96",
   "metadata": {},
   "outputs": [
    {
     "name": "stdout",
     "output_type": "stream",
     "text": [
      "Enter your midterm score: 55\n",
      "Enter your final score: 56\n",
      "Average: 55.5\n",
      "Grage:F\n"
     ]
    }
   ],
   "source": [
    "mid_score = int(input('Enter your midterm score: '))\n",
    "fin_score = int(input('Enter your final score: '))\n",
    "avg = (mid_score+fin_score)/2\n",
    "grade = ''\n",
    "\n",
    "if avg > 90:\n",
    "    grade = 'A'\n",
    "elif avg > 80:\n",
    "    grade = 'B'\n",
    "elif avg > 70:\n",
    "    grade = 'C'\n",
    "elif avg > 60:\n",
    "    grade = 'D'\n",
    "else:\n",
    "    grade = 'F'\n",
    "    \n",
    "print('Average: {}\\nGrage:{}'.format(avg,grade))"
   ]
  },
  {
   "cell_type": "markdown",
   "id": "1f4bbb22",
   "metadata": {},
   "source": [
    "문제3"
   ]
  },
  {
   "cell_type": "code",
   "execution_count": 8,
   "id": "433c7843",
   "metadata": {
    "scrolled": true
   },
   "outputs": [
    {
     "name": "stdout",
     "output_type": "stream",
     "text": [
      "영어 점수 입력: 50\n",
      "수학 점수 입력: 60\n",
      "불합격: 총합점수 부족\n"
     ]
    }
   ],
   "source": [
    "eng = int(input('영어 점수 입력: '))\n",
    "math = int(input('수학 점수 입력: '))\n",
    "\n",
    "if eng+math>110:\n",
    "    if eng<40:\n",
    "        print('불합격: 영어 점수 부족')\n",
    "    elif math<40:\n",
    "        print('불합격: 수학 점수 부족')\n",
    "    else:\n",
    "        print('합격')\n",
    "else:\n",
    "    print('불합격: 총합점수 부족')"
   ]
  },
  {
   "cell_type": "markdown",
   "id": "4d2d24b3",
   "metadata": {},
   "source": [
    "문제4"
   ]
  },
  {
   "cell_type": "code",
   "execution_count": 9,
   "id": "ad15d45e",
   "metadata": {},
   "outputs": [
    {
     "name": "stdout",
     "output_type": "stream",
     "text": [
      "세 개의 수를 입력하시오: 1 3 2\n",
      "가장 큰 수는 3입니다.\n"
     ]
    }
   ],
   "source": [
    "n1, n2, n3 = map(int,input('세 개의 수를 입력하시오: ').split())\n",
    "n_max = 0\n",
    "if n1<n2:\n",
    "    n_max=n2\n",
    "else:\n",
    "    n_max=n1\n",
    "    \n",
    "if n_max<n3:\n",
    "    n_max=n3\n",
    "    \n",
    "print('가장 큰 수는 {}입니다.'.format(n_max))"
   ]
  },
  {
   "cell_type": "markdown",
   "id": "c2fd8ca3",
   "metadata": {},
   "source": [
    "# 반복문"
   ]
  },
  {
   "cell_type": "markdown",
   "id": "87fa1e38",
   "metadata": {},
   "source": [
    "문제1-1"
   ]
  },
  {
   "cell_type": "code",
   "execution_count": 17,
   "id": "a4a4940b",
   "metadata": {},
   "outputs": [
    {
     "name": "stdout",
     "output_type": "stream",
     "text": [
      "P\n",
      "y\n",
      "t\n",
      "h\n",
      "o\n",
      "n\n"
     ]
    }
   ],
   "source": [
    "word = 'Python'\n",
    "word = list(word)\n",
    "while word:\n",
    "    print('{}'.format(word.pop(0)))\n",
    "    "
   ]
  },
  {
   "cell_type": "markdown",
   "id": "c59cac8a",
   "metadata": {},
   "source": [
    "문제1-2"
   ]
  },
  {
   "cell_type": "code",
   "execution_count": 18,
   "id": "3e4a714b",
   "metadata": {},
   "outputs": [
    {
     "name": "stdout",
     "output_type": "stream",
     "text": [
      "P\n",
      "y\n",
      "t\n",
      "h\n",
      "o\n",
      "n\n"
     ]
    }
   ],
   "source": [
    "word = 'Python'\n",
    "for i in word:\n",
    "    print(i)"
   ]
  },
  {
   "cell_type": "markdown",
   "id": "872c3e7f",
   "metadata": {},
   "source": [
    "문제2"
   ]
  },
  {
   "cell_type": "code",
   "execution_count": 21,
   "id": "21fe8c17",
   "metadata": {},
   "outputs": [
    {
     "name": "stdout",
     "output_type": "stream",
     "text": [
      "10, 9, 8, 7, 6, 5, 4, 3, 2, 1, Happy new year!!\n"
     ]
    }
   ],
   "source": [
    "for i in range(10,0,-1):\n",
    "    print(i,end = ', ')\n",
    "print('Happy new year!!')"
   ]
  },
  {
   "cell_type": "markdown",
   "id": "5d62cfd8",
   "metadata": {},
   "source": [
    "문제3"
   ]
  },
  {
   "cell_type": "code",
   "execution_count": 25,
   "id": "c2d46f1c",
   "metadata": {},
   "outputs": [
    {
     "name": "stdout",
     "output_type": "stream",
     "text": [
      "Enter two integers:5 10\n",
      "The sum from 5 to 10 is 45\n"
     ]
    }
   ],
   "source": [
    "a,b = map(int,input('Enter two integers:').split())\n",
    "total = 0\n",
    "n = a\n",
    "while n <= b:\n",
    "    total += n\n",
    "    n += 1\n",
    "print('The sum from {} to {} is {}'.format(a,b,total))"
   ]
  },
  {
   "cell_type": "markdown",
   "id": "0ce7d28f",
   "metadata": {},
   "source": [
    "문제 4"
   ]
  },
  {
   "cell_type": "code",
   "execution_count": 30,
   "id": "6b2db965",
   "metadata": {},
   "outputs": [
    {
     "name": "stdout",
     "output_type": "stream",
     "text": [
      "3개 있음\n"
     ]
    }
   ],
   "source": [
    "word = 'banana'\n",
    "cnt = 0\n",
    "for i in word:\n",
    "    if i == 'a':\n",
    "        cnt += 1\n",
    "print('{}개 있음'.format(cnt))"
   ]
  },
  {
   "cell_type": "markdown",
   "id": "68f452f7",
   "metadata": {},
   "source": [
    "문제 5"
   ]
  },
  {
   "cell_type": "code",
   "execution_count": 34,
   "id": "2375c62f",
   "metadata": {
    "scrolled": true
   },
   "outputs": [
    {
     "name": "stdout",
     "output_type": "stream",
     "text": [
      "0 1 2 3 4 5 6 7 8 9 \n",
      "\n",
      "0 5 10 15 20 25 30 35 40 45 50 \n",
      "\n",
      "10 9 8 7 6 5 4 3 2 1 "
     ]
    }
   ],
   "source": [
    "for i in range(0,10):\n",
    "    print(i, end=' ')\n",
    "print('\\n')\n",
    "for i in range(0,51,5):\n",
    "    print(i, end=' ')\n",
    "print('\\n')\n",
    "for i in range(10,0,-1):\n",
    "    print(i, end=' ')"
   ]
  },
  {
   "cell_type": "markdown",
   "id": "d92f1ee9",
   "metadata": {},
   "source": [
    "문제6"
   ]
  },
  {
   "cell_type": "code",
   "execution_count": 37,
   "id": "aef656e5",
   "metadata": {},
   "outputs": [
    {
     "name": "stdout",
     "output_type": "stream",
     "text": [
      "red\n",
      "green\n",
      "blue\n"
     ]
    }
   ],
   "source": [
    "colors = ['red','green','blue']\n",
    "\n",
    "for i in colors:\n",
    "    print(i)"
   ]
  },
  {
   "cell_type": "markdown",
   "id": "b502684a",
   "metadata": {},
   "source": [
    "문제7"
   ]
  },
  {
   "cell_type": "code",
   "execution_count": 41,
   "id": "849847a4",
   "metadata": {},
   "outputs": [
    {
     "name": "stdout",
     "output_type": "stream",
     "text": [
      "4 6 8 10 12 "
     ]
    }
   ],
   "source": [
    "a = [1,3,4,5,6,7,8,9,10,11,12,13]\n",
    "\n",
    "for i in a:\n",
    "    if i%2 == 0:\n",
    "        print(i,end=' ')"
   ]
  },
  {
   "cell_type": "markdown",
   "id": "ea951dfe",
   "metadata": {},
   "source": [
    "문제8"
   ]
  },
  {
   "cell_type": "code",
   "execution_count": 43,
   "id": "b85806f2",
   "metadata": {},
   "outputs": [
    {
     "name": "stdout",
     "output_type": "stream",
     "text": [
      "출력하고 싶은 단을 입력하세요: 7\n",
      "7 * 0 = 0\n",
      "7 * 1 = 7\n",
      "7 * 2 = 14\n",
      "7 * 3 = 21\n",
      "7 * 4 = 28\n",
      "7 * 5 = 35\n",
      "7 * 6 = 42\n",
      "7 * 7 = 49\n",
      "7 * 8 = 56\n",
      "7 * 9 = 63\n"
     ]
    }
   ],
   "source": [
    "num = int(input('출력하고 싶은 단을 입력하세요: '))\n",
    "for i in range(10):\n",
    "    print('{} * {} = {}'.format(num,i,num*i))"
   ]
  },
  {
   "cell_type": "markdown",
   "id": "d56ee0d3",
   "metadata": {},
   "source": [
    "문제9"
   ]
  },
  {
   "cell_type": "code",
   "execution_count": 46,
   "id": "ed443dbc",
   "metadata": {},
   "outputs": [
    {
     "name": "stdout",
     "output_type": "stream",
     "text": [
      "==2단==\n",
      "2 * 1 = 2\n",
      "2 * 2 = 4\n",
      "2 * 3 = 6\n",
      "2 * 4 = 8\n",
      "2 * 5 = 10\n",
      "2 * 6 = 12\n",
      "2 * 7 = 14\n",
      "2 * 8 = 16\n",
      "2 * 9 = 18\n",
      "==3단==\n",
      "3 * 1 = 3\n",
      "3 * 2 = 6\n",
      "3 * 3 = 9\n",
      "3 * 4 = 12\n",
      "3 * 5 = 15\n",
      "3 * 6 = 18\n",
      "3 * 7 = 21\n",
      "3 * 8 = 24\n",
      "3 * 9 = 27\n",
      "==4단==\n",
      "4 * 1 = 4\n",
      "4 * 2 = 8\n",
      "4 * 3 = 12\n",
      "4 * 4 = 16\n",
      "4 * 5 = 20\n",
      "4 * 6 = 24\n",
      "4 * 7 = 28\n",
      "4 * 8 = 32\n",
      "4 * 9 = 36\n",
      "==5단==\n",
      "5 * 1 = 5\n",
      "5 * 2 = 10\n",
      "5 * 3 = 15\n",
      "5 * 4 = 20\n",
      "5 * 5 = 25\n",
      "5 * 6 = 30\n",
      "5 * 7 = 35\n",
      "5 * 8 = 40\n",
      "5 * 9 = 45\n",
      "==6단==\n",
      "6 * 1 = 6\n",
      "6 * 2 = 12\n",
      "6 * 3 = 18\n",
      "6 * 4 = 24\n",
      "6 * 5 = 30\n",
      "6 * 6 = 36\n",
      "6 * 7 = 42\n",
      "6 * 8 = 48\n",
      "6 * 9 = 54\n",
      "==7단==\n",
      "7 * 1 = 7\n",
      "7 * 2 = 14\n",
      "7 * 3 = 21\n",
      "7 * 4 = 28\n",
      "7 * 5 = 35\n",
      "7 * 6 = 42\n",
      "7 * 7 = 49\n",
      "7 * 8 = 56\n",
      "7 * 9 = 63\n",
      "==8단==\n",
      "8 * 1 = 8\n",
      "8 * 2 = 16\n",
      "8 * 3 = 24\n",
      "8 * 4 = 32\n",
      "8 * 5 = 40\n",
      "8 * 6 = 48\n",
      "8 * 7 = 56\n",
      "8 * 8 = 64\n",
      "8 * 9 = 72\n",
      "==9단==\n",
      "9 * 1 = 9\n",
      "9 * 2 = 18\n",
      "9 * 3 = 27\n",
      "9 * 4 = 36\n",
      "9 * 5 = 45\n",
      "9 * 6 = 54\n",
      "9 * 7 = 63\n",
      "9 * 8 = 72\n",
      "9 * 9 = 81\n"
     ]
    }
   ],
   "source": [
    "for i in range(2,10):\n",
    "    print('=={}단=='.format(i))\n",
    "    for j in range(1,10):\n",
    "        print('{} * {} = {}'.format(i,j,i*j))"
   ]
  },
  {
   "cell_type": "markdown",
   "id": "fea51fab",
   "metadata": {},
   "source": [
    "문제 10"
   ]
  },
  {
   "cell_type": "code",
   "execution_count": 55,
   "id": "2a683766",
   "metadata": {},
   "outputs": [
    {
     "name": "stdout",
     "output_type": "stream",
     "text": [
      " 2* 1= 2  3* 1= 3  4* 1= 4  5* 1= 5  6* 1= 6  7* 1= 7  8* 1= 8  9* 1= 9 \n",
      "\n",
      " 2* 2= 4  3* 2= 6  4* 2= 8  5* 2=10  6* 2=12  7* 2=14  8* 2=16  9* 2=18 \n",
      "\n",
      " 2* 3= 6  3* 3= 9  4* 3=12  5* 3=15  6* 3=18  7* 3=21  8* 3=24  9* 3=27 \n",
      "\n",
      " 2* 4= 8  3* 4=12  4* 4=16  5* 4=20  6* 4=24  7* 4=28  8* 4=32  9* 4=36 \n",
      "\n",
      " 2* 5=10  3* 5=15  4* 5=20  5* 5=25  6* 5=30  7* 5=35  8* 5=40  9* 5=45 \n",
      "\n",
      " 2* 6=12  3* 6=18  4* 6=24  5* 6=30  6* 6=36  7* 6=42  8* 6=48  9* 6=54 \n",
      "\n",
      " 2* 7=14  3* 7=21  4* 7=28  5* 7=35  6* 7=42  7* 7=49  8* 7=56  9* 7=63 \n",
      "\n",
      " 2* 8=16  3* 8=24  4* 8=32  5* 8=40  6* 8=48  7* 8=56  8* 8=64  9* 8=72 \n",
      "\n",
      " 2* 9=18  3* 9=27  4* 9=36  5* 9=45  6* 9=54  7* 9=63  8* 9=72  9* 9=81 \n",
      "\n"
     ]
    }
   ],
   "source": [
    "for i in range(1,10):\n",
    "    for j in range(2,10):\n",
    "        print('{:2}*{:2}={:2}'.format(j,i,j*i),end=' ')\n",
    "    print('\\n')"
   ]
  },
  {
   "cell_type": "markdown",
   "id": "1f76cc2f",
   "metadata": {},
   "source": [
    "문제11"
   ]
  },
  {
   "cell_type": "code",
   "execution_count": 57,
   "id": "4f931844",
   "metadata": {},
   "outputs": [
    {
     "name": "stdout",
     "output_type": "stream",
     "text": [
      "Input an Interger: 3159\n",
      "★★★\n",
      "★\n",
      "★★★★★\n",
      "★★★★★★★★★\n"
     ]
    }
   ],
   "source": [
    "intg = input('Input an Interger: ')\n",
    "\n",
    "for i in intg:\n",
    "    print('★'*int(i))"
   ]
  },
  {
   "cell_type": "markdown",
   "id": "ca7a2827",
   "metadata": {},
   "source": [
    "문제12"
   ]
  },
  {
   "cell_type": "code",
   "execution_count": 62,
   "id": "0b6b7071",
   "metadata": {},
   "outputs": [
    {
     "name": "stdout",
     "output_type": "stream",
     "text": [
      "Enter a number: 7\n",
      "Enter a number: 2\n",
      "Enter a number: 9\n",
      "Enter a number: 3\n",
      "Enter a number: 5\n",
      "Enter a number: done\n",
      "[7.0, 2.0, 9.0, 3.0, 5.0]\n",
      "Average: 5.2\n",
      "Maximum: 9.0\n",
      "Minimum: 2.0\n"
     ]
    }
   ],
   "source": [
    "nlist = []\n",
    "\n",
    "while True:\n",
    "    Enter = input('Enter a number: ')\n",
    "    if Enter == 'done':\n",
    "        break\n",
    "    nlist.append(float(Enter))\n",
    "    \n",
    "print(nlist)\n",
    "print('Average: {}'.format(sum(nlist)/len(nlist)))\n",
    "print('Maximum: {}'.format(max(nlist)))\n",
    "print('Minimum: {}'.format(min(nlist)))"
   ]
  }
 ],
 "metadata": {
  "kernelspec": {
   "display_name": "Python 3 (ipykernel)",
   "language": "python",
   "name": "python3"
  },
  "language_info": {
   "codemirror_mode": {
    "name": "ipython",
    "version": 3
   },
   "file_extension": ".py",
   "mimetype": "text/x-python",
   "name": "python",
   "nbconvert_exporter": "python",
   "pygments_lexer": "ipython3",
   "version": "3.9.7"
  }
 },
 "nbformat": 4,
 "nbformat_minor": 5
}
