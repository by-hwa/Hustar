{
 "cells": [
  {
   "cell_type": "code",
   "execution_count": 3,
   "id": "e250c1db",
   "metadata": {},
   "outputs": [],
   "source": [
    "fw = open('new.txt','w')\n",
    "\n",
    "for i in range(1,6):\n",
    "    data = '%d line\\n'%i\n",
    "    fw.write(data)\n",
    "\n",
    "fw.close()"
   ]
  },
  {
   "cell_type": "code",
   "execution_count": 16,
   "id": "42eb1c5d",
   "metadata": {},
   "outputs": [
    {
     "name": "stdout",
     "output_type": "stream",
     "text": [
      "1 line\n",
      "2 line\n",
      "3 line\n",
      "4 line\n",
      "5 line\n"
     ]
    }
   ],
   "source": [
    "fr = open('new.txt','r')\n",
    "\n",
    "while True:\n",
    "    line = fr.readline()\n",
    "    if line == '':\n",
    "        break\n",
    "    print(line, end='')\n",
    "    \n",
    "fr.close()"
   ]
  },
  {
   "cell_type": "code",
   "execution_count": 14,
   "id": "94e0d248",
   "metadata": {},
   "outputs": [
    {
     "data": {
      "text/plain": [
       "7"
      ]
     },
     "execution_count": 14,
     "metadata": {},
     "output_type": "execute_result"
    }
   ],
   "source": [
    "fr.tell()"
   ]
  },
  {
   "cell_type": "code",
   "execution_count": 13,
   "id": "73f75512",
   "metadata": {},
   "outputs": [
    {
     "data": {
      "text/plain": [
       "'1 line\\n'"
      ]
     },
     "execution_count": 13,
     "metadata": {},
     "output_type": "execute_result"
    }
   ],
   "source": [
    "line = fr.readline()\n",
    "line"
   ]
  },
  {
   "cell_type": "code",
   "execution_count": 17,
   "id": "970b913b",
   "metadata": {},
   "outputs": [],
   "source": [
    "fr.close()"
   ]
  },
  {
   "cell_type": "code",
   "execution_count": 23,
   "id": "6723cd33",
   "metadata": {},
   "outputs": [
    {
     "name": "stdout",
     "output_type": "stream",
     "text": [
      "1 line\n",
      "2 line\n",
      "3 line\n",
      "4 line\n",
      "5 line\n",
      "\n"
     ]
    }
   ],
   "source": [
    "f = open('new.txt','r')\n",
    "\n",
    "#lines = f.readlines()\n",
    "rlines = f.read()\n",
    "#print(lines)\n",
    "print(rlines)\n",
    "f.close()\n"
   ]
  },
  {
   "cell_type": "code",
   "execution_count": 26,
   "id": "e889aa21",
   "metadata": {},
   "outputs": [
    {
     "name": "stdout",
     "output_type": "stream",
     "text": [
      "1 line\n",
      "\n",
      "2 line\n",
      "\n",
      "3 line\n",
      "\n",
      "4 line\n",
      "\n",
      "5 line\n",
      "\n"
     ]
    }
   ],
   "source": [
    "fr = open('new.txt','r')\n",
    "\n",
    "for line in fr:\n",
    "    print(line)"
   ]
  },
  {
   "cell_type": "code",
   "execution_count": 29,
   "id": "fdcc1ce5",
   "metadata": {},
   "outputs": [],
   "source": [
    "fw = open('new.txt','a')\n",
    "\n",
    "for i in range(11,16):\n",
    "    data = '%d line \\n' %i\n",
    "    fw.write(data)\n",
    "fw.close()"
   ]
  },
  {
   "cell_type": "code",
   "execution_count": 31,
   "id": "94c15273",
   "metadata": {},
   "outputs": [],
   "source": [
    "with open('output.txt','w') as f:\n",
    "    f.write('python is fun!')"
   ]
  },
  {
   "cell_type": "code",
   "execution_count": 32,
   "id": "d8e87731",
   "metadata": {},
   "outputs": [],
   "source": [
    "# f.tell() 현재 파일 포인터의 위치 반환\n",
    "# f.seek() 지정하는 곳으로 포인터의 위치 변경"
   ]
  },
  {
   "cell_type": "code",
   "execution_count": 38,
   "id": "9322ec31",
   "metadata": {
    "scrolled": false
   },
   "outputs": [
    {
     "name": "stdout",
     "output_type": "stream",
     "text": [
      "6 14\n",
      "6 14\n"
     ]
    }
   ],
   "source": [
    "def my_len(x):\n",
    "    cnt = 0\n",
    "    for i in x:\n",
    "        cnt += 1\n",
    "    return cnt\n",
    "\n",
    "a = [5,5,6,7,8,3]\n",
    "b = 'Life is short.'\n",
    "print(len(a), len(b))\n",
    "print(my_len(a), my_len(b))"
   ]
  },
  {
   "cell_type": "markdown",
   "id": "a01b8e49",
   "metadata": {},
   "source": [
    "실습1"
   ]
  },
  {
   "cell_type": "code",
   "execution_count": 41,
   "id": "75e9dc5f",
   "metadata": {},
   "outputs": [
    {
     "name": "stdout",
     "output_type": "stream",
     "text": [
      "(5, 6)\n"
     ]
    }
   ],
   "source": [
    "def add_and_mul(a,b):\n",
    "    return a+b, a*b\n",
    "\n",
    "add, mul = add_and_mul(2,4)\n",
    "\n",
    "print(add_and_mul(2,3))"
   ]
  },
  {
   "cell_type": "markdown",
   "id": "627d6dd6",
   "metadata": {},
   "source": [
    "실습2"
   ]
  },
  {
   "cell_type": "code",
   "execution_count": 50,
   "id": "145b3845",
   "metadata": {},
   "outputs": [
    {
     "name": "stdout",
     "output_type": "stream",
     "text": [
      "120\n"
     ]
    }
   ],
   "source": [
    "def mult(a,b):\n",
    "    fact = 1\n",
    "    for i in range(a,b+1):\n",
    "        fact *= i\n",
    "    return fact\n",
    "\n",
    "print(mult(2,5))"
   ]
  },
  {
   "cell_type": "markdown",
   "id": "8f78b477",
   "metadata": {},
   "source": [
    "실습3"
   ]
  },
  {
   "cell_type": "code",
   "execution_count": 53,
   "id": "a590e33b",
   "metadata": {},
   "outputs": [
    {
     "name": "stdout",
     "output_type": "stream",
     "text": [
      "-9 7\n"
     ]
    }
   ],
   "source": [
    "def sum_pos_neg(lis):\n",
    "    pos,neg = 0,0 \n",
    "    for i in lis:\n",
    "        if i>0:\n",
    "            pos += i\n",
    "        elif i<0:\n",
    "            neg += i\n",
    "    return neg, pos\n",
    "\n",
    "neg, pos = sum_pos_neg([3,4,-6,-3])\n",
    "\n",
    "print(neg,pos)"
   ]
  },
  {
   "cell_type": "code",
   "execution_count": 55,
   "id": "6c17809e",
   "metadata": {},
   "outputs": [
    {
     "name": "stdout",
     "output_type": "stream",
     "text": [
      "([0, 12, 3, 4], [1, 2])\n"
     ]
    }
   ],
   "source": [
    "def count_even(*n):\n",
    "    cnt = 0\n",
    "    print(n)\n",
    "    \n",
    "count_even([0,12,3,4],[1,2])"
   ]
  }
 ],
 "metadata": {
  "kernelspec": {
   "display_name": "Python 3 (ipykernel)",
   "language": "python",
   "name": "python3"
  },
  "language_info": {
   "codemirror_mode": {
    "name": "ipython",
    "version": 3
   },
   "file_extension": ".py",
   "mimetype": "text/x-python",
   "name": "python",
   "nbconvert_exporter": "python",
   "pygments_lexer": "ipython3",
   "version": "3.9.7"
  }
 },
 "nbformat": 4,
 "nbformat_minor": 5
}
