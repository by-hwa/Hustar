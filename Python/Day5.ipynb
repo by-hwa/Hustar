{
 "cells": [
  {
   "cell_type": "code",
   "execution_count": 2,
   "id": "9d8f9c79",
   "metadata": {},
   "outputs": [],
   "source": [
    "def add(*nums):\n",
    "    print(nums)"
   ]
  },
  {
   "cell_type": "code",
   "execution_count": 3,
   "id": "fc5889b6",
   "metadata": {},
   "outputs": [
    {
     "name": "stdout",
     "output_type": "stream",
     "text": [
      "(1, 2, 3, 4, 56, 7)\n"
     ]
    }
   ],
   "source": [
    "add(1,2,3,4,56,7)"
   ]
  },
  {
   "cell_type": "code",
   "execution_count": 35,
   "id": "6b126196",
   "metadata": {},
   "outputs": [],
   "source": [
    "def vector_sum(v, *vs):\n",
    "    # list deepcopy 주의 !\n",
    "    v1 = v[:]\n",
    "    for i in vs:\n",
    "        for j in range(len(i)):\n",
    "            v1[j] += i[j]\n",
    "    return v1"
   ]
  },
  {
   "cell_type": "markdown",
   "id": "bfacb38f",
   "metadata": {},
   "source": [
    "실습4"
   ]
  },
  {
   "cell_type": "code",
   "execution_count": 36,
   "id": "8b10de8f",
   "metadata": {
    "scrolled": true
   },
   "outputs": [
    {
     "name": "stdout",
     "output_type": "stream",
     "text": [
      "[1.5, 1.5] [7.5, 5.5] [4.140000000000001, 2.72]\n"
     ]
    }
   ],
   "source": [
    "v1=[0, 1]\n",
    "v2=[0.5, 0.5]\n",
    "v3=[1, 0]\n",
    "v4=[6, 4]\n",
    "v5=[3.14, 2.72]\n",
    "\n",
    "m1 = vector_sum(v1, v2, v3)\n",
    "m2 = vector_sum(v1, v2, v3, v4)\n",
    "m3 = vector_sum(v3, v5)\n",
    "\n",
    "print(m1,m2,m3)"
   ]
  },
  {
   "cell_type": "code",
   "execution_count": 4,
   "id": "3083f678",
   "metadata": {},
   "outputs": [],
   "source": [
    "def merge_list(lis1=[0],lis2=[0]):\n",
    "    return sorted(lis1+lis2)   "
   ]
  },
  {
   "cell_type": "markdown",
   "id": "b652a701",
   "metadata": {},
   "source": [
    "실습5"
   ]
  },
  {
   "cell_type": "code",
   "execution_count": 5,
   "id": "f0e9b9cf",
   "metadata": {},
   "outputs": [
    {
     "name": "stdout",
     "output_type": "stream",
     "text": [
      "[1, 1, 2, 2, 3, 5, 9]\n",
      "[0, 4, 6, 9]\n",
      "[0, 0]\n"
     ]
    }
   ],
   "source": [
    "l = [3, 5, 9, 1, 2]\n",
    "ml1 = merge_list(l,[2,1])\n",
    "ml2 = merge_list([6,9,4])\n",
    "ml3 = merge_list()\n",
    "print(ml1) # [1, 1, 2, 2, 3, 5, 9]\n",
    "print(ml2) # [0, 4, 6, 9]\n",
    "print(ml3) # [0, 0]"
   ]
  },
  {
   "cell_type": "code",
   "execution_count": 6,
   "id": "b22bdf76",
   "metadata": {},
   "outputs": [
    {
     "name": "stdout",
     "output_type": "stream",
     "text": [
      "Variable     Type        Data/Info\n",
      "----------------------------------\n",
      "l            list        n=5\n",
      "merge_list   function    <function merge_list at 0x7f7420325dc0>\n",
      "ml1          list        n=7\n",
      "ml2          list        n=4\n",
      "ml3          list        n=2\n"
     ]
    }
   ],
   "source": [
    "whos"
   ]
  },
  {
   "cell_type": "code",
   "execution_count": 16,
   "id": "79e28b68",
   "metadata": {},
   "outputs": [],
   "source": [
    "def fun(x):\n",
    "    x.append(10)\n",
    "    x = list([4,5,6])\n",
    "    return x"
   ]
  },
  {
   "cell_type": "code",
   "execution_count": 18,
   "id": "4c674d0d",
   "metadata": {},
   "outputs": [
    {
     "name": "stdout",
     "output_type": "stream",
     "text": [
      "[4, 5, 6]\n",
      "[1, 2, 3, 10]\n"
     ]
    }
   ],
   "source": [
    "Ls = [1,2,3]\n",
    "print(fun(Ls))\n",
    "print(Ls)"
   ]
  },
  {
   "cell_type": "code",
   "execution_count": 3,
   "id": "26030299",
   "metadata": {},
   "outputs": [],
   "source": [
    "import arth"
   ]
  },
  {
   "cell_type": "code",
   "execution_count": 4,
   "id": "ae341056",
   "metadata": {},
   "outputs": [
    {
     "data": {
      "text/plain": [
       "3"
      ]
     },
     "execution_count": 4,
     "metadata": {},
     "output_type": "execute_result"
    }
   ],
   "source": [
    "arth.add(1,2)"
   ]
  },
  {
   "cell_type": "code",
   "execution_count": 9,
   "id": "1f2c1d41",
   "metadata": {},
   "outputs": [],
   "source": [
    "import random as r"
   ]
  },
  {
   "cell_type": "code",
   "execution_count": 10,
   "id": "f09cdf2b",
   "metadata": {},
   "outputs": [
    {
     "data": {
      "text/plain": [
       "1"
      ]
     },
     "execution_count": 10,
     "metadata": {},
     "output_type": "execute_result"
    }
   ],
   "source": [
    "r.choice([1,2,3,4,5,6])"
   ]
  },
  {
   "cell_type": "code",
   "execution_count": 49,
   "id": "24a1ae4e",
   "metadata": {},
   "outputs": [
    {
     "data": {
      "text/plain": [
       "6"
      ]
     },
     "execution_count": 49,
     "metadata": {},
     "output_type": "execute_result"
    }
   ],
   "source": [
    "r.randrange(1,11)"
   ]
  },
  {
   "cell_type": "code",
   "execution_count": 34,
   "id": "032e831e",
   "metadata": {},
   "outputs": [
    {
     "data": {
      "text/plain": [
       "8"
      ]
     },
     "execution_count": 34,
     "metadata": {},
     "output_type": "execute_result"
    }
   ],
   "source": [
    "r.randint(1,10)"
   ]
  },
  {
   "cell_type": "markdown",
   "id": "63698701",
   "metadata": {},
   "source": [
    "실습 6"
   ]
  },
  {
   "cell_type": "code",
   "execution_count": 58,
   "id": "f887ea23",
   "metadata": {
    "scrolled": true
   },
   "outputs": [
    {
     "name": "stdout",
     "output_type": "stream",
     "text": [
      "{3, 38, 40, 9, 16, 22}\n"
     ]
    }
   ],
   "source": [
    "num = set()\n",
    "while len(num)<6:\n",
    "    num.add(r.randint(1,45))\n",
    "print(num)"
   ]
  },
  {
   "cell_type": "code",
   "execution_count": 87,
   "id": "dff298c8",
   "metadata": {
    "scrolled": true
   },
   "outputs": [
    {
     "name": "stdout",
     "output_type": "stream",
     "text": [
      "3 21 25 28 43 45\n"
     ]
    }
   ],
   "source": [
    "lis = [x for x in range(1,46)]\n",
    "num = r.sample(lis,6)\n",
    "num.sort()\n",
    "print(*num)"
   ]
  },
  {
   "cell_type": "markdown",
   "id": "80e82d05",
   "metadata": {},
   "source": [
    "실습 7"
   ]
  },
  {
   "cell_type": "code",
   "execution_count": 89,
   "id": "edd98090",
   "metadata": {},
   "outputs": [
    {
     "name": "stdout",
     "output_type": "stream",
     "text": [
      "1\n",
      "9\n",
      "[3, 5, 2]\n"
     ]
    }
   ],
   "source": [
    "def get_min_max(l):\n",
    "    minl = min(l)\n",
    "    maxl = max(l)\n",
    "    l.remove(minl)\n",
    "    l.remove(maxl)\n",
    "    return minl, maxl\n",
    "    \n",
    "l = [3,5,9,1,2]\n",
    "\n",
    "min_val, max_val = get_min_max(l)\n",
    "\n",
    "print(min_val)\n",
    "print(max_val)\n",
    "print(l)"
   ]
  },
  {
   "cell_type": "markdown",
   "id": "17fd8a52",
   "metadata": {},
   "source": [
    "실습8"
   ]
  },
  {
   "cell_type": "code",
   "execution_count": 101,
   "id": "47b556a1",
   "metadata": {},
   "outputs": [
    {
     "name": "stdout",
     "output_type": "stream",
     "text": [
      "{'a': 3, 'b': 3, 'd': 7, 'e': 9, 'c': 4}\n"
     ]
    }
   ],
   "source": [
    "def comb_dict(d1, d2):\n",
    "    d3 = {}\n",
    "    \n",
    "    for i in d1:\n",
    "        if i in d3:\n",
    "            d3[i] += d1[i]\n",
    "        else:\n",
    "            d3[i] = d1[i]\n",
    "    for i in d2:\n",
    "        if i in d3:\n",
    "            d3[i] += d2[i]\n",
    "        else:\n",
    "            d3[i] = d2[i]\n",
    "    return d3\n",
    "\n",
    "d1 = {'a': 1, 'b': 3, 'd': 7, 'e': 8}\n",
    "d2 = {'a': 2, 'c': 4, 'e': 1}\n",
    "d3 = comb_dict(d1, d2)\n",
    "print(d3)"
   ]
  },
  {
   "cell_type": "markdown",
   "id": "322936a8",
   "metadata": {},
   "source": [
    "실습9"
   ]
  },
  {
   "cell_type": "code",
   "execution_count": 103,
   "id": "3ca729b0",
   "metadata": {},
   "outputs": [
    {
     "name": "stdout",
     "output_type": "stream",
     "text": [
      "4\n",
      "300\n"
     ]
    },
    {
     "data": {
      "text/plain": [
       "0"
      ]
     },
     "execution_count": 103,
     "metadata": {},
     "output_type": "execute_result"
    }
   ],
   "source": [
    "def diff(*num):\n",
    "    return max(num)-min(num)\n",
    "\n",
    "    \n",
    "print(diff(1,2,3,4,5))\n",
    "print(diff(-100, 200))\n",
    "diff(1) # 오류발생!"
   ]
  }
 ],
 "metadata": {
  "kernelspec": {
   "display_name": "Python 3 (ipykernel)",
   "language": "python",
   "name": "python3"
  },
  "language_info": {
   "codemirror_mode": {
    "name": "ipython",
    "version": 3
   },
   "file_extension": ".py",
   "mimetype": "text/x-python",
   "name": "python",
   "nbconvert_exporter": "python",
   "pygments_lexer": "ipython3",
   "version": "3.9.7"
  }
 },
 "nbformat": 4,
 "nbformat_minor": 5
}
