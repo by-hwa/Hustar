{
 "cells": [
  {
   "cell_type": "code",
   "execution_count": 29,
   "id": "7e230fcf",
   "metadata": {},
   "outputs": [],
   "source": [
    "class dog:\n",
    "    kind = 'canine'\n",
    "    tricks = []\n",
    "    \n",
    "    def __init__(self, name = 'None', age = 0):\n",
    "        self.name = name\n",
    "    \n",
    "    def add_trick(self,trick):\n",
    "        self.tricks.append(trick)\n",
    "        \n",
    "    def bark(self):\n",
    "        return 'wal wal'"
   ]
  },
  {
   "cell_type": "code",
   "execution_count": 30,
   "id": "b3a8df77",
   "metadata": {},
   "outputs": [],
   "source": [
    "dog1 = dog('fido')"
   ]
  },
  {
   "cell_type": "code",
   "execution_count": 31,
   "id": "5028e9aa",
   "metadata": {},
   "outputs": [],
   "source": [
    "dog2 = dog('buddy')"
   ]
  },
  {
   "cell_type": "code",
   "execution_count": 11,
   "id": "05ceda34",
   "metadata": {},
   "outputs": [
    {
     "data": {
      "text/plain": [
       "'fido'"
      ]
     },
     "execution_count": 11,
     "metadata": {},
     "output_type": "execute_result"
    }
   ],
   "source": [
    "dog1.name"
   ]
  },
  {
   "cell_type": "code",
   "execution_count": 12,
   "id": "80f94233",
   "metadata": {},
   "outputs": [
    {
     "data": {
      "text/plain": [
       "'buddy'"
      ]
     },
     "execution_count": 12,
     "metadata": {},
     "output_type": "execute_result"
    }
   ],
   "source": [
    "dog2.name"
   ]
  },
  {
   "cell_type": "code",
   "execution_count": 22,
   "id": "c4731397",
   "metadata": {},
   "outputs": [
    {
     "data": {
      "text/plain": [
       "'puppy'"
      ]
     },
     "execution_count": 22,
     "metadata": {},
     "output_type": "execute_result"
    }
   ],
   "source": [
    "dog1.kind"
   ]
  },
  {
   "cell_type": "code",
   "execution_count": 21,
   "id": "f7235896",
   "metadata": {},
   "outputs": [
    {
     "data": {
      "text/plain": [
       "'canine'"
      ]
     },
     "execution_count": 21,
     "metadata": {},
     "output_type": "execute_result"
    }
   ],
   "source": [
    "dog2.kind"
   ]
  },
  {
   "cell_type": "code",
   "execution_count": 20,
   "id": "f9bb0db6",
   "metadata": {},
   "outputs": [
    {
     "data": {
      "text/plain": [
       "'canine'"
      ]
     },
     "execution_count": 20,
     "metadata": {},
     "output_type": "execute_result"
    }
   ],
   "source": [
    "dog.kind"
   ]
  },
  {
   "cell_type": "code",
   "execution_count": 17,
   "id": "e1e50168",
   "metadata": {},
   "outputs": [
    {
     "data": {
      "text/plain": [
       "'wal wal'"
      ]
     },
     "execution_count": 17,
     "metadata": {},
     "output_type": "execute_result"
    }
   ],
   "source": [
    "dog.bark(dog1)"
   ]
  },
  {
   "cell_type": "code",
   "execution_count": 19,
   "id": "8654f40a",
   "metadata": {},
   "outputs": [],
   "source": [
    "dog1.kind = 'puppy'"
   ]
  },
  {
   "cell_type": "code",
   "execution_count": 33,
   "id": "95d7b182",
   "metadata": {},
   "outputs": [],
   "source": [
    "dog1.add_trick('roll over')"
   ]
  },
  {
   "cell_type": "code",
   "execution_count": 35,
   "id": "f882a200",
   "metadata": {},
   "outputs": [],
   "source": [
    "dog2.add_trick('bbang')"
   ]
  },
  {
   "cell_type": "code",
   "execution_count": 37,
   "id": "2fac7c80",
   "metadata": {},
   "outputs": [
    {
     "data": {
      "text/plain": [
       "['roll over', 'roll over', 'bbang', 'bbang']"
      ]
     },
     "execution_count": 37,
     "metadata": {},
     "output_type": "execute_result"
    }
   ],
   "source": [
    "dog1.tricks"
   ]
  },
  {
   "cell_type": "code",
   "execution_count": 63,
   "id": "90593537",
   "metadata": {},
   "outputs": [],
   "source": [
    "class A:\n",
    "    def __init__(self):\n",
    "        print('A호출')\n",
    "    a = 1\n",
    "    def print_a(self):\n",
    "        print('A class')\n",
    "    def print_info(self):\n",
    "        print('AAA')"
   ]
  },
  {
   "cell_type": "code",
   "execution_count": 41,
   "id": "016a8da1",
   "metadata": {},
   "outputs": [],
   "source": [
    "class B:\n",
    "    b = 1\n",
    "    def print_b(self):\n",
    "        print('B class')"
   ]
  },
  {
   "cell_type": "code",
   "execution_count": 64,
   "id": "680f009d",
   "metadata": {},
   "outputs": [],
   "source": [
    "class C(A):\n",
    "    c = 1\n",
    "    def __init__(self):\n",
    "        print('ㅊ호출!!')\n",
    "    def print_c(self):\n",
    "        print('C class')\n",
    "    def print_info(self, a = 'fd'):\n",
    "        if True:\n",
    "            print(a)\n",
    "            print('CCC')"
   ]
  },
  {
   "cell_type": "code",
   "execution_count": 49,
   "id": "eedeeeae",
   "metadata": {},
   "outputs": [],
   "source": [
    "class D(C,B):\n",
    "    d = 1\n",
    "    def print_d(self):\n",
    "        print('D class')"
   ]
  },
  {
   "cell_type": "code",
   "execution_count": 65,
   "id": "161b3c54",
   "metadata": {},
   "outputs": [
    {
     "name": "stdout",
     "output_type": "stream",
     "text": [
      "ㅊ호출!!\n"
     ]
    }
   ],
   "source": [
    "cc = C()"
   ]
  },
  {
   "cell_type": "code",
   "execution_count": 46,
   "id": "63f29ac7",
   "metadata": {},
   "outputs": [
    {
     "name": "stdout",
     "output_type": "stream",
     "text": [
      "C class\n"
     ]
    }
   ],
   "source": [
    "cc.print_c()"
   ]
  },
  {
   "cell_type": "code",
   "execution_count": 51,
   "id": "181de5e1",
   "metadata": {},
   "outputs": [],
   "source": [
    "dd = D()"
   ]
  },
  {
   "cell_type": "code",
   "execution_count": 66,
   "id": "af5e08aa",
   "metadata": {},
   "outputs": [
    {
     "name": "stdout",
     "output_type": "stream",
     "text": [
      "fd\n",
      "CCC\n"
     ]
    }
   ],
   "source": [
    "cc.print_info()"
   ]
  },
  {
   "cell_type": "code",
   "execution_count": 72,
   "id": "b0db3c97",
   "metadata": {},
   "outputs": [],
   "source": [
    "class A:\n",
    "    def __init__(self,a,b):\n",
    "        self.a = a\n",
    "        self.b = b\n",
    "        print(self.a,self.b)\n",
    "class B(A):\n",
    "    def __init__(self,a,b,c,d):\n",
    "        super().__init__(a,b)\n",
    "        self.c = c\n",
    "        self.d = d\n",
    "        print(self.c,self.d)"
   ]
  },
  {
   "cell_type": "code",
   "execution_count": 74,
   "id": "3f7a1e2d",
   "metadata": {},
   "outputs": [
    {
     "name": "stdout",
     "output_type": "stream",
     "text": [
      "1 2\n",
      "3 4\n"
     ]
    }
   ],
   "source": [
    "bb = B(1,2,3,4)"
   ]
  },
  {
   "cell_type": "code",
   "execution_count": 104,
   "id": "0ffbbdd4",
   "metadata": {},
   "outputs": [],
   "source": [
    "class BankAccount:\n",
    "    def __init__(self, balance=0,name = 'None'):\n",
    "        self.name = name\n",
    "        self.balance = balance\n",
    "    \n",
    "    def deposit(self, amount):\n",
    "        self.balance += amount\n",
    "        print('{}원 입금되었습니다. 잔액은 {}원입니다.'.format(amount,self.balance))\n",
    "    \n",
    "    def withdraw(self, amount):\n",
    "        if self.balance >= amount:\n",
    "            self.balance -= amount\n",
    "            print('{}원 출금되었습니다. 잔액은 {}원입니다.'.format(amount,self.balance))\n",
    "        else:\n",
    "            print('잔액부족')\n",
    "    def get_info(self):\n",
    "        print('이름: {}\\n잔액: {}'.format(self.name,self.balance))\n",
    "        return"
   ]
  },
  {
   "cell_type": "code",
   "execution_count": 105,
   "id": "130a1d1a",
   "metadata": {},
   "outputs": [],
   "source": [
    "class MinimumBalanceAccount(BankAccount):\n",
    "    def __init__(self, balance=0, name='none', min_bal=0):\n",
    "        super().__init__(balance,name)\n",
    "        self.min_bal = min_bal\n",
    "    def withdraw(self, ammount):\n",
    "        if self.balance - ammount >= self.min_bal:\n",
    "            super().withdraw(ammount)\n",
    "        else:\n",
    "            print('최소잔액을 유지해야 합니다.')"
   ]
  },
  {
   "cell_type": "code",
   "execution_count": 106,
   "id": "e63ae69c",
   "metadata": {},
   "outputs": [
    {
     "name": "stdout",
     "output_type": "stream",
     "text": [
      "1000원 입금되었습니다. 잔액은 1500원입니다.\n",
      "1500원 출금되었습니다. 잔액은 0원입니다.\n"
     ]
    }
   ],
   "source": [
    "a = MinimumBalanceAccount(500,'kim')\n",
    "a.deposit(1000)\n",
    "a.withdraw(1500)"
   ]
  },
  {
   "cell_type": "code",
   "execution_count": 392,
   "id": "c244f99f",
   "metadata": {},
   "outputs": [],
   "source": [
    "class Set():\n",
    "    def __init__(self, l=[]):\n",
    "        self.setlist = list(l) # 뮤터블해서 리스트 새로 생성 바람\n",
    "        self.set = []\n",
    "        for i in self.setlist:\n",
    "            if i not in self.set:\n",
    "                self.set.append(i)\n",
    "                \n",
    "    def add(self,elem):\n",
    "        if elem not in self.set:\n",
    "            self.set.append(elem)\n",
    "            \n",
    "    def discard(self,elem):\n",
    "        if elem in self.set:\n",
    "            self.set.remove(elem)\n",
    "            \n",
    "    def clear(self):\n",
    "        self.set.clear()\n",
    "    \n",
    "    def __len__(self):\n",
    "        return len(self.set)\n",
    "        \n",
    "    def __str__(self):\n",
    "        self.res = ','.join(map(str,self.set))\n",
    "        return '{' + self.res + '}'\n",
    "    \n",
    "    def __contains__(self,elem):\n",
    "        if elem in self.set:\n",
    "            return True\n",
    "        else:\n",
    "            return False\n",
    "        \n",
    "    def __le__(self,other):\n",
    "        for i in self.set:\n",
    "            if i not in other.set:\n",
    "                return False\n",
    "        return True\n",
    "    \n",
    "    def __ge__(self,other):\n",
    "        for i in other.set:\n",
    "            if i not in self.set:\n",
    "                return False\n",
    "        return True\n",
    "    \n",
    "    def __or__(self,other):\n",
    "        union = Set()\n",
    "        for i in self.set:\n",
    "            if i not in union.set:\n",
    "                union.add(i)\n",
    "        for i in other.set:\n",
    "            if i not in union.set:\n",
    "                union.add(i)\n",
    "        return union\n",
    "        \n",
    "        \n",
    "    def __and__(self,other):\n",
    "        deff = Set()\n",
    "        for i in self.set:\n",
    "            if i in other.set:\n",
    "                deff.add(i)\n",
    "        return deff\n",
    "    \n",
    "    def __sub__(self,other):\n",
    "        sub = Set()\n",
    "        for i in self.set:\n",
    "            if i not in other.set:\n",
    "                sub.add(i)\n",
    "        return sub\n",
    "    \n",
    "    def __iand__(self,other):\n",
    "        iand = Set(self.set)\n",
    "        for i in iand.set:\n",
    "            if i not in other.set:\n",
    "                self.set.remove(i)\n",
    "        return self\n",
    "        \n",
    "    def __ior__(self,other):\n",
    "        for i in other.set:\n",
    "            if i not in self.set:\n",
    "                self.add(i)\n",
    "        return self\n",
    "        \n",
    "    def __isub__(self,other):\n",
    "        isub = Set(self.set)\n",
    "        for i in isub.set:\n",
    "            if i in other.set:\n",
    "                self.set.remove(i)\n",
    "        return self"
   ]
  },
  {
   "cell_type": "code",
   "execution_count": 391,
   "id": "e0a68fc8",
   "metadata": {},
   "outputs": [
    {
     "name": "stdout",
     "output_type": "stream",
     "text": [
      "{1,2,3,4}\n",
      "{1,2,3,4}\n",
      "\n",
      "{1,2,3}\n",
      "{2,3,4}\n",
      "\n",
      "3\n",
      "True\n",
      "False\n",
      "\n",
      "{1,2,3,4}\n",
      "{2,3}\n",
      "{1}\n",
      "\n",
      "False\n",
      "True\n",
      "False\n",
      "True\n",
      "\n",
      "{}\n",
      "\n"
     ]
    }
   ],
   "source": [
    "a = Set([1,1,2,2,3,3,4,4])\n",
    "b = Set([1,1,2,2,3,3,4,4])\n",
    "\n",
    "print(a)\n",
    "print(b)\n",
    "print()\n",
    "\n",
    "a.discard(4)\n",
    "b.discard(1)\n",
    "\n",
    "print(a)\n",
    "print(b)\n",
    "print()\n",
    "\n",
    "print(len(a))\n",
    "print(1 in a)\n",
    "print(1 in b)\n",
    "print()\n",
    "\n",
    "print(a|b)\n",
    "print(a&b)\n",
    "print(a-b)\n",
    "print()\n",
    "\n",
    "print(a<=b)\n",
    "print(a <= a | b)\n",
    "print(a>=b)\n",
    "print(a >= a & b)\n",
    "print()\n",
    "\n",
    "b.clear()\n",
    "print(b)\n",
    "print()"
   ]
  },
  {
   "cell_type": "code",
   "execution_count": 390,
   "id": "fd4733ea",
   "metadata": {},
   "outputs": [
    {
     "name": "stdout",
     "output_type": "stream",
     "text": [
      "{1,2,3,4}\n",
      "True\n",
      "\n",
      "{3}\n",
      "True\n",
      "\n",
      "{1,2}\n",
      "True\n",
      "\n"
     ]
    }
   ],
   "source": [
    "a = Set([1,2,3])\n",
    "b = Set([3,4])\n",
    "\n",
    "address_a = id(a)\n",
    "\n",
    "a|=b\n",
    "\n",
    "print(a)\n",
    "print(address_a == id(a))\n",
    "print()\n",
    "\n",
    "a = Set([1,2,3])\n",
    "b = Set([3,4])\n",
    "address_a = id(a)\n",
    "a &= b\n",
    "print(a)\n",
    "print(address_a == id(a))\n",
    "print()\n",
    "\n",
    "a = Set([1,2,3])\n",
    "b = Set([3,4])\n",
    "address_a = id(a)\n",
    "a -= b\n",
    "print(a)\n",
    "print(address_a == id(a))\n",
    "print()"
   ]
  }
 ],
 "metadata": {
  "kernelspec": {
   "display_name": "Python 3 (ipykernel)",
   "language": "python",
   "name": "python3"
  },
  "language_info": {
   "codemirror_mode": {
    "name": "ipython",
    "version": 3
   },
   "file_extension": ".py",
   "mimetype": "text/x-python",
   "name": "python",
   "nbconvert_exporter": "python",
   "pygments_lexer": "ipython3",
   "version": "3.9.7"
  }
 },
 "nbformat": 4,
 "nbformat_minor": 5
}
