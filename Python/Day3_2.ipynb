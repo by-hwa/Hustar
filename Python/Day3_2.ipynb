{
 "cells": [
  {
   "cell_type": "code",
   "execution_count": 18,
   "id": "65c82e6d",
   "metadata": {},
   "outputs": [],
   "source": [
    "f = open('new.txt', 'w')\n",
    "\n",
    "for i in range(1,6):\n",
    "    data = '%d line\\n' % i\n",
    "    f.write(data)\n",
    "\n",
    "f.close()"
   ]
  },
  {
   "cell_type": "code",
   "execution_count": null,
   "id": "573d1b51",
   "metadata": {},
   "outputs": [],
   "source": [
    "fr = open('new.txt', 'r')\n",
    "fr.tell() # 읽고있는 라인 위치를 알려줌"
   ]
  },
  {
   "cell_type": "code",
   "execution_count": 20,
   "id": "15781292",
   "metadata": {},
   "outputs": [
    {
     "name": "stdout",
     "output_type": "stream",
     "text": [
      "1 line\n",
      "\n"
     ]
    },
    {
     "data": {
      "text/plain": [
       "7"
      ]
     },
     "execution_count": 20,
     "metadata": {},
     "output_type": "execute_result"
    }
   ],
   "source": [
    "line = fr.readline()\n",
    "print(line)\n",
    "fr.tell()"
   ]
  },
  {
   "cell_type": "code",
   "execution_count": 21,
   "id": "7a5715b4",
   "metadata": {},
   "outputs": [
    {
     "name": "stdout",
     "output_type": "stream",
     "text": [
      "2 line\n",
      "\n",
      "3 line\n",
      "\n",
      "4 line\n",
      "\n",
      "5 line\n",
      "\n"
     ]
    }
   ],
   "source": [
    "while True:\n",
    "    line = fr.readline()\n",
    "    if line == '':\n",
    "        break\n",
    "    print(line)"
   ]
  },
  {
   "cell_type": "code",
   "execution_count": 22,
   "id": "ad4f00cd",
   "metadata": {},
   "outputs": [],
   "source": [
    "fr.close()"
   ]
  },
  {
   "cell_type": "code",
   "execution_count": 24,
   "id": "88f67448",
   "metadata": {},
   "outputs": [
    {
     "data": {
      "text/plain": [
       "['201901', '89', '78']"
      ]
     },
     "execution_count": 24,
     "metadata": {},
     "output_type": "execute_result"
    }
   ],
   "source": [
    "fr = open('score.txt','r')\n",
    "line = fr.readline().split()\n",
    "line"
   ]
  }
 ],
 "metadata": {
  "kernelspec": {
   "display_name": "Python 3 (ipykernel)",
   "language": "python",
   "name": "python3"
  },
  "language_info": {
   "codemirror_mode": {
    "name": "ipython",
    "version": 3
   },
   "file_extension": ".py",
   "mimetype": "text/x-python",
   "name": "python",
   "nbconvert_exporter": "python",
   "pygments_lexer": "ipython3",
   "version": "3.9.7"
  }
 },
 "nbformat": 4,
 "nbformat_minor": 5
}
