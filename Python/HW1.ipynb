{
 "cells": [
  {
   "cell_type": "markdown",
   "id": "91e9154e",
   "metadata": {},
   "source": [
    "문제1"
   ]
  },
  {
   "cell_type": "code",
   "execution_count": 5,
   "id": "cdae7f61",
   "metadata": {},
   "outputs": [
    {
     "name": "stdout",
     "output_type": "stream",
     "text": [
      "화씨온도: 100\n",
      "섭씨온도:37.77777777777778\n"
     ]
    }
   ],
   "source": [
    "F = int(input('화씨온도: '))\n",
    "print('섭씨온도:{}'.format((F-32)*5/9))"
   ]
  },
  {
   "cell_type": "markdown",
   "id": "9ed468d9",
   "metadata": {},
   "source": [
    "문제2"
   ]
  },
  {
   "cell_type": "code",
   "execution_count": 10,
   "id": "61de5740",
   "metadata": {},
   "outputs": [
    {
     "name": "stdout",
     "output_type": "stream",
     "text": [
      "투입한 돈: 5000\n",
      "물건 값: 2700\n",
      "거스름돈 :2300\n",
      "500원짜리 : 4개\n",
      "100원짜리 : 3개\n"
     ]
    }
   ],
   "source": [
    "get_money = int(input('투입한 돈: '))\n",
    "price = int(input('물건 값: '))\n",
    "money = get_money - price\n",
    "print('거스름돈 :{}'.format(money))\n",
    "c_500 = money//500\n",
    "c_100 = money%500//100\n",
    "print('500원짜리 : {}개'.format(c_500))\n",
    "print('100원짜리 : {}개'.format(c_100))"
   ]
  },
  {
   "cell_type": "markdown",
   "id": "5dcc1be0",
   "metadata": {},
   "source": [
    "문제3"
   ]
  },
  {
   "cell_type": "code",
   "execution_count": 12,
   "id": "642d4f95",
   "metadata": {},
   "outputs": [
    {
     "name": "stdout",
     "output_type": "stream",
     "text": [
      "반지름을 입력하시오 : 5\n",
      "원 둘레:31.41592\n",
      "원 넓이:78.5398\n"
     ]
    }
   ],
   "source": [
    "r = int(input('반지름을 입력하시오 : '))\n",
    "pi = 3.141592\n",
    "print('원 둘레:{}'.format(2*pi*r))\n",
    "print('원 넓이:{}'.format(pi*pow(r,2)))"
   ]
  },
  {
   "cell_type": "markdown",
   "id": "2042cdae",
   "metadata": {},
   "source": [
    "문제4"
   ]
  },
  {
   "cell_type": "code",
   "execution_count": 4,
   "id": "48d8f97f",
   "metadata": {
    "scrolled": true
   },
   "outputs": [
    {
     "name": "stdout",
     "output_type": "stream",
     "text": [
      "Enter two integers: 8 5\n",
      "8 + 5 = 13\n",
      "8 - 5 = 3\n",
      "8 * 5 = 40\n",
      "8 / 5 = 1.6\n",
      "8 % 5 = 3\n"
     ]
    }
   ],
   "source": [
    "n1, n2 = map(int,input('Enter two integers: ').split())\n",
    "print('{} + {} = {}'.format(n1,n2,n1+n2))\n",
    "print('{} - {} = {}'.format(n1,n2,n1-n2))\n",
    "print('{} * {} = {}'.format(n1,n2,n1*n2))\n",
    "print('{} / {} = {}'.format(n1,n2,n1/n2))\n",
    "print('{} % {} = {}'.format(n1,n2,n1%n2))"
   ]
  },
  {
   "cell_type": "markdown",
   "id": "1de1ad62",
   "metadata": {},
   "source": [
    "문제 5"
   ]
  },
  {
   "cell_type": "code",
   "execution_count": 7,
   "id": "8d942279",
   "metadata": {},
   "outputs": [
    {
     "name": "stdout",
     "output_type": "stream",
     "text": [
      "Enter two integers: 70 156\n",
      "The sum of 70 and 156 is 226\n",
      "The average of numbers is 113.0\n"
     ]
    }
   ],
   "source": [
    "n1, n2 = map(int,input('Enter two integers: ').split())\n",
    "print('The sum of {} and {} is {}'.format(n1,n2,n1+n2))\n",
    "print('The average of numbers is {:.1f}'.format((n1+n2)/2))\n"
   ]
  },
  {
   "cell_type": "markdown",
   "id": "9d0553b1",
   "metadata": {},
   "source": [
    "문제6"
   ]
  },
  {
   "cell_type": "code",
   "execution_count": 6,
   "id": "5f99f42b",
   "metadata": {
    "scrolled": true
   },
   "outputs": [
    {
     "name": "stdout",
     "output_type": "stream",
     "text": [
      "날짜(년/월/일)입력: 2022/03/29\n",
      "입력한 날짜의 10년 후는 2032년 3월 29일\n"
     ]
    }
   ],
   "source": [
    "year, mon, day = map(int,input('날짜(년/월/일)입력: ').split('/'))\n",
    "print('입력한 날짜의 10년 후는 {}년 {}월 {}일'.format(year+10,mon,day))"
   ]
  },
  {
   "cell_type": "code",
   "execution_count": null,
   "id": "495ca687",
   "metadata": {},
   "outputs": [],
   "source": []
  }
 ],
 "metadata": {
  "kernelspec": {
   "display_name": "Python 3 (ipykernel)",
   "language": "python",
   "name": "python3"
  },
  "language_info": {
   "codemirror_mode": {
    "name": "ipython",
    "version": 3
   },
   "file_extension": ".py",
   "mimetype": "text/x-python",
   "name": "python",
   "nbconvert_exporter": "python",
   "pygments_lexer": "ipython3",
   "version": "3.9.7"
  }
 },
 "nbformat": 4,
 "nbformat_minor": 5
}
