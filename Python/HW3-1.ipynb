{
 "cells": [
  {
   "cell_type": "markdown",
   "id": "806c3972",
   "metadata": {},
   "source": [
    "문제11"
   ]
  },
  {
   "cell_type": "code",
   "execution_count": 2,
   "id": "3a78bd00",
   "metadata": {},
   "outputs": [
    {
     "name": "stdout",
     "output_type": "stream",
     "text": [
      "Input an Interger: 3159\n",
      "★★★\n",
      "★\n",
      "★★★★★\n",
      "★★★★★★★★★\n"
     ]
    }
   ],
   "source": [
    "intg = input('Input an Interger: ')\n",
    "\n",
    "for i in intg:\n",
    "    print('★'*int(i))"
   ]
  },
  {
   "cell_type": "markdown",
   "id": "593adcf1",
   "metadata": {},
   "source": [
    "문제12"
   ]
  },
  {
   "cell_type": "code",
   "execution_count": 3,
   "id": "58b71edf",
   "metadata": {},
   "outputs": [
    {
     "name": "stdout",
     "output_type": "stream",
     "text": [
      "Enter a number: 7\n",
      "Enter a number: 2\n",
      "Enter a number: 9\n",
      "Enter a number: 3\n",
      "Enter a number: 5\n",
      "Enter a number: done\n",
      "[7.0, 2.0, 9.0, 3.0, 5.0]\n",
      "Average: 5.2\n",
      "Maximum: 9.0\n",
      "Minimum: 2.0\n"
     ]
    }
   ],
   "source": [
    "nlist = []\n",
    "\n",
    "while True:\n",
    "    Enter = input('Enter a number: ')\n",
    "    if Enter == 'done':\n",
    "        break\n",
    "    nlist.append(float(Enter))\n",
    "    \n",
    "print(nlist)\n",
    "print('Average: {}'.format(sum(nlist)/len(nlist)))\n",
    "print('Maximum: {}'.format(max(nlist)))\n",
    "print('Minimum: {}'.format(min(nlist)))"
   ]
  },
  {
   "cell_type": "markdown",
   "id": "44022a00",
   "metadata": {},
   "source": [
    "# 딕셔너리"
   ]
  },
  {
   "cell_type": "markdown",
   "id": "3cb24b0f",
   "metadata": {},
   "source": [
    "실습1"
   ]
  },
  {
   "cell_type": "code",
   "execution_count": 5,
   "id": "da87cdd0",
   "metadata": {},
   "outputs": [
    {
     "name": "stdout",
     "output_type": "stream",
     "text": [
      "1 2 10 "
     ]
    }
   ],
   "source": [
    "d = {'youn':1,'park':2,'kim':10}\n",
    "\n",
    "for i in d.values():\n",
    "    print(i,end=' ')\n",
    "    \n",
    "# key와 values를 언팩킹해서 사용\n",
    "# for k,v in d.items"
   ]
  },
  {
   "cell_type": "markdown",
   "id": "dc4edc31",
   "metadata": {},
   "source": [
    "실습2"
   ]
  },
  {
   "cell_type": "code",
   "execution_count": 17,
   "id": "d3896e0d",
   "metadata": {},
   "outputs": [
    {
     "name": "stdout",
     "output_type": "stream",
     "text": [
      "five 5\n",
      "four 4\n",
      "one 1\n",
      "three 3\n",
      "two 2\n"
     ]
    }
   ],
   "source": [
    "alpa = {'one':1, 'two':2, 'three':3, 'four':4, 'five':5}\n",
    "keys = sorted(list(alpa.keys()))\n",
    "\n",
    "for i in keys:\n",
    "    print(i,alpa[i])"
   ]
  },
  {
   "cell_type": "markdown",
   "id": "a4c29f83",
   "metadata": {},
   "source": [
    "실습3"
   ]
  },
  {
   "cell_type": "code",
   "execution_count": 19,
   "id": "04a8953f",
   "metadata": {
    "scrolled": true
   },
   "outputs": [
    {
     "name": "stdout",
     "output_type": "stream",
     "text": [
      "Enter a sentence: hello\n",
      "{'h': 1, 'e': 1, 'l': 2, 'o': 1}\n"
     ]
    }
   ],
   "source": [
    "sentence = input('Enter a sentence: ')\n",
    "dic = {}\n",
    "\n",
    "for i in sentence:\n",
    "    if i in dic:\n",
    "        dic[i] += 1\n",
    "    else:\n",
    "        dic[i] = 1\n",
    "        \n",
    "print(dic)"
   ]
  },
  {
   "cell_type": "markdown",
   "id": "dc7ef12a",
   "metadata": {},
   "source": [
    "실습4"
   ]
  },
  {
   "cell_type": "code",
   "execution_count": 26,
   "id": "e64b014a",
   "metadata": {},
   "outputs": [
    {
     "name": "stdout",
     "output_type": "stream",
     "text": [
      "[100, 70, 65, 150, 20]\n",
      "81.0\n",
      "Highes:  150\n",
      "Lowest:  20\n",
      "Average:  81.0\n"
     ]
    }
   ],
   "source": [
    "score = {'iu':100, 'heize': 70, 'zico':65, 'ailee':150,'rain': 20}\n",
    "\n",
    "score_list = list(score.values())\n",
    "\n",
    "print('Highes: ',max(score_list))\n",
    "print('Lowest: ',min(score_list))\n",
    "print('Average: ', sum(score_list)/len(score_list))"
   ]
  }
 ],
 "metadata": {
  "kernelspec": {
   "display_name": "Python 3 (ipykernel)",
   "language": "python",
   "name": "python3"
  },
  "language_info": {
   "codemirror_mode": {
    "name": "ipython",
    "version": 3
   },
   "file_extension": ".py",
   "mimetype": "text/x-python",
   "name": "python",
   "nbconvert_exporter": "python",
   "pygments_lexer": "ipython3",
   "version": "3.9.7"
  }
 },
 "nbformat": 4,
 "nbformat_minor": 5
}
