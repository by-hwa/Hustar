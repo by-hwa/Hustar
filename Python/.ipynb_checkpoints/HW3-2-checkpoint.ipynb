{
 "cells": [
  {
   "cell_type": "markdown",
   "id": "a6392444",
   "metadata": {},
   "source": [
    "# 프로그래밍 실습 3-2"
   ]
  },
  {
   "cell_type": "markdown",
   "id": "292e6a9c",
   "metadata": {},
   "source": [
    "문제1"
   ]
  },
  {
   "cell_type": "code",
   "execution_count": 30,
   "id": "e6a117e6",
   "metadata": {},
   "outputs": [
    {
     "name": "stdout",
     "output_type": "stream",
     "text": [
      "양의 정수 입력: 1\n",
      "거짓\n"
     ]
    }
   ],
   "source": [
    "intg = int(input('양의 정수 입력: '))\n",
    "\n",
    "if intg%2 == 0 or intg%3 == 0:\n",
    "    print('참')\n",
    "else:\n",
    "     print('거짓')   "
   ]
  },
  {
   "cell_type": "markdown",
   "id": "a43f80d6",
   "metadata": {},
   "source": [
    "문제2"
   ]
  },
  {
   "cell_type": "code",
   "execution_count": 45,
   "id": "e45f8fc7",
   "metadata": {},
   "outputs": [
    {
     "name": "stdout",
     "output_type": "stream",
     "text": [
      "비만도(BMI): 30로 비만입니다.\n"
     ]
    }
   ],
   "source": [
    "height = float(input('키(cm) 입력: '))/100\n",
    "weight = int(input('몸무게(kg) 입력: '))\n",
    "BMI = round(weight / pow(height,2),1)\n",
    "state = ''\n",
    "\n",
    "if BMI < 18.5:\n",
    "    state = '저체중'\n",
    "elif BMI <23:\n",
    "    state = '정상체중'\n",
    "elif BMI < 25:\n",
    "    state = '과제충'\n",
    "elif BMI < 30:\n",
    "    state = '경도비만'\n",
    "else:\n",
    "    state = '비만'\n",
    "print('비만도(BMI): {}로 {}입니다.'.format(BMI,state))"
   ]
  },
  {
   "cell_type": "markdown",
   "id": "243dd71e",
   "metadata": {},
   "source": [
    "문제3"
   ]
  },
  {
   "cell_type": "code",
   "execution_count": 70,
   "id": "d1eebeb7",
   "metadata": {},
   "outputs": [
    {
     "name": "stdout",
     "output_type": "stream",
     "text": [
      "양의 정수 입력: 17\n",
      "1\n",
      "17\n",
      "\n",
      "17의 약수의 개수: 2\n"
     ]
    }
   ],
   "source": [
    "num = int(input('양의 정수 입력: '))\n",
    "n = 0\n",
    "\n",
    "for i in range(1,num+1):\n",
    "    if num%i == 0:\n",
    "        print(i)\n",
    "        n += 1\n",
    "print('')\n",
    "print('{}의 약수의 개수: {}'.format(num,n))"
   ]
  },
  {
   "cell_type": "markdown",
   "id": "34f1b4b0",
   "metadata": {},
   "source": [
    "문제4"
   ]
  },
  {
   "cell_type": "code",
   "execution_count": 72,
   "id": "bd045646",
   "metadata": {
    "scrolled": true
   },
   "outputs": [
    {
     "name": "stdout",
     "output_type": "stream",
     "text": [
      "양의 정수 입력:12345\n",
      "54321\n"
     ]
    }
   ],
   "source": [
    "num = input('양의 정수 입력:')\n",
    "rnum = ''\n",
    "\n",
    "for i in num:\n",
    "    rnum = i+rnum\n",
    "    \n",
    "print(rnum)"
   ]
  },
  {
   "cell_type": "markdown",
   "id": "15990df9",
   "metadata": {},
   "source": [
    "문제5"
   ]
  },
  {
   "cell_type": "code",
   "execution_count": 75,
   "id": "23489910",
   "metadata": {
    "scrolled": true
   },
   "outputs": [
    {
     "name": "stdout",
     "output_type": "stream",
     "text": [
      "양의 정수 입력:12345\n",
      "15\n"
     ]
    }
   ],
   "source": [
    "num = input('양의 정수 입력:')\n",
    "\n",
    "print(num[0]+num[-1])"
   ]
  },
  {
   "cell_type": "markdown",
   "id": "2b70e473",
   "metadata": {},
   "source": [
    "문제6"
   ]
  },
  {
   "cell_type": "code",
   "execution_count": 77,
   "id": "3a4887c9",
   "metadata": {},
   "outputs": [
    {
     "name": "stdout",
     "output_type": "stream",
     "text": [
      "206\n"
     ]
    }
   ],
   "source": [
    "numlist = [30, 41, 12, 90, 74, 15]\n",
    "sumn = 0\n",
    "for i in numlist:\n",
    "    if i%2 == 0:\n",
    "        sumn += i\n",
    "print(sumn)"
   ]
  },
  {
   "cell_type": "markdown",
   "id": "54bac5f6",
   "metadata": {},
   "source": [
    "문제7"
   ]
  },
  {
   "cell_type": "code",
   "execution_count": 81,
   "id": "465298e4",
   "metadata": {},
   "outputs": [
    {
     "name": "stdout",
     "output_type": "stream",
     "text": [
      "90\n"
     ]
    }
   ],
   "source": [
    "numlist = [30, 41, 12, 90, 74, 15]\n",
    "maxn = 0\n",
    "for i in numlist:\n",
    "    if i>maxn:\n",
    "        maxn = i\n",
    "print(maxn)"
   ]
  },
  {
   "cell_type": "markdown",
   "id": "98345a33",
   "metadata": {},
   "source": [
    "문제8"
   ]
  },
  {
   "cell_type": "code",
   "execution_count": 84,
   "id": "8996d303",
   "metadata": {},
   "outputs": [
    {
     "name": "stdout",
     "output_type": "stream",
     "text": [
      "수강생 이름 입력: 호랑이\n",
      "프로그래밍 수강생이 아닙니다.\n"
     ]
    }
   ],
   "source": [
    "Names = [\"포닉스\", \"넙죽이\", \"클로바\",\"독수리\"]\n",
    "get_name = input('수강생 이름 입력: ')\n",
    "\n",
    "if get_name in Names:\n",
    "    print('프로그래밍 수강생입니다.')\n",
    "else:\n",
    "    print('프로그래밍 수강생이 아닙니다.')"
   ]
  },
  {
   "cell_type": "markdown",
   "id": "f73f9891",
   "metadata": {},
   "source": [
    "문제9"
   ]
  },
  {
   "cell_type": "code",
   "execution_count": 89,
   "id": "d880a7db",
   "metadata": {},
   "outputs": [
    {
     "name": "stdout",
     "output_type": "stream",
     "text": [
      "채울 음료 이름 입력: 생수\n",
      "추가할 개수 입력: 3\n",
      "{'커피': 5, '콜라': 3, '생수': 5, '비타민워터': 1}\n"
     ]
    }
   ],
   "source": [
    "items = { \"커피\": 5, \"콜라\": 3, \"생수\": 2,\"비타민워터\": 1 }\n",
    "item = input(\"채울 음료 이름 입력: \")\n",
    "\n",
    "if item in items:\n",
    "    add = int(input('추가할 개수 입력: '))\n",
    "    items[item] += add\n",
    "    print(items)\n",
    "else:\n",
    "    print('자판기 목록에 없는 음료입니다.')\n",
    "    "
   ]
  }
 ],
 "metadata": {
  "kernelspec": {
   "display_name": "Python 3 (ipykernel)",
   "language": "python",
   "name": "python3"
  },
  "language_info": {
   "codemirror_mode": {
    "name": "ipython",
    "version": 3
   },
   "file_extension": ".py",
   "mimetype": "text/x-python",
   "name": "python",
   "nbconvert_exporter": "python",
   "pygments_lexer": "ipython3",
   "version": "3.9.7"
  }
 },
 "nbformat": 4,
 "nbformat_minor": 5
}
