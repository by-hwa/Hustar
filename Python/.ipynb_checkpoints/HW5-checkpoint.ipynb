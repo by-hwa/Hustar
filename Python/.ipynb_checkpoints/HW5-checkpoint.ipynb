{
 "cells": [
  {
   "cell_type": "markdown",
   "id": "31f7c682",
   "metadata": {},
   "source": [
    "실습4"
   ]
  },
  {
   "cell_type": "code",
   "execution_count": 31,
   "id": "873c7c53",
   "metadata": {},
   "outputs": [
    {
     "name": "stdout",
     "output_type": "stream",
     "text": [
      "[1.5, 1.5] [7.5, 5.5] [4.140000000000001, 2.72]\n"
     ]
    }
   ],
   "source": [
    "def vector_sum(v, *vs):\n",
    "    # list deepcopy 주의 !\n",
    "    v1 = v[:]\n",
    "    for i in vs:\n",
    "        for j in range(len(i)):\n",
    "            v1[j] += i[j]\n",
    "    return v1\n",
    "\n",
    "v1=[0, 1]\n",
    "v2=[0.5, 0.5]\n",
    "v3=[1, 0]\n",
    "v4=[6, 4]\n",
    "v5=[3.14, 2.72]\n",
    "\n",
    "m1 = vector_sum(v1, v2, v3)\n",
    "m2 = vector_sum(v1, v2, v3, v4)\n",
    "m3 = vector_sum(v3, v5)\n",
    "\n",
    "print(m1,m2,m3)"
   ]
  },
  {
   "cell_type": "markdown",
   "id": "11f282d7",
   "metadata": {},
   "source": [
    "실습5"
   ]
  },
  {
   "cell_type": "code",
   "execution_count": 35,
   "id": "32ba0637",
   "metadata": {},
   "outputs": [
    {
     "name": "stdout",
     "output_type": "stream",
     "text": [
      "[1, 1, 2, 2, 3, 5, 9]\n",
      "[0, 4, 6, 9]\n",
      "[0, 0]\n"
     ]
    }
   ],
   "source": [
    "def merge_list(lis1=[0],lis2=[0]):\n",
    "    return sorted(lis1+lis2)   \n",
    "\n",
    "l = [3, 5, 9, 1, 2]\n",
    "ml1 = merge_list(l,[2,1])\n",
    "ml2 = merge_list([6,9,4])\n",
    "ml3 = merge_list()\n",
    "print(ml1) # [1, 1, 2, 2, 3, 5, 9]\n",
    "print(ml2) # [0, 4, 6, 9]\n",
    "print(ml3) # [0, 0]"
   ]
  },
  {
   "cell_type": "markdown",
   "id": "a488ecf8",
   "metadata": {},
   "source": [
    "실습6"
   ]
  },
  {
   "cell_type": "code",
   "execution_count": 9,
   "id": "51cf7375",
   "metadata": {},
   "outputs": [
    {
     "name": "stdout",
     "output_type": "stream",
     "text": [
      "** 로또 번호 자동 기입을 시작합니니다 **\n",
      "1번째 자동 기입 ==> 4 18 19 29 39 44\n",
      "2번째 자동 기입 ==> 4 7 22 34 35 38\n",
      "3번째 자동 기입 ==> 2 6 7 29 33 43\n",
      "4번째 자동 기입 ==> 7 23 24 28 37 41\n",
      "5번째 자동 기입 ==> 3 23 26 27 36 42\n",
      "6번째 자동 기입 ==> 1 8 18 21 24 30\n"
     ]
    }
   ],
   "source": [
    "import random as r\n",
    "\n",
    "lis = [x for x in range(1,46)]\n",
    "\n",
    "print('** 로또 번호 자동 기입을 시작합니니다 **')\n",
    "for i in range(6):\n",
    "    num = r.sample(lis,6)\n",
    "    num.sort()\n",
    "    print('{}번째 자동 기입 ==>'.format(i+1),*num)"
   ]
  },
  {
   "cell_type": "markdown",
   "id": "d5da989a",
   "metadata": {},
   "source": [
    "실습7"
   ]
  },
  {
   "cell_type": "code",
   "execution_count": 39,
   "id": "a6674adc",
   "metadata": {},
   "outputs": [
    {
     "name": "stdout",
     "output_type": "stream",
     "text": [
      "1\n",
      "9\n",
      "[3, 5, 2]\n"
     ]
    }
   ],
   "source": [
    "def get_min_max(l):\n",
    "    minl = min(l)\n",
    "    maxl = max(l)\n",
    "    l.remove(minl)\n",
    "    l.remove(maxl)\n",
    "    return minl, maxl\n",
    "    \n",
    "l = [3,5,9,1,2]\n",
    "\n",
    "min_val, max_val = get_min_max(l)\n",
    "\n",
    "print(min_val)\n",
    "print(max_val)\n",
    "print(l)"
   ]
  },
  {
   "cell_type": "markdown",
   "id": "0235e3b7",
   "metadata": {},
   "source": [
    "실습8"
   ]
  },
  {
   "cell_type": "code",
   "execution_count": 40,
   "id": "c55ebd4c",
   "metadata": {},
   "outputs": [
    {
     "name": "stdout",
     "output_type": "stream",
     "text": [
      "{'a': 3, 'b': 3, 'd': 7, 'e': 9, 'c': 4}\n"
     ]
    }
   ],
   "source": [
    "def comb_dict(d1, d2):\n",
    "    d3 = {}\n",
    "    \n",
    "    for i in d1:\n",
    "        if i in d3:\n",
    "            d3[i] += d1[i]\n",
    "        else:\n",
    "            d3[i] = d1[i]\n",
    "    for i in d2:\n",
    "        if i in d3:\n",
    "            d3[i] += d2[i]\n",
    "        else:\n",
    "            d3[i] = d2[i]\n",
    "    return d3\n",
    "\n",
    "d1 = {'a': 1, 'b': 3, 'd': 7, 'e': 8}\n",
    "d2 = {'a': 2, 'c': 4, 'e': 1}\n",
    "d3 = comb_dict(d1, d2)\n",
    "print(d3)"
   ]
  },
  {
   "cell_type": "markdown",
   "id": "0aaf4ef6",
   "metadata": {},
   "source": [
    "실습9"
   ]
  },
  {
   "cell_type": "code",
   "execution_count": 42,
   "id": "6dc1eea0",
   "metadata": {},
   "outputs": [
    {
     "name": "stdout",
     "output_type": "stream",
     "text": [
      "4\n",
      "300\n"
     ]
    },
    {
     "data": {
      "text/plain": [
       "0"
      ]
     },
     "execution_count": 42,
     "metadata": {},
     "output_type": "execute_result"
    }
   ],
   "source": [
    "def diff(*num):\n",
    "    return max(num)-min(num)\n",
    "\n",
    "print(diff(1,2,3,4,5))\n",
    "print(diff(-100, 200))\n",
    "diff(1) # 오류발생!"
   ]
  }
 ],
 "metadata": {
  "kernelspec": {
   "display_name": "Python 3 (ipykernel)",
   "language": "python",
   "name": "python3"
  },
  "language_info": {
   "codemirror_mode": {
    "name": "ipython",
    "version": 3
   },
   "file_extension": ".py",
   "mimetype": "text/x-python",
   "name": "python",
   "nbconvert_exporter": "python",
   "pygments_lexer": "ipython3",
   "version": "3.9.7"
  }
 },
 "nbformat": 4,
 "nbformat_minor": 5
}
