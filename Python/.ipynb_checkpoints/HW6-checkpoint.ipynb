{
 "cells": [
  {
   "cell_type": "code",
   "execution_count": 16,
   "id": "b0d8c87d",
   "metadata": {},
   "outputs": [],
   "source": [
    "class BankAccount:\n",
    "    def __init__(self, balance=0,name = 'None'):\n",
    "        self.__name = name\n",
    "        self.__balance = balance\n",
    "        return\n",
    "    \n",
    "    def deposit(self, amount):\n",
    "        self.__balance += amount\n",
    "        print('{}원 입금되었습니다. 잔액은 {}원입니다.'.format(amount,self.__balance))\n",
    "    \n",
    "    def withdraw(self, amount):\n",
    "        if self.__balance >= amount:\n",
    "            self.__balance -= amount\n",
    "            print('{}원 출금되었습니다. 잔액은 {}원입니다.'.format(amount,self.__balance))\n",
    "        else:\n",
    "            print('잔액부족')\n",
    "    def get_info(self):\n",
    "        print('이름: {}\\n잔액: {}'.format(self.__name,self.__balance))\n",
    "        return"
   ]
  },
  {
   "cell_type": "code",
   "execution_count": 17,
   "id": "1114c24e",
   "metadata": {},
   "outputs": [],
   "source": [
    "a = BankAccount(100,'gildong')"
   ]
  },
  {
   "cell_type": "code",
   "execution_count": 18,
   "id": "049fc652",
   "metadata": {},
   "outputs": [
    {
     "name": "stdout",
     "output_type": "stream",
     "text": [
      "400원 입금되었습니다. 잔액은 500원입니다.\n"
     ]
    }
   ],
   "source": [
    "a.deposit(400)"
   ]
  },
  {
   "cell_type": "code",
   "execution_count": 19,
   "id": "7e44aa30",
   "metadata": {},
   "outputs": [
    {
     "name": "stdout",
     "output_type": "stream",
     "text": [
      "잔액부족\n"
     ]
    }
   ],
   "source": [
    "a.withdraw(600)"
   ]
  },
  {
   "cell_type": "code",
   "execution_count": 20,
   "id": "f7e6b02c",
   "metadata": {},
   "outputs": [
    {
     "name": "stdout",
     "output_type": "stream",
     "text": [
      "600원 입금되었습니다. 잔액은 1100원입니다.\n"
     ]
    }
   ],
   "source": [
    "a.deposit(600)"
   ]
  },
  {
   "cell_type": "code",
   "execution_count": 21,
   "id": "7bba0a39",
   "metadata": {},
   "outputs": [
    {
     "name": "stdout",
     "output_type": "stream",
     "text": [
      "900원 출금되었습니다. 잔액은 200원입니다.\n"
     ]
    }
   ],
   "source": [
    "a.withdraw(900)"
   ]
  },
  {
   "cell_type": "code",
   "execution_count": 22,
   "id": "8c9758e7",
   "metadata": {},
   "outputs": [
    {
     "name": "stdout",
     "output_type": "stream",
     "text": [
      "이름: gildong\n",
      "잔액: 200\n"
     ]
    }
   ],
   "source": [
    "a.get_info()"
   ]
  },
  {
   "cell_type": "code",
   "execution_count": null,
   "id": "1cb6e90c",
   "metadata": {},
   "outputs": [],
   "source": []
  }
 ],
 "metadata": {
  "kernelspec": {
   "display_name": "Python 3 (ipykernel)",
   "language": "python",
   "name": "python3"
  },
  "language_info": {
   "codemirror_mode": {
    "name": "ipython",
    "version": 3
   },
   "file_extension": ".py",
   "mimetype": "text/x-python",
   "name": "python",
   "nbconvert_exporter": "python",
   "pygments_lexer": "ipython3",
   "version": "3.9.7"
  }
 },
 "nbformat": 4,
 "nbformat_minor": 5
}
