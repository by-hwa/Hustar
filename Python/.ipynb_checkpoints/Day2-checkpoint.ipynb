{
 "cells": [
  {
   "cell_type": "code",
   "execution_count": 13,
   "id": "7016e846",
   "metadata": {},
   "outputs": [
    {
     "data": {
      "text/plain": [
       "'\\n123\\n456\\n789\\n'"
      ]
     },
     "execution_count": 13,
     "metadata": {},
     "output_type": "execute_result"
    }
   ],
   "source": [
    "'''\n",
    "123\n",
    "456\n",
    "789\n",
    "'''"
   ]
  },
  {
   "cell_type": "code",
   "execution_count": 21,
   "id": "8b22de64",
   "metadata": {},
   "outputs": [
    {
     "data": {
      "text/plain": [
       "'n'"
      ]
     },
     "execution_count": 21,
     "metadata": {},
     "output_type": "execute_result"
    }
   ],
   "source": [
    "word = 'python'\n",
    "word[-1]"
   ]
  },
  {
   "cell_type": "code",
   "execution_count": 24,
   "id": "1a9ab80a",
   "metadata": {},
   "outputs": [
    {
     "data": {
      "text/plain": [
       "'py'"
      ]
     },
     "execution_count": 24,
     "metadata": {},
     "output_type": "execute_result"
    }
   ],
   "source": [
    "word[0:2]"
   ]
  },
  {
   "cell_type": "code",
   "execution_count": 26,
   "id": "86ba53d0",
   "metadata": {},
   "outputs": [
    {
     "data": {
      "text/plain": [
       "'pt'"
      ]
     },
     "execution_count": 26,
     "metadata": {},
     "output_type": "execute_result"
    }
   ],
   "source": [
    "word[0:4:2]"
   ]
  },
  {
   "cell_type": "code",
   "execution_count": 28,
   "id": "91ec3f53",
   "metadata": {},
   "outputs": [
    {
     "data": {
      "text/plain": [
       "'nohtyp'"
      ]
     },
     "execution_count": 28,
     "metadata": {},
     "output_type": "execute_result"
    }
   ],
   "source": [
    "word[::-1]"
   ]
  },
  {
   "cell_type": "code",
   "execution_count": 30,
   "id": "541d8708",
   "metadata": {},
   "outputs": [
    {
     "data": {
      "text/plain": [
       "True"
      ]
     },
     "execution_count": 30,
     "metadata": {},
     "output_type": "execute_result"
    }
   ],
   "source": [
    "'o' in word"
   ]
  },
  {
   "cell_type": "code",
   "execution_count": 44,
   "id": "61a2880d",
   "metadata": {},
   "outputs": [
    {
     "data": {
      "text/plain": [
       "'1,2,3,4'"
      ]
     },
     "execution_count": 44,
     "metadata": {},
     "output_type": "execute_result"
    }
   ],
   "source": [
    "a = ','\n",
    "a.join('1234')\n",
    "# 문자열 사이에 , 를 합쳐주는 역할"
   ]
  },
  {
   "cell_type": "code",
   "execution_count": 36,
   "id": "d44aa113",
   "metadata": {},
   "outputs": [
    {
     "data": {
      "text/plain": [
       "5"
      ]
     },
     "execution_count": 36,
     "metadata": {},
     "output_type": "execute_result"
    }
   ],
   "source": [
    "len('hello')"
   ]
  },
  {
   "cell_type": "code",
   "execution_count": 40,
   "id": "8bfb9de3",
   "metadata": {},
   "outputs": [
    {
     "data": {
      "text/plain": [
       "2"
      ]
     },
     "execution_count": 40,
     "metadata": {},
     "output_type": "execute_result"
    }
   ],
   "source": [
    "s = 'Python is Fun!'\n",
    "s.count('n')"
   ]
  },
  {
   "cell_type": "code",
   "execution_count": 42,
   "id": "66ee6304",
   "metadata": {},
   "outputs": [
    {
     "data": {
      "text/plain": [
       "5"
      ]
     },
     "execution_count": 42,
     "metadata": {},
     "output_type": "execute_result"
    }
   ],
   "source": [
    "s.index('n')"
   ]
  },
  {
   "cell_type": "code",
   "execution_count": 48,
   "id": "657efadf",
   "metadata": {},
   "outputs": [
    {
     "name": "stdout",
     "output_type": "stream",
     "text": [
      "문자를 입력하세요: hello\n",
      "o\n"
     ]
    }
   ],
   "source": [
    "word = input('문자를 입력하세요: ')\n",
    "print(word[len(word)-1])"
   ]
  },
  {
   "cell_type": "code",
   "execution_count": 53,
   "id": "3db5ba74",
   "metadata": {},
   "outputs": [],
   "source": [
    "s2 = 'one:two:three'\n",
    "a = s2.split(':')"
   ]
  },
  {
   "cell_type": "code",
   "execution_count": 57,
   "id": "9853bde4",
   "metadata": {},
   "outputs": [],
   "source": [
    "nlist = [1,2,3,4]"
   ]
  },
  {
   "cell_type": "code",
   "execution_count": 59,
   "id": "8cc407a1",
   "metadata": {},
   "outputs": [
    {
     "data": {
      "text/plain": [
       "'summer'"
      ]
     },
     "execution_count": 59,
     "metadata": {},
     "output_type": "execute_result"
    }
   ],
   "source": [
    "season = ['spring','summer','fall','winter']\n",
    "season[1]"
   ]
  },
  {
   "cell_type": "code",
   "execution_count": 61,
   "id": "458b032d",
   "metadata": {},
   "outputs": [
    {
     "data": {
      "text/plain": [
       "[1, 2, 3, 4, 5, 6, 7, 8, 9, 10]"
      ]
     },
     "execution_count": 61,
     "metadata": {},
     "output_type": "execute_result"
    }
   ],
   "source": [
    "list(range(1,11))"
   ]
  },
  {
   "cell_type": "code",
   "execution_count": 66,
   "id": "57d89979",
   "metadata": {},
   "outputs": [],
   "source": [
    "a = [x for x in range(1,11)]"
   ]
  },
  {
   "cell_type": "code",
   "execution_count": 73,
   "id": "7975ef2f",
   "metadata": {},
   "outputs": [
    {
     "data": {
      "text/plain": [
       "[1, 2, 3, 4, 5, 6]"
      ]
     },
     "execution_count": 73,
     "metadata": {},
     "output_type": "execute_result"
    }
   ],
   "source": [
    "a = [1,2,3]\n",
    "b = [4,5,6]\n",
    "a+b"
   ]
  },
  {
   "cell_type": "code",
   "execution_count": 70,
   "id": "d9de625d",
   "metadata": {},
   "outputs": [
    {
     "data": {
      "text/plain": [
       "[1, 2, 3, 1, 2, 3, 1, 2, 3]"
      ]
     },
     "execution_count": 70,
     "metadata": {},
     "output_type": "execute_result"
    }
   ],
   "source": [
    "a*3"
   ]
  },
  {
   "cell_type": "code",
   "execution_count": 74,
   "id": "91281988",
   "metadata": {},
   "outputs": [],
   "source": [
    "# del 키워드 사용해 리스트 삭제 (del a[x:y] 형태로 사용가능)\n",
    "a[2] = 8\n",
    "del a[0]"
   ]
  },
  {
   "cell_type": "code",
   "execution_count": 82,
   "id": "e4905b1c",
   "metadata": {},
   "outputs": [
    {
     "data": {
      "text/plain": [
       "[1, 2, 3]"
      ]
     },
     "execution_count": 82,
     "metadata": {},
     "output_type": "execute_result"
    }
   ],
   "source": [
    "t = [1.2,2.3,3.4]\n",
    "y = list(map(int,t))\n",
    "y\n"
   ]
  },
  {
   "cell_type": "code",
   "execution_count": 83,
   "id": "13c5cfd3",
   "metadata": {
    "scrolled": true
   },
   "outputs": [
    {
     "name": "stdout",
     "output_type": "stream",
     "text": [
      "날짜(연/월/일)입력 :1/2/3\n",
      "입력한 날짜의 10년 후는 11년 2월 3일\n"
     ]
    }
   ],
   "source": [
    "y,m,d = map(int,input('날짜(연/월/일)입력 :').split('/'))\n",
    "print('입력한 날짜의 10년 후는 {}년 {}월 {}일'.format(y+10,m,d))"
   ]
  },
  {
   "cell_type": "code",
   "execution_count": 92,
   "id": "9fa958c1",
   "metadata": {},
   "outputs": [
    {
     "name": "stdout",
     "output_type": "stream",
     "text": [
      "영어 점수 입력: 20\n",
      "수학 점수 입력: 30\n",
      "불합격: 총합점수 부족\n"
     ]
    }
   ],
   "source": [
    "eng = int(input('영어 점수 입력: '))\n",
    "math = int(input('수학 점수 입력: '))\n",
    "\n",
    "if eng+math>110:\n",
    "    if eng<40:\n",
    "        print('불합격: 영어 점수 부족')\n",
    "    elif math<40:\n",
    "        print('불합격: 수학 점수 부족')\n",
    "    else:\n",
    "        print('합격')\n",
    "else:\n",
    "    print('불합격: 총합점수 부족')"
   ]
  },
  {
   "cell_type": "code",
   "execution_count": 98,
   "id": "99faf204",
   "metadata": {},
   "outputs": [
    {
     "name": "stdout",
     "output_type": "stream",
     "text": [
      "세 개의 수를 입력하시오: 1 3 2\n",
      "가장 큰 수는 3입니다.\n"
     ]
    }
   ],
   "source": [
    "n1, n2, n3 = map(int,input('세 개의 수를 입력하시오: ').split())\n",
    "n_max = 0\n",
    "if n1<n2:\n",
    "    n_max=n2\n",
    "else:\n",
    "    n_max=n1\n",
    "    \n",
    "if n_max<n3:\n",
    "    n_max=n3\n",
    "    \n",
    "print('가장 큰 수는 {}입니다.'.format(n_max))"
   ]
  },
  {
   "cell_type": "code",
   "execution_count": 105,
   "id": "2ac4feb8",
   "metadata": {},
   "outputs": [
    {
     "name": "stdout",
     "output_type": "stream",
     "text": [
      "1 2 3 4 5 "
     ]
    }
   ],
   "source": [
    "number = 1\n",
    "while number <= 5 :\n",
    "    print(number,end = ' ')\n",
    "    number += 1"
   ]
  },
  {
   "cell_type": "code",
   "execution_count": 110,
   "id": "c52a4743",
   "metadata": {},
   "outputs": [
    {
     "name": "stdout",
     "output_type": "stream",
     "text": [
      "55\n"
     ]
    }
   ],
   "source": [
    "n = 1\n",
    "num = 0\n",
    "while n<=10:\n",
    "    num += n\n",
    "    n += 1\n",
    "print(num)"
   ]
  },
  {
   "cell_type": "code",
   "execution_count": 112,
   "id": "9be4f52f",
   "metadata": {},
   "outputs": [
    {
     "name": "stdout",
     "output_type": "stream",
     "text": [
      "3628800\n"
     ]
    }
   ],
   "source": [
    "n = 1\n",
    "num = 1\n",
    "while n<=10:\n",
    "    num *= n\n",
    "    n += 1\n",
    "print(num)"
   ]
  },
  {
   "cell_type": "code",
   "execution_count": 116,
   "id": "15154a62",
   "metadata": {
    "scrolled": false
   },
   "outputs": [
    {
     "name": "stdout",
     "output_type": "stream",
     "text": [
      "hellohellohellohellohellohellohellohellohellohellohellohellohellohellohellohellohellohellohellohellohellohellohellohellohellohellohellohellohellohellohellohellohellohellohellohellohellohellohellohellohellohellohellohellohellohellohellohellohellohellohellohellohellohellohellohellohellohellohellohellohellohellohellohellohellohellohellohellohellohellohellohellohellohellohellohellohellohellohellohellohellohellohellohellohellohellohellohellohellohellohellohellohellohellohellohellohellohellohellohello"
     ]
    }
   ],
   "source": [
    "for x in 'hello'*100:\n",
    "    print(x,end = '')"
   ]
  },
  {
   "cell_type": "code",
   "execution_count": 119,
   "id": "a13bc228",
   "metadata": {
    "scrolled": true
   },
   "outputs": [
    {
     "name": "stdout",
     "output_type": "stream",
     "text": [
      "0 hello\n",
      "1 hello\n",
      "2 hello\n",
      "3 hello\n",
      "4 hello\n",
      "5 hello\n",
      "6 hello\n",
      "7 hello\n",
      "8 hello\n",
      "9 hello\n"
     ]
    }
   ],
   "source": [
    "for x in range(10):\n",
    "    print(x,'hello')"
   ]
  },
  {
   "cell_type": "code",
   "execution_count": null,
   "id": "82fca84b",
   "metadata": {},
   "outputs": [],
   "source": []
  }
 ],
 "metadata": {
  "kernelspec": {
   "display_name": "Python 3 (ipykernel)",
   "language": "python",
   "name": "python3"
  },
  "language_info": {
   "codemirror_mode": {
    "name": "ipython",
    "version": 3
   },
   "file_extension": ".py",
   "mimetype": "text/x-python",
   "name": "python",
   "nbconvert_exporter": "python",
   "pygments_lexer": "ipython3",
   "version": "3.9.7"
  }
 },
 "nbformat": 4,
 "nbformat_minor": 5
}
