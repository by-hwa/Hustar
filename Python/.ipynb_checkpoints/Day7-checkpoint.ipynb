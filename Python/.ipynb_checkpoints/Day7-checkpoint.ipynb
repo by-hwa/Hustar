{
 "cells": [
  {
   "cell_type": "code",
   "execution_count": 29,
   "id": "d85b477b",
   "metadata": {},
   "outputs": [],
   "source": [
    "class dog:\n",
    "    kind = 'canine'\n",
    "    tricks = []\n",
    "    \n",
    "    def __init__(self, name = 'None', age = 0):\n",
    "        self.name = name\n",
    "    \n",
    "    def add_trick(self,trick):\n",
    "        self.tricks.append(trick)\n",
    "        \n",
    "    def bark(self):\n",
    "        return 'wal wal'"
   ]
  },
  {
   "cell_type": "code",
   "execution_count": 30,
   "id": "9e6bec06",
   "metadata": {},
   "outputs": [],
   "source": [
    "dog1 = dog('fido')"
   ]
  },
  {
   "cell_type": "code",
   "execution_count": 31,
   "id": "b039fd26",
   "metadata": {},
   "outputs": [],
   "source": [
    "dog2 = dog('buddy')"
   ]
  },
  {
   "cell_type": "code",
   "execution_count": 11,
   "id": "506870ce",
   "metadata": {},
   "outputs": [
    {
     "data": {
      "text/plain": [
       "'fido'"
      ]
     },
     "execution_count": 11,
     "metadata": {},
     "output_type": "execute_result"
    }
   ],
   "source": [
    "dog1.name"
   ]
  },
  {
   "cell_type": "code",
   "execution_count": 12,
   "id": "e50719f6",
   "metadata": {},
   "outputs": [
    {
     "data": {
      "text/plain": [
       "'buddy'"
      ]
     },
     "execution_count": 12,
     "metadata": {},
     "output_type": "execute_result"
    }
   ],
   "source": [
    "dog2.name"
   ]
  },
  {
   "cell_type": "code",
   "execution_count": 22,
   "id": "ab00464d",
   "metadata": {},
   "outputs": [
    {
     "data": {
      "text/plain": [
       "'puppy'"
      ]
     },
     "execution_count": 22,
     "metadata": {},
     "output_type": "execute_result"
    }
   ],
   "source": [
    "dog1.kind"
   ]
  },
  {
   "cell_type": "code",
   "execution_count": 21,
   "id": "27858d2b",
   "metadata": {},
   "outputs": [
    {
     "data": {
      "text/plain": [
       "'canine'"
      ]
     },
     "execution_count": 21,
     "metadata": {},
     "output_type": "execute_result"
    }
   ],
   "source": [
    "dog2.kind"
   ]
  },
  {
   "cell_type": "code",
   "execution_count": 20,
   "id": "b157f1b2",
   "metadata": {},
   "outputs": [
    {
     "data": {
      "text/plain": [
       "'canine'"
      ]
     },
     "execution_count": 20,
     "metadata": {},
     "output_type": "execute_result"
    }
   ],
   "source": [
    "dog.kind"
   ]
  },
  {
   "cell_type": "code",
   "execution_count": 17,
   "id": "ecaa3c0f",
   "metadata": {},
   "outputs": [
    {
     "data": {
      "text/plain": [
       "'wal wal'"
      ]
     },
     "execution_count": 17,
     "metadata": {},
     "output_type": "execute_result"
    }
   ],
   "source": [
    "dog.bark(dog1)"
   ]
  },
  {
   "cell_type": "code",
   "execution_count": 19,
   "id": "9f30bbf1",
   "metadata": {},
   "outputs": [],
   "source": [
    "dog1.kind = 'puppy'"
   ]
  },
  {
   "cell_type": "code",
   "execution_count": 33,
   "id": "16faeaa0",
   "metadata": {},
   "outputs": [],
   "source": [
    "dog1.add_trick('roll over')"
   ]
  },
  {
   "cell_type": "code",
   "execution_count": 35,
   "id": "ab6547ba",
   "metadata": {},
   "outputs": [],
   "source": [
    "dog2.add_trick('bbang')"
   ]
  },
  {
   "cell_type": "code",
   "execution_count": 37,
   "id": "84f15b34",
   "metadata": {},
   "outputs": [
    {
     "data": {
      "text/plain": [
       "['roll over', 'roll over', 'bbang', 'bbang']"
      ]
     },
     "execution_count": 37,
     "metadata": {},
     "output_type": "execute_result"
    }
   ],
   "source": [
    "dog1.tricks"
   ]
  },
  {
   "cell_type": "code",
   "execution_count": 63,
   "id": "09feb3d9",
   "metadata": {},
   "outputs": [],
   "source": [
    "class A:\n",
    "    def __init__(self):\n",
    "        print('A호출')\n",
    "    a = 1\n",
    "    def print_a(self):\n",
    "        print('A class')\n",
    "    def print_info(self):\n",
    "        print('AAA')"
   ]
  },
  {
   "cell_type": "code",
   "execution_count": 41,
   "id": "c44d205e",
   "metadata": {},
   "outputs": [],
   "source": [
    "class B:\n",
    "    b = 1\n",
    "    def print_b(self):\n",
    "        print('B class')"
   ]
  },
  {
   "cell_type": "code",
   "execution_count": 64,
   "id": "b6624109",
   "metadata": {},
   "outputs": [],
   "source": [
    "class C(A):\n",
    "    c = 1\n",
    "    def __init__(self):\n",
    "        print('ㅊ호출!!')\n",
    "    def print_c(self):\n",
    "        print('C class')\n",
    "    def print_info(self, a = 'fd'):\n",
    "        if True:\n",
    "            print(a)\n",
    "            print('CCC')"
   ]
  },
  {
   "cell_type": "code",
   "execution_count": 49,
   "id": "f54f9a6e",
   "metadata": {},
   "outputs": [],
   "source": [
    "class D(C,B):\n",
    "    d = 1\n",
    "    def print_d(self):\n",
    "        print('D class')"
   ]
  },
  {
   "cell_type": "code",
   "execution_count": 65,
   "id": "354c4eb3",
   "metadata": {},
   "outputs": [
    {
     "name": "stdout",
     "output_type": "stream",
     "text": [
      "ㅊ호출!!\n"
     ]
    }
   ],
   "source": [
    "cc = C()"
   ]
  },
  {
   "cell_type": "code",
   "execution_count": 46,
   "id": "fbf81fe1",
   "metadata": {},
   "outputs": [
    {
     "name": "stdout",
     "output_type": "stream",
     "text": [
      "C class\n"
     ]
    }
   ],
   "source": [
    "cc.print_c()"
   ]
  },
  {
   "cell_type": "code",
   "execution_count": 51,
   "id": "c5cea445",
   "metadata": {},
   "outputs": [],
   "source": [
    "dd = D()"
   ]
  },
  {
   "cell_type": "code",
   "execution_count": 66,
   "id": "a32b81a0",
   "metadata": {},
   "outputs": [
    {
     "name": "stdout",
     "output_type": "stream",
     "text": [
      "fd\n",
      "CCC\n"
     ]
    }
   ],
   "source": [
    "cc.print_info()"
   ]
  },
  {
   "cell_type": "code",
   "execution_count": 72,
   "id": "8629d67c",
   "metadata": {},
   "outputs": [],
   "source": [
    "class A:\n",
    "    def __init__(self,a,b):\n",
    "        self.a = a\n",
    "        self.b = b\n",
    "        print(self.a,self.b)\n",
    "class B(A):\n",
    "    def __init__(self,a,b,c,d):\n",
    "        super().__init__(a,b)\n",
    "        self.c = c\n",
    "        self.d = d\n",
    "        print(self.c,self.d)"
   ]
  },
  {
   "cell_type": "code",
   "execution_count": 74,
   "id": "c32f8821",
   "metadata": {},
   "outputs": [
    {
     "name": "stdout",
     "output_type": "stream",
     "text": [
      "1 2\n",
      "3 4\n"
     ]
    }
   ],
   "source": [
    "bb = B(1,2,3,4)"
   ]
  },
  {
   "cell_type": "code",
   "execution_count": 104,
   "id": "12d3e150",
   "metadata": {},
   "outputs": [],
   "source": [
    "class BankAccount:\n",
    "    def __init__(self, balance=0,name = 'None'):\n",
    "        self.name = name\n",
    "        self.balance = balance\n",
    "    \n",
    "    def deposit(self, amount):\n",
    "        self.balance += amount\n",
    "        print('{}원 입금되었습니다. 잔액은 {}원입니다.'.format(amount,self.balance))\n",
    "    \n",
    "    def withdraw(self, amount):\n",
    "        if self.balance >= amount:\n",
    "            self.balance -= amount\n",
    "            print('{}원 출금되었습니다. 잔액은 {}원입니다.'.format(amount,self.balance))\n",
    "        else:\n",
    "            print('잔액부족')\n",
    "    def get_info(self):\n",
    "        print('이름: {}\\n잔액: {}'.format(self.name,self.balance))\n",
    "        return"
   ]
  },
  {
   "cell_type": "code",
   "execution_count": 105,
   "id": "c996db6d",
   "metadata": {},
   "outputs": [],
   "source": [
    "class MinimumBalanceAccount(BankAccount):\n",
    "    def __init__(self, balance=0, name='none', min_bal=0):\n",
    "        super().__init__(balance,name)\n",
    "        self.min_bal = min_bal\n",
    "    def withdraw(self, ammount):\n",
    "        if self.balance - ammount >= self.min_bal:\n",
    "            super().withdraw(ammount)\n",
    "        else:\n",
    "            print('최소잔액을 유지해야 합니다.')"
   ]
  },
  {
   "cell_type": "code",
   "execution_count": 106,
   "id": "6b5e99dd",
   "metadata": {},
   "outputs": [
    {
     "name": "stdout",
     "output_type": "stream",
     "text": [
      "1000원 입금되었습니다. 잔액은 1500원입니다.\n",
      "1500원 출금되었습니다. 잔액은 0원입니다.\n"
     ]
    }
   ],
   "source": [
    "a = MinimumBalanceAccount(500,'kim')\n",
    "a.deposit(1000)\n",
    "a.withdraw(1500)"
   ]
  },
  {
   "cell_type": "code",
   "execution_count": 350,
   "id": "13fa2115",
   "metadata": {},
   "outputs": [],
   "source": [
    "class Set():\n",
    "    def __init__(self, l=[]):\n",
    "        self.setlist = list(l) # 뮤터블해서 리스트 새로 생성 바람\n",
    "        self.set = []\n",
    "        for i in self.setlist:\n",
    "            if i not in self.set:\n",
    "                self.set.append(i)\n",
    "                \n",
    "    def add(self,elem):\n",
    "        if elem not in self.set:\n",
    "            self.set.append(elem)\n",
    "            \n",
    "    def discard(self,elem):\n",
    "        if elem in self.set:\n",
    "            self.set.remove(elem)\n",
    "            \n",
    "    def clear(self):\n",
    "        self.set.clear()\n",
    "    \n",
    "    def __len__(self):\n",
    "        return len(self.set)\n",
    "        \n",
    "    def __str__(self):\n",
    "        self.res = ','.join(map(str,self.set))\n",
    "        return '{' + self.res + '}'\n",
    "    \n",
    "    def __contains__(self,elem):\n",
    "        if elem in self.set:\n",
    "            return True\n",
    "        else:\n",
    "            return False\n",
    "        \n",
    "    def __le__(self,other):\n",
    "        for i in self.set:\n",
    "            if i not in other.set:\n",
    "                return False\n",
    "        return True\n",
    "    \n",
    "    def __ge__(self,other):\n",
    "        for i in other.set:\n",
    "            if i not in self.set:\n",
    "                return False\n",
    "        return True\n",
    "    \n",
    "    def __or__(self,other):\n",
    "        union = Set()\n",
    "        for i in self.set:\n",
    "            if i not in union.set:\n",
    "                union.add(i)\n",
    "        for i in other.set:\n",
    "            if i not in union.set:\n",
    "                union.add(i)\n",
    "        return union\n",
    "        \n",
    "        \n",
    "    def __and__(self,other):\n",
    "        deff = Set()\n",
    "        for i in self.set:\n",
    "            if i in other.set:\n",
    "                deff.add(i)\n",
    "        return deff\n",
    "    \n",
    "    def __sub__(self,other):\n",
    "        sub = Set()\n",
    "        for i in self.set:\n",
    "            if i not in other.set:\n",
    "                sub.add(i)\n",
    "        return sub\n",
    "    \n",
    "    def __iand__(self,other):\n",
    "        self.set = self.__and__(other)\n",
    "        print(self.set)\n",
    "        return self\n",
    "        \n",
    "    def __ior__(self,other):\n",
    "        self.set = self.__or__(other)\n",
    "        print(self.set)\n",
    "        return self\n",
    "        \n",
    "    def __isub__(self,other):\n",
    "        self.set = self.__sub__(other)\n",
    "        return self"
   ]
  },
  {
   "cell_type": "code",
   "execution_count": 329,
   "id": "5e2967c6",
   "metadata": {},
   "outputs": [],
   "source": [
    "a |= b"
   ]
  },
  {
   "cell_type": "code",
   "execution_count": 352,
   "id": "49acef16",
   "metadata": {},
   "outputs": [
    {
     "name": "stdout",
     "output_type": "stream",
     "text": [
      "{1,2,3,4}\n",
      "{1,2,3,4}\n",
      "\n",
      "{1,2,3}\n",
      "{2,3,4}\n",
      "\n",
      "3\n",
      "True\n",
      "False\n",
      "\n",
      "<class 'list'>\n",
      "{1,2,3,4}\n",
      "{2,3}\n",
      "{1}\n",
      "\n",
      "False\n",
      "<class 'list'>\n",
      "True\n",
      "False\n",
      "True\n",
      "\n",
      "{}\n",
      "\n"
     ]
    }
   ],
   "source": [
    "a = Set([1,1,2,2,3,3,4,4])\n",
    "b = Set([1,1,2,2,3,3,4,4])\n",
    "\n",
    "print(a)\n",
    "print(b)\n",
    "print()\n",
    "\n",
    "a.discard(4)\n",
    "b.discard(1)\n",
    "\n",
    "print(a)\n",
    "print(b)\n",
    "print()\n",
    "\n",
    "print(len(a))\n",
    "print(1 in a)\n",
    "print(1 in b)\n",
    "print()\n",
    "\n",
    "print(a|b)\n",
    "print(a&b)\n",
    "print(a-b)\n",
    "print()\n",
    "\n",
    "print(a<=b)\n",
    "print(a <= a | b)\n",
    "print(a>=b)\n",
    "print(a >= a & b)\n",
    "print()\n",
    "\n",
    "b.clear()\n",
    "print(b)\n",
    "print()"
   ]
  },
  {
   "cell_type": "code",
   "execution_count": 351,
   "id": "9353f8f5",
   "metadata": {},
   "outputs": [
    {
     "name": "stdout",
     "output_type": "stream",
     "text": [
      "<class 'list'>\n"
     ]
    },
    {
     "ename": "AttributeError",
     "evalue": "'Set' object has no attribute 'strip'",
     "output_type": "error",
     "traceback": [
      "\u001b[0;31m---------------------------------------------------------------------------\u001b[0m",
      "\u001b[0;31mAttributeError\u001b[0m                            Traceback (most recent call last)",
      "\u001b[0;32m/tmp/ipykernel_4489/2160076529.py\u001b[0m in \u001b[0;36m<module>\u001b[0;34m\u001b[0m\n\u001b[1;32m      4\u001b[0m \u001b[0maddress_a\u001b[0m \u001b[0;34m=\u001b[0m \u001b[0mid\u001b[0m\u001b[0;34m(\u001b[0m\u001b[0ma\u001b[0m\u001b[0;34m)\u001b[0m\u001b[0;34m\u001b[0m\u001b[0;34m\u001b[0m\u001b[0m\n\u001b[1;32m      5\u001b[0m \u001b[0;34m\u001b[0m\u001b[0m\n\u001b[0;32m----> 6\u001b[0;31m \u001b[0ma\u001b[0m\u001b[0;34m|=\u001b[0m\u001b[0mb\u001b[0m\u001b[0;34m\u001b[0m\u001b[0;34m\u001b[0m\u001b[0m\n\u001b[0m\u001b[1;32m      7\u001b[0m \u001b[0;34m\u001b[0m\u001b[0m\n\u001b[1;32m      8\u001b[0m \u001b[0;31m#print(a)\u001b[0m\u001b[0;34m\u001b[0m\u001b[0;34m\u001b[0m\u001b[0m\n",
      "\u001b[0;32m/tmp/ipykernel_4489/2088215181.py\u001b[0m in \u001b[0;36m__ior__\u001b[0;34m(self, other)\u001b[0m\n\u001b[1;32m     76\u001b[0m     \u001b[0;32mdef\u001b[0m \u001b[0m__ior__\u001b[0m\u001b[0;34m(\u001b[0m\u001b[0mself\u001b[0m\u001b[0;34m,\u001b[0m\u001b[0mother\u001b[0m\u001b[0;34m)\u001b[0m\u001b[0;34m:\u001b[0m\u001b[0;34m\u001b[0m\u001b[0;34m\u001b[0m\u001b[0m\n\u001b[1;32m     77\u001b[0m         \u001b[0mself\u001b[0m\u001b[0;34m.\u001b[0m\u001b[0mset\u001b[0m \u001b[0;34m=\u001b[0m \u001b[0mself\u001b[0m\u001b[0;34m.\u001b[0m\u001b[0m__or__\u001b[0m\u001b[0;34m(\u001b[0m\u001b[0mother\u001b[0m\u001b[0;34m)\u001b[0m\u001b[0;34m\u001b[0m\u001b[0;34m\u001b[0m\u001b[0m\n\u001b[0;32m---> 78\u001b[0;31m         \u001b[0mprint\u001b[0m\u001b[0;34m(\u001b[0m\u001b[0mself\u001b[0m\u001b[0;34m.\u001b[0m\u001b[0mset\u001b[0m\u001b[0;34m.\u001b[0m\u001b[0mstrip\u001b[0m\u001b[0;34m(\u001b[0m\u001b[0;34m'{}'\u001b[0m\u001b[0;34m)\u001b[0m\u001b[0;34m)\u001b[0m\u001b[0;34m\u001b[0m\u001b[0;34m\u001b[0m\u001b[0m\n\u001b[0m\u001b[1;32m     79\u001b[0m         \u001b[0;32mreturn\u001b[0m \u001b[0mself\u001b[0m\u001b[0;34m\u001b[0m\u001b[0;34m\u001b[0m\u001b[0m\n\u001b[1;32m     80\u001b[0m \u001b[0;34m\u001b[0m\u001b[0m\n",
      "\u001b[0;31mAttributeError\u001b[0m: 'Set' object has no attribute 'strip'"
     ]
    }
   ],
   "source": [
    "a = Set([1,2,3])\n",
    "b = Set([3,4])\n",
    "\n",
    "address_a = id(a)\n",
    "\n",
    "a|=b\n",
    "\n",
    "#print(a)\n",
    "#print(address_a == id(a))\n",
    "#print()\n",
    "\n",
    "#a = Set([1,2,3])\n",
    "#b = Set([3,4])\n",
    "#address_a = id(a)\n",
    "#a &= b\n",
    "#print(a)\n",
    "#print(address_a == id(a))\n",
    "#print()\n",
    "\n",
    "#a = Set([1,2,3])\n",
    "#b = Set([3,4])\n",
    "#address_a = id(a)\n"
   ]
  }
 ],
 "metadata": {
  "kernelspec": {
   "display_name": "Python 3 (ipykernel)",
   "language": "python",
   "name": "python3"
  },
  "language_info": {
   "codemirror_mode": {
    "name": "ipython",
    "version": 3
   },
   "file_extension": ".py",
   "mimetype": "text/x-python",
   "name": "python",
   "nbconvert_exporter": "python",
   "pygments_lexer": "ipython3",
   "version": "3.9.7"
  }
 },
 "nbformat": 4,
 "nbformat_minor": 5
}
