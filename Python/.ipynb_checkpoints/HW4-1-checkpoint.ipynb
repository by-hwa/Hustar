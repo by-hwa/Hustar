{
 "cells": [
  {
   "cell_type": "markdown",
   "id": "48f71307",
   "metadata": {},
   "source": [
    "과제4-문제 1"
   ]
  },
  {
   "cell_type": "code",
   "execution_count": 4,
   "id": "d0856559",
   "metadata": {},
   "outputs": [
    {
     "name": "stdout",
     "output_type": "stream",
     "text": [
      "{'first': 1, 'line': 3, 'second': 1, 'third': 1}\n"
     ]
    }
   ],
   "source": [
    "f = open('test.txt', 'r')\n",
    "dic = {}\n",
    "\n",
    "fr = f.read()\n",
    "\n",
    "for i in fr.split():\n",
    "    if i in dic:\n",
    "        dic[i] += 1\n",
    "    else:\n",
    "        dic[i] = 1\n",
    "\n",
    "print(dic)\n",
    "\n",
    "f.close()"
   ]
  },
  {
   "cell_type": "markdown",
   "id": "f230bf52",
   "metadata": {},
   "source": [
    "과제4-문제2"
   ]
  },
  {
   "cell_type": "code",
   "execution_count": 15,
   "id": "b694d2bb",
   "metadata": {
    "scrolled": false
   },
   "outputs": [
    {
     "name": "stdout",
     "output_type": "stream",
     "text": [
      "Enter a file name: test.txt\n",
      "FIRST LINE\n",
      "SECOND LINE\n",
      "THIRD LINE\n",
      "\n"
     ]
    }
   ],
   "source": [
    "# import os\n",
    "# os.path.exists(파일명)\n",
    "# 파일이나 디렉토리가 있는지 검사\n",
    "\n",
    "\n",
    "fname = input('Enter a file name: ')\n",
    "\n",
    "try:\n",
    "    f = open(fname, 'r')\n",
    "    fr = f.read().upper()\n",
    "    print(fr)\n",
    "\n",
    "    f.close()\n",
    "    \n",
    "except:\n",
    "    print('파일이 존재하지 않는다!')"
   ]
  },
  {
   "cell_type": "markdown",
   "id": "375fc7d1",
   "metadata": {},
   "source": [
    "과제4-문제4"
   ]
  },
  {
   "cell_type": "code",
   "execution_count": 35,
   "id": "dc1801d3",
   "metadata": {},
   "outputs": [
    {
     "name": "stdout",
     "output_type": "stream",
     "text": [
      "201901 89 78 83.5(B)\n",
      "201902 76 84 80.0(B)\n",
      "201903 67 42 54.5(F)\n",
      "201904 66 88 77.0(C)\n",
      "201905 98 99 98.5(A)\n"
     ]
    }
   ],
   "source": [
    "fr = open('score.txt','r')\n",
    "fw = open('report.txt', 'w')\n",
    "\n",
    "grade = ''\n",
    "\n",
    "def get_grade(score):\n",
    "    if score>=90:\n",
    "        return 'A'\n",
    "    elif score>=80:\n",
    "        return 'B'\n",
    "    elif score>=70:\n",
    "        return 'C'\n",
    "    elif score>=60:\n",
    "        return 'D'\n",
    "    else:\n",
    "        return 'F'\n",
    "\n",
    "for i in fr:\n",
    "    score = i.split()\n",
    "    s_score = (int(score[1]) + int(score[2]))/2\n",
    "    grade = get_grade(s_score)\n",
    "    \n",
    "    contents = ' '.join(score) + ' {}({})'.format(s_score,grade)\n",
    "    fw.write(contents)\n",
    "    print(contents)\n",
    "    \n",
    "    \n",
    "fr.close()\n",
    "fw.close()"
   ]
  },
  {
   "cell_type": "markdown",
   "id": "1d019023",
   "metadata": {},
   "source": [
    "실습5-실습1"
   ]
  },
  {
   "cell_type": "code",
   "execution_count": 1,
   "id": "62c65519",
   "metadata": {},
   "outputs": [
    {
     "name": "stdout",
     "output_type": "stream",
     "text": [
      "6 14\n",
      "6 14\n"
     ]
    }
   ],
   "source": [
    "def my_len(x):\n",
    "    lens = 0\n",
    "    for i in x:\n",
    "        lens += 1\n",
    "    return lens\n",
    "\n",
    "a = [5,5,6,7,8,3]\n",
    "b = 'Life is short.'\n",
    "print(len(a), len(b))\n",
    "# 내장 함수 len()\n",
    "print(my_len(a), my_len(b)) # my_len()"
   ]
  },
  {
   "cell_type": "markdown",
   "id": "603e9a35",
   "metadata": {},
   "source": [
    "실습5-실습2"
   ]
  },
  {
   "cell_type": "code",
   "execution_count": 4,
   "id": "45f82d2c",
   "metadata": {},
   "outputs": [
    {
     "name": "stdout",
     "output_type": "stream",
     "text": [
      "6\n",
      "120\n"
     ]
    }
   ],
   "source": [
    "def mult(a,b):\n",
    "    ans = 1\n",
    "    for i in range(a,b+1):\n",
    "        ans *= i\n",
    "    return ans\n",
    "\n",
    "print(mult(1,3))\n",
    "print(mult(2,5))"
   ]
  },
  {
   "cell_type": "markdown",
   "id": "e99092cd",
   "metadata": {},
   "source": [
    "실습5-실습3"
   ]
  },
  {
   "cell_type": "code",
   "execution_count": 5,
   "id": "ed6861b8",
   "metadata": {},
   "outputs": [
    {
     "name": "stdout",
     "output_type": "stream",
     "text": [
      "-9 7\n"
     ]
    }
   ],
   "source": [
    "def sum_pos_neg(lis):\n",
    "    pos,neg = 0,0 \n",
    "    for i in lis:\n",
    "        if i>0:\n",
    "            pos += i\n",
    "        elif i<0:\n",
    "            neg += i\n",
    "    return neg, pos\n",
    "\n",
    "neg, pos = sum_pos_neg([3,4,-6,-3])\n",
    "\n",
    "print(neg,pos)"
   ]
  }
 ],
 "metadata": {
  "kernelspec": {
   "display_name": "Python 3 (ipykernel)",
   "language": "python",
   "name": "python3"
  },
  "language_info": {
   "codemirror_mode": {
    "name": "ipython",
    "version": 3
   },
   "file_extension": ".py",
   "mimetype": "text/x-python",
   "name": "python",
   "nbconvert_exporter": "python",
   "pygments_lexer": "ipython3",
   "version": "3.9.7"
  }
 },
 "nbformat": 4,
 "nbformat_minor": 5
}
