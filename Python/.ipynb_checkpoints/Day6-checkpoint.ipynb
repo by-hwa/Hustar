{
 "cells": [
  {
   "cell_type": "code",
   "execution_count": 9,
   "id": "c15741ae",
   "metadata": {},
   "outputs": [
    {
     "name": "stdout",
     "output_type": "stream",
     "text": [
      "10000000\n",
      "9999000\n",
      "9999000\n"
     ]
    }
   ],
   "source": [
    "balance = 0\n",
    "\n",
    "def deposit(amount):\n",
    "    global balance\n",
    "    balance += amount\n",
    "    return balance\n",
    "\n",
    "def withdraw(amount):\n",
    "    global balance\n",
    "    balance -= amount\n",
    "    return balance\n",
    "\n",
    "print(deposit(10000000))\n",
    "print(withdraw(1000))\n",
    "print(balance)"
   ]
  },
  {
   "cell_type": "code",
   "execution_count": 10,
   "id": "418780a0",
   "metadata": {},
   "outputs": [],
   "source": [
    "list_ex = [1,2,3]"
   ]
  },
  {
   "cell_type": "code",
   "execution_count": 12,
   "id": "0cad3b1f",
   "metadata": {},
   "outputs": [
    {
     "name": "stdout",
     "output_type": "stream",
     "text": [
      "<class 'list'>\n"
     ]
    }
   ],
   "source": [
    "print(type(list_ex))"
   ]
  },
  {
   "cell_type": "code",
   "execution_count": 15,
   "id": "06839ac8",
   "metadata": {},
   "outputs": [
    {
     "data": {
      "text/plain": [
       "['h', 'e', 'l', 'l', 'o']"
      ]
     },
     "execution_count": 15,
     "metadata": {},
     "output_type": "execute_result"
    }
   ],
   "source": [
    "list_ex = list('hello')\n",
    "list_ex "
   ]
  },
  {
   "cell_type": "code",
   "execution_count": 48,
   "id": "c9c970ab",
   "metadata": {},
   "outputs": [],
   "source": [
    "class dog:\n",
    "    name = 'MongJa'\n",
    "    def __init__(self, name = 'None', age = 0):\n",
    "        print('호출되었다 init')\n",
    "        self.name = name\n",
    "        self.age = age\n",
    "        \n",
    "    def bark(self):\n",
    "        return 'wal wal'"
   ]
  },
  {
   "cell_type": "code",
   "execution_count": 36,
   "id": "a97cc7b8",
   "metadata": {},
   "outputs": [],
   "source": [
    "dog1 = dog()"
   ]
  },
  {
   "cell_type": "code",
   "execution_count": 37,
   "id": "03783545",
   "metadata": {},
   "outputs": [
    {
     "name": "stdout",
     "output_type": "stream",
     "text": [
      "<class '__main__.dog'>\n"
     ]
    }
   ],
   "source": [
    "print(type(dog1))"
   ]
  },
  {
   "cell_type": "code",
   "execution_count": 40,
   "id": "bed298ed",
   "metadata": {},
   "outputs": [
    {
     "data": {
      "text/plain": [
       "'wal wal'"
      ]
     },
     "execution_count": 40,
     "metadata": {},
     "output_type": "execute_result"
    }
   ],
   "source": [
    "dog1.bark()"
   ]
  },
  {
   "cell_type": "code",
   "execution_count": 43,
   "id": "eac108e7",
   "metadata": {},
   "outputs": [
    {
     "data": {
      "text/plain": [
       "'MongJa'"
      ]
     },
     "execution_count": 43,
     "metadata": {},
     "output_type": "execute_result"
    }
   ],
   "source": [
    "dog1.name"
   ]
  },
  {
   "cell_type": "code",
   "execution_count": 45,
   "id": "d1e4cd1e",
   "metadata": {},
   "outputs": [],
   "source": [
    "dog2 = dog()"
   ]
  },
  {
   "cell_type": "code",
   "execution_count": 47,
   "id": "3e6bdec2",
   "metadata": {},
   "outputs": [
    {
     "data": {
      "text/plain": [
       "'MongJa'"
      ]
     },
     "execution_count": 47,
     "metadata": {},
     "output_type": "execute_result"
    }
   ],
   "source": [
    "dog2.name"
   ]
  },
  {
   "cell_type": "code",
   "execution_count": 51,
   "id": "4405196e",
   "metadata": {},
   "outputs": [
    {
     "name": "stdout",
     "output_type": "stream",
     "text": [
      "호출되었다 init\n",
      "김성진 5\n"
     ]
    }
   ],
   "source": [
    "a  = dog('김성진',5)\n",
    "print(a.name,a.age)"
   ]
  },
  {
   "cell_type": "code",
   "execution_count": 71,
   "id": "b947c34f",
   "metadata": {},
   "outputs": [],
   "source": [
    "class Person:\n",
    "    def __init__(self,name='None',age = 0,height = 0,weight=0):\n",
    "        self.__name = name\n",
    "        self.age = age\n",
    "        self.height = height\n",
    "        self.weight = weight\n",
    "        return\n",
    "    def inc_age(self):\n",
    "        self.age += 1\n",
    "        print(self.age)\n",
    "        return\n",
    "    def change_height(self,height):\n",
    "        self.height = height\n",
    "        print(self.height)\n",
    "        return\n",
    "    def change_weight(self,weight):\n",
    "        self.weight = weight\n",
    "        print(self.weight)\n",
    "        return\n",
    "    def print_inf(self):\n",
    "        print('이름:{} 나이:{} 키:{} 몸무게:{}'.format(self.__name,self.age,self.height,self.weight))\n",
    "        return\n",
    "    \n",
    "hong = Person('홍길동',12,150,44)\n",
    "bye = Person('이병화', 26, 173, 60)\n",
    "        "
   ]
  },
  {
   "cell_type": "code",
   "execution_count": 81,
   "id": "0d76c26d",
   "metadata": {},
   "outputs": [
    {
     "name": "stdout",
     "output_type": "stream",
     "text": [
      "이름:홍길동 나이:21 키:150 몸무게:44\n",
      "이름:이병화 나이:26 키:173 몸무게:60\n",
      "22\n",
      "이름:홍길동 나이:22 키:150 몸무게:44\n"
     ]
    }
   ],
   "source": [
    "hong.print_inf()\n",
    "bye.print_inf()\n",
    "\n",
    "hong.inc_age()\n",
    "hong.print_inf()\n"
   ]
  }
 ],
 "metadata": {
  "kernelspec": {
   "display_name": "Python 3 (ipykernel)",
   "language": "python",
   "name": "python3"
  },
  "language_info": {
   "codemirror_mode": {
    "name": "ipython",
    "version": 3
   },
   "file_extension": ".py",
   "mimetype": "text/x-python",
   "name": "python",
   "nbconvert_exporter": "python",
   "pygments_lexer": "ipython3",
   "version": "3.9.7"
  }
 },
 "nbformat": 4,
 "nbformat_minor": 5
}
