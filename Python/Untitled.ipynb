{
 "cells": [
  {
   "cell_type": "code",
   "execution_count": 80,
   "id": "745269ef",
   "metadata": {},
   "outputs": [
    {
     "name": "stdout",
     "output_type": "stream",
     "text": [
      "{201801: [84, 73], 201802: [92, 89], 201803: [57, 62], 201804: [58, 68]}\n",
      "139762666176768\n",
      "[(201802, [92, 89]), (201801, [84, 73]), (201804, [58, 68]), (201803, [57, 62])]\n",
      "139762684200256\n"
     ]
    }
   ],
   "source": [
    "stu_dict = {201801:[84,73], 201802:[92,89], 201803:[57,62], 201804:[58,68]}\n",
    "print(stu_dict)\n",
    "print(id(stu_dict))\n",
    "sorted\n",
    "stu_dict = sorted(stu_dict.items(),key = lambda a:a[1][0], reverse=True)\n",
    "print(stu_dict)\n",
    "print(id(stu_dict))"
   ]
  }
 ],
 "metadata": {
  "kernelspec": {
   "display_name": "Python 3 (ipykernel)",
   "language": "python",
   "name": "python3"
  },
  "language_info": {
   "codemirror_mode": {
    "name": "ipython",
    "version": 3
   },
   "file_extension": ".py",
   "mimetype": "text/x-python",
   "name": "python",
   "nbconvert_exporter": "python",
   "pygments_lexer": "ipython3",
   "version": "3.9.7"
  }
 },
 "nbformat": 4,
 "nbformat_minor": 5
}
