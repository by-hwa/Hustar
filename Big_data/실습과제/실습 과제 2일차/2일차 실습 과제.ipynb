{
 "cells": [
  {
   "cell_type": "markdown",
   "id": "modern-portland",
   "metadata": {
    "pycharm": {
     "name": "#%% md\n"
    }
   },
   "source": [
    "## 실습 1: 사람 키로 몸무게 예측\n",
    "### 1) 사람 키와 몸무게 두 변수에 대한 산점도 그리기\n",
    "### 2) 사람 키(키) 데이터를 가지고 몸무게를 예측하는 선형 회귀모형 만들어보기 (train_data : test_data = 7:3 split)\n",
    "### 3) 회귀식의 기울기와 y 절편 구하기\n",
    "### 4) R^2, MSE 계산하기"
   ]
  },
  {
   "cell_type": "code",
   "execution_count": 1,
   "id": "substantial-berry",
   "metadata": {
    "pycharm": {
     "name": "#%%\n"
    }
   },
   "outputs": [],
   "source": [
    "import warnings\n",
    "\n",
    "warnings.filterwarnings(action='ignore')"
   ]
  },
  {
   "cell_type": "code",
   "execution_count": 2,
   "id": "heavy-navigator",
   "metadata": {
    "pycharm": {
     "name": "#%%\n"
    }
   },
   "outputs": [],
   "source": [
    "import numpy as np\n",
    "import pandas as pd\n",
    "from sklearn.linear_model import LinearRegression\n",
    "from sklearn.metrics import mean_squared_error, r2_score\n",
    "import matplotlib.pyplot as plt\n",
    "import seaborn as sns\n",
    "from sklearn.model_selection import train_test_split"
   ]
  },
  {
   "cell_type": "code",
   "execution_count": 35,
   "id": "printable-logan",
   "metadata": {
    "pycharm": {
     "name": "#%%\n"
    }
   },
   "outputs": [
    {
     "name": "stdout",
     "output_type": "stream",
     "text": [
      "데이터 셋 크기 (9686, 25)\n",
      "<class 'pandas.core.frame.DataFrame'>\n",
      "RangeIndex: 9686 entries, 0 to 9685\n",
      "Data columns (total 25 columns):\n",
      " #   Column      Non-Null Count  Dtype  \n",
      "---  ------      --------------  -----  \n",
      " 0   ID          9686 non-null   object \n",
      " 1   최종가중치       9686 non-null   float64\n",
      " 2   학교ID        9686 non-null   object \n",
      " 3   도시규모        9686 non-null   object \n",
      " 4   도시규모별분석용    9686 non-null   object \n",
      " 5   학년도         9686 non-null   int64  \n",
      " 6   광역시도        9686 non-null   object \n",
      " 7   시도별         9686 non-null   object \n",
      " 8   학교급별        9686 non-null   int64  \n",
      " 9   학교명         9686 non-null   object \n",
      " 10  공학여부        9686 non-null   object \n",
      " 11  학년          9686 non-null   int64  \n",
      " 12  반           9686 non-null   int64  \n",
      " 13  성별          9686 non-null   object \n",
      " 14  건강검진일       9686 non-null   int64  \n",
      " 15  키           9686 non-null   float64\n",
      " 16  몸무게         9682 non-null   float64\n",
      " 17  혈당식전mgdl    338 non-null    float64\n",
      " 18  총콜레스테롤mgdl  339 non-null    float64\n",
      " 19  ASTUL       336 non-null    float64\n",
      " 20  ALTUL       337 non-null    float64\n",
      " 21  혈색소gdl      578 non-null    float64\n",
      " 22  간염검사        831 non-null    object \n",
      " 23  수축기         3025 non-null   float64\n",
      " 24  이완기         3025 non-null   float64\n",
      "dtypes: float64(10), int64(5), object(10)\n",
      "memory usage: 1.8+ MB\n",
      "None\n",
      "ID               0\n",
      "최종가중치            0\n",
      "학교ID             0\n",
      "도시규모             0\n",
      "도시규모별분석용         0\n",
      "학년도              0\n",
      "광역시도             0\n",
      "시도별              0\n",
      "학교급별             0\n",
      "학교명              0\n",
      "공학여부             0\n",
      "학년               0\n",
      "반                0\n",
      "성별               0\n",
      "건강검진일            0\n",
      "키                0\n",
      "몸무게              4\n",
      "혈당식전mgdl      9348\n",
      "총콜레스테롤mgdl    9347\n",
      "ASTUL         9350\n",
      "ALTUL         9349\n",
      "혈색소gdl        9108\n",
      "간염검사          8855\n",
      "수축기           6661\n",
      "이완기           6661\n",
      "dtype: int64\n",
      "             최종가중치     학년도         학교급별           학년            반  \\\n",
      "count  9686.000000  9686.0  9686.000000  9686.000000  9686.000000   \n",
      "mean    104.894487  2015.0     1.995767     2.567933     2.659096   \n",
      "std      39.376988     0.0     0.856499     1.414243     2.601067   \n",
      "min      23.325794  2015.0     1.000000     1.000000     1.000000   \n",
      "25%      76.966829  2015.0     1.000000     1.000000     1.000000   \n",
      "50%      99.963287  2015.0     2.000000     2.000000     1.000000   \n",
      "75%     133.231158  2015.0     3.000000     3.000000     3.000000   \n",
      "max     248.300844  2015.0     3.000000     6.000000    15.000000   \n",
      "\n",
      "              건강검진일            키          몸무게   혈당식전mgdl  총콜레스테롤mgdl  \\\n",
      "count  9.686000e+03  9686.000000  9682.000000  338.00000  339.000000   \n",
      "mean   2.015047e+07   154.564444    50.207591   92.14497  173.516519   \n",
      "std    1.014788e+02    16.968590    17.075953   10.49571   32.567571   \n",
      "min    2.015023e+07   107.700000    15.900000   65.00000  102.000000   \n",
      "25%    2.015041e+07   142.000000    37.200000   85.00000  148.500000   \n",
      "50%    2.015043e+07   158.700000    50.700000   91.00000  170.000000   \n",
      "75%    2.015051e+07   167.200000    60.600000   99.00000  191.000000   \n",
      "max    2.015091e+07   194.200000   130.700000  132.00000  300.000000   \n",
      "\n",
      "            ASTUL       ALTUL      혈색소gdl          수축기          이완기  \n",
      "count  336.000000  337.000000  578.000000  3025.000000  3025.000000  \n",
      "mean    27.824405   30.311573   12.976990   104.830083    62.987438  \n",
      "std     19.327395   32.191960    1.092454    12.661348     7.948402  \n",
      "min     11.000000    8.000000    9.000000    65.000000    23.000000  \n",
      "25%     19.000000   14.000000   12.400000    98.000000    60.000000  \n",
      "50%     24.000000   20.000000   13.200000   105.000000    62.000000  \n",
      "75%     30.000000   32.000000   13.675000   112.000000    69.000000  \n",
      "max    186.000000  272.000000   15.700000   180.000000    98.000000  \n",
      "[16.4, 16.7, 17.0, 17.3, 17.7, 17.8, 18.5, 18.6, 18.7, 19.1, 19.2, 19.4, 19.5, 19.7, 20.5, 21.4, 21.5, 21.7, 21.8, 22.3, 23.2, 24.9, 25.1, 25.6, 25.9, 27.6, 28.0, 28.5, 28.6, 29.3, 29.7, 29.8, 30.1, 30.7, 31.2, 31.4, 32.6, 32.7, 33.4, 33.7, 33.8, 33.9, 34.9, 35.8, 35.9, 36.1, 36.4, 36.5, 36.6, 36.9, 37.1, 37.4, 37.6, 37.8, 37.9, 38.0, 38.5, 38.6, 38.8, 38.9, 39.4, 39.6, 39.7, 39.9, 40.3, 40.7, 40.9, 41.0, 41.2, 41.4, 41.5, 41.7, 42.0, 42.1, 42.3, 42.4, 42.5, 42.6, 42.8, 42.9, 43.0, 43.1, 43.2, 43.6, 43.7, 44.1, 44.3, 44.4, 44.6, 45.1, 45.2, 45.3, 45.5, 45.7, 45.9, 46.0, 46.5, 46.6, 46.9, 47.2, 47.4, 47.6, 47.7, 47.8, 47.9, 48.1, 48.4, 48.7, 48.9, 49.0, 49.1, 49.2, 49.3, 49.6, 49.7, 50.2, 50.3, 50.7, 51.1, 51.3, 51.6, 51.7, 51.8, 52.0, 52.5, 52.6, 52.8, 53.1, 53.5, 53.6, 53.9, 54.6, 54.8, 54.9, 55.1, 56.3, 56.5, 56.9, 57.0, 57.6, 57.7, 57.8, 58.2, 58.7, 58.8, 58.9, 59.1, 59.3, 60.2, 60.3, 62.1, 63.8, 64.5, 64.9, 65.7, 66.4, 68.9, 70.6, 71.6, nan, 15.9, 16.8, 17.4, 17.6, 17.9, 18.0, 18.2, 18.3, 18.4, 18.9, 19.0, 19.3, 19.6, 19.8, 19.9, 20.0, 20.1, 20.2, 20.3, 20.4, 20.6, 20.7, 20.8, 20.9, 21.0, 21.1, 21.2, 21.3, 21.6, 21.9, 22.0, 22.1, 22.2, 22.4, 22.5, 22.6, 22.7, 22.8, 22.9, 23.0, 23.1, 23.3, 23.4, 23.5, 23.6, 23.7, 23.8, 23.9, 24.0, 24.1, 24.2, 24.3, 24.4, 24.5, 24.6, 24.7, 24.8, 25.0, 25.2, 25.3, 25.4, 25.5, 25.7, 25.8, 26.0, 26.1, 26.2, 26.3, 26.4, 26.5, 26.6, 26.7, 26.8, 26.9, 27.0, 27.1, 27.2, 27.3, 27.4, 27.5, 27.7, 27.8, 27.9, 28.1, 28.2, 28.3, 28.4, 28.7, 28.8, 28.9, 29.0, 29.1, 29.2, 29.4, 29.5, 29.6, 29.9, 30.0, 30.2, 30.3, 30.4, 30.5, 30.6, 30.8, 30.9, 31.0, 31.1, 31.3, 31.5, 31.6, 31.7, 31.8, 31.9, 32.0, 32.1, 32.2, 32.3, 32.4, 32.5, 32.8, 32.9, 33.0, 33.1, 33.2, 33.3, 33.5, 33.6, 34.0, 34.1, 34.2, 34.3, 34.4, 34.5, 34.6, 34.7, 34.8, 35.0, 35.1, 35.2, 35.3, 35.4, 35.5, 35.6, 35.7, 36.0, 36.2, 36.3, 36.7, 36.8, 37.0, 37.2, 37.3, 37.5, 37.7, 38.1, 38.2, 38.3, 38.4, 38.7, 39.0, 39.1, 39.2, 39.3, 39.5, 39.8, 40.0, 40.1, 40.2, 40.4, 40.5, 40.6, 40.8, 41.1, 41.3, 41.6, 41.8, 41.9, 42.2, 42.7, 43.3, 43.4, 43.5, 43.8, 43.9, 44.0, 44.2, 44.5, 44.7, 44.8, 44.9, 45.0, 45.4, 45.6, 45.8, 46.1, 46.2, 46.3, 46.4, 46.7, 46.8, 47.0, 47.1, 47.3, 47.5, 48.0, 48.2, 48.3, 48.5, 48.6, 48.8, 49.4, 49.5, 49.8, 49.9, 50.0, 50.1, 50.4, 50.5, 50.6, 50.8, 50.9, 51.0, 51.2, 51.4, 51.5, 51.9, 52.1, 52.2, 52.3, 52.4, 52.7, 52.9, 53.0, 53.2, 53.3, 53.4, 53.7, 53.8, 54.0, 54.1, 54.2, 54.3, 54.4, 54.5, 54.7, 55.0, 55.2, 55.3, 55.4, 55.5, 55.6, 55.7, 55.8, 55.9, 56.0, 56.1, 56.2, 56.4, 56.6, 56.7, 56.8, 57.1, 57.2, 57.3, 57.4, 57.5, 57.9, 58.0, 58.1, 58.3, 58.4, 58.5, 58.6, 59.0, 59.2, 59.4, 59.5, 59.6, 59.7, 59.8, 59.9, 60.0, 60.1, 60.4, 60.5, 60.6, 60.7, 60.8, 60.9, 61.0, 61.1, 61.2, 61.3, 61.4, 61.5, 61.6, 61.7, 61.8, 61.9, 62.0, 62.2, 62.3, 62.4, 62.5, 62.6, 62.7, 62.8, 62.9, 63.0, 63.1, 63.2, 63.3, 63.4, 63.5, 63.6, 63.7, 63.9, 64.0, 64.1, 64.2, 64.3, 64.4, 64.6, 64.7, 64.8, 65.0, 65.1, 65.2, 65.3, 65.4, 65.5, 65.6, 65.8, 65.9, 66.0, 66.1, 66.2, 66.3, 66.5, 66.6, 66.7, 66.8, 66.9, 67.0, 67.1, 67.2, 67.3, 67.4, 67.5, 67.6, 67.7, 67.8, 67.9, 68.0, 68.1, 68.2, 68.3, 68.4, 68.5, 68.6, 68.7, 68.8, 69.0, 69.1, 69.2, 69.3, 69.4, 69.5, 69.6, 69.7, 69.8, 69.9, 70.0, 70.1, 70.2, 70.3, 70.4, 70.5, 70.7, 70.8, 70.9, 71.0, 71.1, 71.2, 71.3, 71.4, 71.5, 71.7, 71.8, 71.9, 72.0, 72.1, 72.2, 72.3, 72.4, 72.5, 72.6, 72.7, 72.8, 72.9, 73.0, 73.1, 73.2, 73.3, 73.4, 73.5, 73.6, 73.7, 73.8, 73.9, 74.0, 74.1, 74.2, 74.3, 74.4, 74.5, 74.6, 74.7, 74.8, 74.9, 75.0, 75.1, 75.2, 75.3, 75.4, 75.5, 75.6, 75.7, 75.8, 75.9, 76.0, 76.1, 76.2, 76.3, 76.4, 76.5, 76.6, 76.7, 76.8, 76.9, 77.0, 77.1, 77.2, 77.3, 77.4, 77.5, 77.6, 77.7, 77.8, 77.9, 78.0, 78.1, 78.2, 78.3, 78.4, 78.5, 78.6, 78.7, 78.8, 78.9, 79.0, 79.1, 79.2, 79.3, 79.4, 79.5, 79.7, 79.8, 79.9, 80.0, 80.1, 80.2, 80.3, 80.4, 80.5, 80.6, 80.7, 80.8, 80.9, 81.0, 81.1, 81.3, 81.5, 81.6, 81.7, 81.8, 81.9, 82.0, 82.1, 82.2, 82.3, 82.4, 82.5, 82.6, 82.7, 82.8, 82.9, 83.0, 83.1, 83.2, 83.3, 83.4, 83.5, 83.6, 83.7, 83.8, 83.9, 84.0, 84.2, 84.4, 84.5, 84.6, 84.7, 84.8, 84.9, 85.0, 85.1, 85.2, 85.3, 85.4, 85.5, 85.6, 85.7, 85.9, 86.0, 86.2, 86.3, 86.4, 86.5, 86.6, 86.7, 86.8, 86.9, 87.0, 87.1, 87.2, 87.3, 87.4, 87.5, 87.7, 87.8, 87.9, 88.0, 88.1, 88.2, 88.3, 88.4, 88.5, 88.6, 88.7, 88.8, 88.9, 89.0, 89.1, 89.2, 89.3, 89.4, 89.5, 89.6, 89.7, 89.8, 90.0, 90.2, 90.3, 90.4, 90.5, 90.6, 90.8, 91.0, 91.1, 91.2, 91.4, 91.5, 91.6, 91.7, 91.8, 91.9, 92.0, 92.1, 92.2, 92.5, 92.6, 92.7, 92.8, 93.0, 93.1, 93.2, 93.3, 93.4, 93.5, 93.7, 93.8, 94.0, 94.3, 94.4, 94.5, 94.7, 94.8, 95.0, 95.2, 95.6, 95.7, 95.8, 95.9, 96.0, 96.1, 96.4, 96.6, 96.7, 96.8, 96.9, 97.0, 97.3, 97.4, 97.7, 98.0, 98.5, 98.7, 99.0, 99.2, 99.3, 99.6, 99.8, 100.0, 100.1, 100.6, 100.7, 101.0, 101.5, 102.0, 102.1, 102.6, 102.9, 103.0, 103.5, 103.6, 103.8, 104.0, 104.4, 104.6, 104.9, 105.0, 106.1, 106.2, 106.7, 107.0, 107.1, 107.2, 107.4, 109.0, 109.3, 109.9, 110.4, 111.0, 112.0, 112.2, 112.6, 112.8, 113.8, 113.9, 114.0, 114.9, 115.5, 118.0, 118.3, 118.7, 120.0, 125.4, 130.7]\n"
     ]
    },
    {
     "data": {
      "text/html": [
       "<div>\n",
       "<style scoped>\n",
       "    .dataframe tbody tr th:only-of-type {\n",
       "        vertical-align: middle;\n",
       "    }\n",
       "\n",
       "    .dataframe tbody tr th {\n",
       "        vertical-align: top;\n",
       "    }\n",
       "\n",
       "    .dataframe thead th {\n",
       "        text-align: right;\n",
       "    }\n",
       "</style>\n",
       "<table border=\"1\" class=\"dataframe\">\n",
       "  <thead>\n",
       "    <tr style=\"text-align: right;\">\n",
       "      <th></th>\n",
       "      <th>키</th>\n",
       "      <th>몸무게</th>\n",
       "    </tr>\n",
       "  </thead>\n",
       "  <tbody>\n",
       "    <tr>\n",
       "      <th>0</th>\n",
       "      <td>125.8</td>\n",
       "      <td>27.3</td>\n",
       "    </tr>\n",
       "    <tr>\n",
       "      <th>1</th>\n",
       "      <td>124.3</td>\n",
       "      <td>25.4</td>\n",
       "    </tr>\n",
       "    <tr>\n",
       "      <th>2</th>\n",
       "      <td>119.2</td>\n",
       "      <td>23.5</td>\n",
       "    </tr>\n",
       "    <tr>\n",
       "      <th>3</th>\n",
       "      <td>115.0</td>\n",
       "      <td>20.0</td>\n",
       "    </tr>\n",
       "    <tr>\n",
       "      <th>4</th>\n",
       "      <td>120.0</td>\n",
       "      <td>33.5</td>\n",
       "    </tr>\n",
       "  </tbody>\n",
       "</table>\n",
       "</div>"
      ],
      "text/plain": [
       "       키   몸무게\n",
       "0  125.8  27.3\n",
       "1  124.3  25.4\n",
       "2  119.2  23.5\n",
       "3  115.0  20.0\n",
       "4  120.0  33.5"
      ]
     },
     "execution_count": 35,
     "metadata": {},
     "output_type": "execute_result"
    }
   ],
   "source": [
    "df = pd.read_csv(\"D:\\OneDrive - 영남대학교\\Hustar\\Big_data\\실습과제\\실습 과제 2일차\\student.csv\", engine='python', encoding='cp949')\n",
    "print('데이터 셋 크기', df.shape)\n",
    "df.head()\n",
    "print(df.info())\n",
    "print(df.isnull().sum())\n",
    "print(df.describe())\n",
    "\n",
    "print(sorted(df['몸무게'].unique()))\n",
    "#df['몸무게'].replace('nan', np.nan, inplace = True)\n",
    "df.dropna(subset = ['몸무게'],axis = 0,inplace = True)\n",
    "#df['몸무게'] = df['몸무게'].astype('float')\n",
    "\n",
    "ndf = df[['키','몸무게']]\n",
    "\n",
    "ndf.head()"
   ]
  },
  {
   "cell_type": "code",
   "execution_count": 16,
   "id": "common-reference",
   "metadata": {
    "pycharm": {
     "name": "#%%\n"
    }
   },
   "outputs": [
    {
     "data": {
      "image/png": "[encoded data removed]",
      "text/plain": [
       "<Figure size 720x360 with 1 Axes>"
      ]
     },
     "metadata": {
      "needs_background": "light"
     },
     "output_type": "display_data"
    }
   ],
   "source": [
    "# 1. 사람 키와 몸무게 두 변수에 대한 산점도 그리기\n",
    "ndf.plot(kind='scatter', x = '키', y = '몸무게', c = 'b', s = 10, figsize=(10,5))\n",
    "plt.show()\n",
    "plt.close()"
   ]
  },
  {
   "cell_type": "code",
   "execution_count": 37,
   "id": "endless-screw",
   "metadata": {
    "pycharm": {
     "name": "#%%\n"
    }
   },
   "outputs": [
    {
     "name": "stdout",
     "output_type": "stream",
     "text": [
      "train data: (6777, 1)\n",
      "test data: (2905, 1)\n"
     ]
    },
    {
     "data": {
      "text/plain": [
       "LinearRegression()"
      ]
     },
     "execution_count": 37,
     "metadata": {},
     "output_type": "execute_result"
    }
   ],
   "source": [
    "# 2. 사람 키 데이터를 가지고 몸무게를 예측하는 선형 회귀모형 만들어보기\n",
    "X = ndf[['키']]\n",
    "Y = ndf['몸무게']\n",
    "\n",
    "X_train, X_test, Y_train, Y_test = train_test_split(X,Y,test_size = 0.3, random_state = 10)\n",
    "\n",
    "print('train data:', X_train.shape)\n",
    "print('test data:', X_test.shape)\n",
    "\n",
    "lr = LinearRegression()\n",
    "lr.fit(X_train,Y_train)"
   ]
  },
  {
   "cell_type": "code",
   "execution_count": 38,
   "id": "aggregate-explanation",
   "metadata": {
    "pycharm": {
     "name": "#%%\n"
    }
   },
   "outputs": [
    {
     "name": "stdout",
     "output_type": "stream",
     "text": [
      "기울기 :  [0.8581325]\n",
      "y절편 :  -82.357712798833\n"
     ]
    }
   ],
   "source": [
    "# 3. 회귀식의 기울기와 y절편 구하기\n",
    "print('기울기 : ', lr.coef_)\n",
    "print('y절편 : ', lr.intercept_)"
   ]
  },
  {
   "cell_type": "code",
   "execution_count": 40,
   "id": "immediate-registration",
   "metadata": {
    "pycharm": {
     "name": "#%%\n"
    }
   },
   "outputs": [
    {
     "name": "stdout",
     "output_type": "stream",
     "text": [
      "MSE :  82.09578683633778\n",
      "R^2 :  0.7120096060509866\n"
     ]
    }
   ],
   "source": [
    "# 4.R^2, Mean Squared Error (MSE) 계산하기\n",
    "Y_pred = lr.predict(X_test)\n",
    "\n",
    "mse = mean_squared_error(Y_test, Y_pred)\n",
    "r_square = r2_score(Y_test,Y_pred)\n",
    "print('MSE : ', mse)\n",
    "print('R^2 : ', r_square)"
   ]
  },
  {
   "cell_type": "markdown",
   "id": "premier-petroleum",
   "metadata": {
    "pycharm": {
     "name": "#%% md\n"
    }
   },
   "source": [
    "## 실습 2: 보스톤 집값 예측 모델\n",
    "### 1) 주택 방 수와 집값 두 변수에 대한 산점도 그리기\n",
    "### 2) 주택당 방 수(RM) 데이터를 가지고 집값(Target) 예측하는 선형 회귀모형 만들어보기 (train_data : test_data = 7:3 split)\n",
    "### 3) 회귀식의 기울기와 y 절편 구하기\n",
    "### 4)  R^2, MSE 계산하기"
   ]
  },
  {
   "cell_type": "markdown",
   "id": "demanding-mother",
   "metadata": {
    "pycharm": {
     "name": "#%% md\n"
    }
   },
   "source": [
    "**타겟 변수**  \n",
    ">Target: 1978년도 보스턴 주택 가격  \n",
    "506개 타운의 주택 가격 중앙값 (단위 1,000 달러)   \n",
    "\n",
    "  \n",
    "**특성 변수**  \n",
    ">CRIM: 범죄율  \n",
    "INDUS: 비소매상업지역 면적 비율  \n",
    "NOX: 일산화질소 농도  \n",
    "RM: 주택당 방 수  \n",
    "LSTAT: 인구 중 하위 계층 비율  \n",
    "B: 인구 중 흑인 비율  \n",
    "PTRATIO: 학생/교사 비율  \n",
    "ZN: 25,000 평방피트를 초과 거주지역 비율  \n",
    "CHAS: 찰스강의 경계에 위치한 경우는 1, 아니면 0  \n",
    "AGE: 1940년 이전에 건축된 주택의 비율  \n",
    "RAD: 방사형 고속도로까지의 거리  \n",
    "DIS: 직업센터의 거리  \n",
    "TAX: 재산세율  "
   ]
  },
  {
   "cell_type": "code",
   "execution_count": null,
   "id": "western-emergency",
   "metadata": {
    "pycharm": {
     "name": "#%%\n"
    }
   },
   "outputs": [],
   "source": [
    "import numpy as np\n",
    "import pandas as pd\n",
    "from sklearn.linear_model import LinearRegression\n",
    "from sklearn.metrics import mean_squared_error, r2_score\n",
    "import matplotlib.pyplot as plt\n",
    "import seaborn as sns\n",
    "from sklearn.model_selection import train_test_split"
   ]
  },
  {
   "cell_type": "code",
   "execution_count": 45,
   "id": "distributed-terrorist",
   "metadata": {
    "pycharm": {
     "name": "#%%\n"
    }
   },
   "outputs": [
    {
     "name": "stdout",
     "output_type": "stream",
     "text": [
      "    AGE       B     RM     CRIM     DIS  INDUS  LSTAT    NOX  PTRATIO  RAD  \\\n",
      "0  65.2  396.90  6.575  0.00632  4.0900   2.31   4.98  0.538     15.3    1   \n",
      "1  78.9  396.90  6.421  0.02731  4.9671   7.07   9.14  0.469     17.8    2   \n",
      "2  61.1  392.83  7.185  0.02729  4.9671   7.07   4.03  0.469     17.8    2   \n",
      "3  45.8  394.63  6.998  0.03237  6.0622   2.18   2.94  0.458     18.7    3   \n",
      "4  54.2  396.90  7.147  0.06905  6.0622   2.18   5.33  0.458     18.7    3   \n",
      "\n",
      "     ZN  TAX  CHAS  Target  \n",
      "0  18.0  296     0    24.0  \n",
      "1   0.0  242     0    21.6  \n",
      "2   0.0  242     0    34.7  \n",
      "3   0.0  222     0    33.4  \n",
      "4   0.0  222     0    36.2  \n",
      "        RM  Target\n",
      "0    6.575    24.0\n",
      "1    6.421    21.6\n",
      "2    7.185    34.7\n",
      "3    6.998    33.4\n",
      "4    7.147    36.2\n",
      "..     ...     ...\n",
      "501  6.593    22.4\n",
      "502  6.120    20.6\n",
      "503  6.976    23.9\n",
      "504  6.794    22.0\n",
      "505  6.030    11.9\n",
      "\n",
      "[506 rows x 2 columns]\n"
     ]
    }
   ],
   "source": [
    "df = pd.read_csv(\"D:\\OneDrive - 영남대학교\\Hustar\\Big_data\\실습과제\\실습 과제 2일차\\Boston_house.csv\", engine = 'python', encoding = 'cp949')\n",
    "ndf = df[['RM','Target']]\n",
    "\n",
    "print(df.head())\n",
    "print(ndf)"
   ]
  },
  {
   "cell_type": "code",
   "execution_count": 47,
   "id": "fourth-sewing",
   "metadata": {
    "pycharm": {
     "name": "#%%\n"
    }
   },
   "outputs": [
    {
     "data": {
      "image/png": "[encoded data removed]",
      "text/plain": [
       "<Figure size 720x360 with 1 Axes>"
      ]
     },
     "metadata": {
      "needs_background": "light"
     },
     "output_type": "display_data"
    }
   ],
   "source": [
    "# 1. 주택 방 수와 집 값 두 변수에 대한 산점도 그리기\n",
    "ndf.plot(kind = 'scatter' ,x = 'RM', y = 'Target', c = 'b', s = 10, figsize = (10,5))\n",
    "plt.show()\n",
    "plt.close()"
   ]
  },
  {
   "cell_type": "code",
   "execution_count": 53,
   "id": "occasional-syria",
   "metadata": {
    "pycharm": {
     "name": "#%%\n"
    }
   },
   "outputs": [
    {
     "data": {
      "text/plain": [
       "LinearRegression()"
      ]
     },
     "execution_count": 53,
     "metadata": {},
     "output_type": "execute_result"
    }
   ],
   "source": [
    "# 2. 주택당 방수 (RM) 데이터를 가지고 집값(Target) 예측하는 선형 회귀모형 만들어 보기\n",
    "\n",
    "X = ndf[['RM']]\n",
    "Y = ndf['Target']\n",
    "\n",
    "X_train,X_test,Y_train,Y_test = train_test_split(X,Y,test_size = 0.3,random_state = 10)\n",
    "\n",
    "lr = LinearRegression()\n",
    "lr.fit(X_train,Y_train)"
   ]
  },
  {
   "cell_type": "code",
   "execution_count": 57,
   "id": "7e7e9762",
   "metadata": {},
   "outputs": [
    {
     "name": "stdout",
     "output_type": "stream",
     "text": [
      "기울기 :  [8.80317873]\n",
      "y절편 :  -33.08792189210347\n"
     ]
    }
   ],
   "source": [
    "# 3. 회귀식의 기울기와 y절편 구하기\n",
    "print('기울기 : ',lr.coef_)\n",
    "print('y절편 : ',lr.intercept_)"
   ]
  },
  {
   "cell_type": "code",
   "execution_count": 64,
   "id": "dac21cf9",
   "metadata": {},
   "outputs": [
    {
     "name": "stdout",
     "output_type": "stream",
     "text": [
      "MSE :  45.07733942471831\n",
      "R^2 :  0.5383003344910231\n"
     ]
    }
   ],
   "source": [
    "# 4. R^2, Mean Squared Error ( MSE) 계산하기\n",
    "Y_pred = lr.predict(X_test)\n",
    "\n",
    "mse = mean_squared_error(Y_test,Y_pred)\n",
    "r2 = r2_score(Y_test,Y_pred)\n",
    "\n",
    "print(\"MSE : \",mse)\n",
    "print(\"R^2 : \",r2)"
   ]
  }
 ],
 "metadata": {
  "kernelspec": {
   "display_name": "Python 3 (ipykernel)",
   "language": "python",
   "name": "python3"
  },
  "language_info": {
   "codemirror_mode": {
    "name": "ipython",
    "version": 3
   },
   "file_extension": ".py",
   "mimetype": "text/x-python",
   "name": "python",
   "nbconvert_exporter": "python",
   "pygments_lexer": "ipython3",
   "version": "3.8.11"
  }
 },
 "nbformat": 4,
 "nbformat_minor": 5
}
