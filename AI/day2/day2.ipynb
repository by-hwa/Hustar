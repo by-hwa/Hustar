{
 "cells": [
  {
   "cell_type": "code",
   "execution_count": 22,
   "id": "1041a14e",
   "metadata": {},
   "outputs": [],
   "source": [
    "import numpy as np\n",
    "import cvxpy as cvx"
   ]
  },
  {
   "cell_type": "code",
   "execution_count": 8,
   "id": "01cdae70",
   "metadata": {},
   "outputs": [
    {
     "name": "stdout",
     "output_type": "stream",
     "text": [
      "[[2.99999147]\n",
      " [2.99999147]]\n"
     ]
    }
   ],
   "source": [
    "# example\n",
    "H = np.matrix([[2,0],[0,2]])\n",
    "g = -np.matrix([[6],[6]])\n",
    "\n",
    "x = np.zeros((2,1))\n",
    "alpha = 0.2\n",
    "\n",
    "for i in range(25):\n",
    "    df = H*x + g\n",
    "    x = x - alpha*df\n",
    "    \n",
    "print(x)"
   ]
  },
  {
   "cell_type": "code",
   "execution_count": 18,
   "id": "3962680a",
   "metadata": {},
   "outputs": [
    {
     "name": "stdout",
     "output_type": "stream",
     "text": [
      "[[2.]\n",
      " [3.]]\n"
     ]
    }
   ],
   "source": [
    "#example\n",
    "\n",
    "f = -np.array([[3],[3/2]])\n",
    "\n",
    "lb = np.array([[-1],[0]])\n",
    "ub = np.array([[2],[3]])\n",
    "\n",
    "x = np.zeros(shape = (2,1))\n",
    "alpha = 0.2\n",
    "\n",
    "for i in range(25):\n",
    "    x = x - alpha * f\n",
    "    \n",
    "    # lb constraints\n",
    "    lb_tf = lb<x\n",
    "    x = x * lb_tf + lb * ~lb_tf\n",
    "    \n",
    "    # ub constraints\n",
    "    ub_tf = ub>x\n",
    "    x = x * ub_tf + ub * ~ub_tf\n",
    "    \n",
    "\n",
    "print(x)"
   ]
  },
  {
   "cell_type": "code",
   "execution_count": 24,
   "id": "4f585f26",
   "metadata": {},
   "outputs": [
    {
     "name": "stdout",
     "output_type": "stream",
     "text": [
      "[[1.99999999]\n",
      " [2.99999999]]\n",
      "-10.499999966365493\n"
     ]
    }
   ],
   "source": [
    "# example\n",
    "f = np.array([[3],[3/2]])\n",
    "\n",
    "lb = np.array([[-1],[0]])\n",
    "ub = np.array([[2],[3]])\n",
    "\n",
    "x = cvx.Variable([2,1])\n",
    "\n",
    "obj = cvx.Minimize(-f.T @ x)\n",
    "constraints = [lb <= x, x <= ub]\n",
    "\n",
    "prob = cvx.Problem(obj, constraints)\n",
    "result = prob.solve()\n",
    "\n",
    "print(x.value)\n",
    "print(result)"
   ]
  },
  {
   "cell_type": "code",
   "execution_count": null,
   "id": "9f644781",
   "metadata": {},
   "outputs": [],
   "source": [
    "# quadratic Programming\n",
    "\n",
    "f = np.array([[3],[4]])\n",
    "H = np.array([[1/2,0],[0,0]])\n",
    "\n"
   ]
  }
 ],
 "metadata": {
  "kernelspec": {
   "display_name": "Python 3 (ipykernel)",
   "language": "python",
   "name": "python3"
  },
  "language_info": {
   "codemirror_mode": {
    "name": "ipython",
    "version": 3
   },
   "file_extension": ".py",
   "mimetype": "text/x-python",
   "name": "python",
   "nbconvert_exporter": "python",
   "pygments_lexer": "ipython3",
   "version": "3.8.11"
  }
 },
 "nbformat": 4,
 "nbformat_minor": 5
}
