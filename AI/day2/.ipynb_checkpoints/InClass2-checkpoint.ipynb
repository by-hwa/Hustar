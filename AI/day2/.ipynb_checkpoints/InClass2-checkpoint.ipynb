{
 "cells": [
  {
   "cell_type": "code",
   "execution_count": 1,
   "id": "20ea36ac",
   "metadata": {},
   "outputs": [],
   "source": [
    "import numpy as np\n",
    "import cvxpy as cvx"
   ]
  },
  {
   "cell_type": "code",
   "execution_count": 19,
   "id": "7d51c502",
   "metadata": {},
   "outputs": [
    {
     "name": "stdout",
     "output_type": "stream",
     "text": [
      "[[1.00000001]\n",
      " [2.00000001]]\n",
      "-8.000000029571414\n"
     ]
    }
   ],
   "source": [
    "# exercise 1\n",
    "f = np.array([[2],[3]])\n",
    "\n",
    "lb = np.array([[1],[2]])\n",
    "\n",
    "A = np.array([[2,2],[1,2]])\n",
    "b = np.array([[20,14]])\n",
    "\n",
    "x = cvx.Variable([2,1])\n",
    "\n",
    "obj = cvx.Minimize(-f.T @ x)\n",
    "\n",
    "\n",
    "constraints = [A@x <= b, lb >= x]\n",
    "\n",
    "prob = cvx.Problem(obj, constraints)\n",
    "result = prob.solve()\n",
    "\n",
    "print(x.value)\n",
    "print(result)"
   ]
  },
  {
   "cell_type": "code",
   "execution_count": 23,
   "id": "f9f144e8",
   "metadata": {},
   "outputs": [
    {
     "name": "stdout",
     "output_type": "stream",
     "text": [
      "[[-1.53463842e-25]\n",
      " [ 5.56602079e-23]]\n",
      "-1.1116695203195033e-22\n"
     ]
    }
   ],
   "source": [
    "# exercise 2\n",
    "f = np.array([[1],[2]])\n",
    "H = np.array([[1/2,0],[0,0]])\n",
    "lb = np.array([[0],[0]])\n",
    "\n",
    "A = np.array([[-2,-3],[3,4],[2,4]])\n",
    "b = np.array([[12,80,80]])\n",
    "\n",
    "x = cvx.Variable([2,1])\n",
    "\n",
    "obj = cvx.Minimize(cvx.quad_form(x,H)+-f.T @ x)\n",
    "\n",
    "constraints = [A@x <= b, lb >= x]\n",
    "\n",
    "prob = cvx.Problem(obj, constraints)\n",
    "result = prob.solve()\n",
    "\n",
    "print(x.value)\n",
    "print(result)"
   ]
  },
  {
   "cell_type": "code",
   "execution_count": 41,
   "id": "57f52961",
   "metadata": {},
   "outputs": [
    {
     "name": "stdout",
     "output_type": "stream",
     "text": [
      "[[ 1.3667287e+14]\n",
      " [-1.3667287e+14]]\n"
     ]
    }
   ],
   "source": [
    "# exercise 3\n",
    "H = np.matrix([[5,-1],[-1,5]])\n",
    "g = -np.matrix([[-4],[4]])\n",
    "\n",
    "x = np.zeros(shape = (2,1))\n",
    "alpha = 0.2\n",
    "\n",
    "for i in range(100):\n",
    "    df = H.T*x+H*x+g\n",
    "    x = x - alpha * df\n",
    "    \n",
    "print(x)"
   ]
  },
  {
   "cell_type": "code",
   "execution_count": null,
   "id": "de6d3ae6",
   "metadata": {},
   "outputs": [],
   "source": []
  }
 ],
 "metadata": {
  "kernelspec": {
   "display_name": "Python 3 (ipykernel)",
   "language": "python",
   "name": "python3"
  },
  "language_info": {
   "codemirror_mode": {
    "name": "ipython",
    "version": 3
   },
   "file_extension": ".py",
   "mimetype": "text/x-python",
   "name": "python",
   "nbconvert_exporter": "python",
   "pygments_lexer": "ipython3",
   "version": "3.8.11"
  }
 },
 "nbformat": 4,
 "nbformat_minor": 5
}
